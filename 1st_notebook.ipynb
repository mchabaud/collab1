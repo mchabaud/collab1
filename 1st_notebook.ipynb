{
 "cells": [
  {
   "cell_type": "code",
   "execution_count": 8,
   "metadata": {},
   "outputs": [],
   "source": [
    "import pandas as pd\n",
    "import numpy as np\n",
    "import matplotlib.pyplot as plt\n",
    "#les packages\n"
   ]
  },
  {
   "cell_type": "code",
   "execution_count": null,
   "metadata": {},
   "outputs": [],
   "source": [
    "#I] construire la base de données"
   ]
  },
  {
   "cell_type": "code",
   "execution_count": null,
   "metadata": {},
   "outputs": [],
   "source": [
    "#base_indiv\n",
    "\n",
    "base_indiv = pd.read_spss('base_indiv.sav')\n",
    "base_indiv = base_indiv[[\"ess8_id\", \"nuts2\", \"ppltrst\", \"polintr\", \"psppsgva\", \"cptppola\", \"trstplt\", \"vote\",\"prtvtcfr\", \"pbldmn\",\"bctprd\",\"pstplonl\", \"lrscale\", \"stflife\", \"stfedu\", \"stfhlth\", \"gincdif\", \"mnrgtjb\", \"freehms\", \"euftf\", \"imwbcnt\", \"crmvct\", \"aesfdrk\", \"health\", \"rlgblg\", \"blgetmg\", \"clmchng\", \"gndr\", \"agea\", \"chldhm\", \"edlvdfr\",\"uemp3m\", \"tporgwk\", \"mbtru\", \"hinctnta\",\"ipstrgv\", \"imptrad\"]]\n",
    "base_indiv = base_indiv.rename(columns={'nuts2' : 'region'})"
   ]
  },
  {
   "cell_type": "code",
   "execution_count": null,
   "metadata": {},
   "outputs": [],
   "source": [
    "#regarder les données\n",
    "base_indiv.columns\n",
    "print(base_indiv.head())\n",
    "print(base_indiv.dtypes)"
   ]
  },
  {
   "cell_type": "markdown",
   "metadata": {},
   "source": [
    "L'ensemble des variables sont catégorielles"
   ]
  },
  {
   "cell_type": "code",
   "execution_count": null,
   "metadata": {},
   "outputs": [],
   "source": [
    "#encodage et variables catégorielles\n",
    "\n",
    "from sklearn.preprocessing import LabelEncoder \n",
    "labelencoder= LabelEncoder()\n",
    "base_indiv['ppltrst'] = labelencoder.fit_transform(base_indiv['ppltrst'])"
   ]
  }
 ],
 "metadata": {
  "kernelspec": {
   "display_name": "Python 3",
   "language": "python",
   "name": "python3"
  },
  "language_info": {
   "codemirror_mode": {
    "name": "ipython",
    "version": 3
   },
   "file_extension": ".py",
   "mimetype": "text/x-python",
   "name": "python",
   "nbconvert_exporter": "python",
   "pygments_lexer": "ipython3",
   "version": "3.8.3"
  }
 },
 "nbformat": 4,
 "nbformat_minor": 4
}
