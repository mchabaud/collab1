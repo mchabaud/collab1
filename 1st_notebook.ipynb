{
 "cells": [
  {
   "cell_type": "code",
   "execution_count": 1,
   "metadata": {},
   "outputs": [],
   "source": [
    "import pandas as pd\n",
    "import numpy as np\n",
    "import matplotlib.pyplot as plt\n",
    "\n",
    "import statsmodels.api as sm\n",
    "import statsmodels.formula.api as smf\n",
    "import seaborn as sns \n",
    "#les packages\n"
   ]
  },
  {
   "cell_type": "code",
   "execution_count": null,
   "metadata": {},
   "outputs": [],
   "source": [
    "#I] construire la base de données"
   ]
  },
  {
   "cell_type": "code",
   "execution_count": null,
   "metadata": {},
   "outputs": [],
   "source": [
    "pip install pyreadstat\n",
    "import pyreadstat\n",
    "df = pd.read_spss('ESS8.sav')"
   ]
  },
  {
   "cell_type": "code",
   "execution_count": null,
   "metadata": {},
   "outputs": [],
   "source": [
    "df3 = df[[\"ess8_reg\",\"nuts1\",\"nuts2\", \"ppltrst\", \"polintr\", \"psppsgva\", \"cptppola\", \"trstplt\", \"vote\",\"prtvtcfr\", \"pbldmn\",\"bctprd\",\"pstplonl\", \"lrscale\", \"stflife\", \"stfedu\", \"stfhlth\", \"gincdif\",\"freehms\", \"euftf\", \"imwbcnt\", \"sclmeet\", \"crmvct\", \"aesfdrk\",  \"atchctr\", \"rlgblg\",  \"clmchng\", \"ccrdprs\", \"dfincac\", \"hhmmb\", \"gndr\", \"agea\",\"marsts\", \"chldhm\", \"edulvlb\", \"edctn\", \"rtrd\",\"uemp12m\",\"mbtru\", \"hinctnta\",\"ipeqopt\",  \"impsafe\", \"imptrad\" ]]"
   ]
  },
  {
   "cell_type": "code",
   "execution_count": null,
   "metadata": {},
   "outputs": [],
   "source": [
    "#regarder les données\n",
    "df.shape\n",
    "df.columns\n",
    "print(df.head())\n",
    "print(df.dtypes)"
   ]
  },
  {
   "cell_type": "code",
   "execution_count": null,
   "metadata": {},
   "outputs": [],
   "source": [
    "df5=df[['health']]\n",
    "\n",
    "df6=df[['ipshabt']]\n",
    "\n",
    "df7=df[['pdwrk']]\n",
    "\n",
    "df8=df[['blgetmg']]\n",
    "\n",
    "#comme ça marché pas avec ces quatre variables, j'ai crée des df distincts et \n",
    "#je les ai joins"
   ]
  },
  {
   "cell_type": "code",
   "execution_count": null,
   "metadata": {},
   "outputs": [],
   "source": [
    "d_ESS8= pd.concat([df3,df5, df6, df7, df8], axis=1)\n",
    "#base de données finales "
   ]
  },
  {
   "cell_type": "code",
   "execution_count": null,
   "metadata": {},
   "outputs": [],
   "source": [
    "## II] statistiques descriptives et nétoyage "
   ]
  },
  {
   "cell_type": "code",
   "execution_count": null,
   "metadata": {},
   "outputs": [],
   "source": [
    "d_ESS8.shape\n",
    "d_ESS8.columns\n",
    "d_ESS8.head(10)\n",
    "d_ESS8.sample(10) #prend 10 au hasard\n",
    "d_ESS8.sample(frac = 0.05) #tu en prends une proportion 0,05\n"
   ]
  },
  {
   "cell_type": "code",
   "execution_count": null,
   "metadata": {},
   "outputs": [],
   "source": [
    "#on va s'intérésser aux ttpes"
   ]
  },
  {
   "cell_type": "code",
   "execution_count": null,
   "metadata": {},
   "outputs": [],
   "source": [
    "#on va voir le nombre de région\n",
    "d_ESS8[['ess8_reg','nuts1', 'nuts2']].nunique()\n",
    "# 21, 12 et 21 respectivement unique régions\n",
    "# on ne va garder que nuts 2 car les deux autres sont redodants pour les régions\n",
    "d_ESS8=d_ESS8.drop([\"ess8_reg\",\"nuts1\"], axis = 1)"
   ]
  },
  {
   "cell_type": "code",
   "execution_count": null,
   "metadata": {},
   "outputs": [],
   "source": [
    "\n",
    "x = d_ESS8.groupby('nuts2').count()['vote']\n",
    "x.head()\n",
    "x.plot(kind = \"bar\")\n",
    "\n",
    "#on a un barchart\n",
    "#on trie par régions et on compte le nombre de votant"
   ]
  },
  {
   "cell_type": "code",
   "execution_count": null,
   "metadata": {},
   "outputs": [],
   "source": [
    "print(d_ESS8['agea'].hist())\n",
    "sns.distplot(d_ESS8[\"agea\"] , color=\"skyblue\")"
   ]
  },
  {
   "cell_type": "code",
   "execution_count": null,
   "metadata": {},
   "outputs": [],
   "source": [
    "d_ESS8['vote'].mean()\n",
    "#pb: varaible catégorielle: on peut pas faire de stats !"
   ]
  },
  {
   "cell_type": "code",
   "execution_count": null,
   "metadata": {},
   "outputs": [],
   "source": [
    "# elles sont toutes des variables catégorielles donc on va changer ça\n",
    "print(d_ESS8.dtypes)\n"
   ]
  },
  {
   "cell_type": "code",
   "execution_count": null,
   "metadata": {},
   "outputs": [],
   "source": [
    "#importance de la variable ppltrst, on va faire des statostiques dessus\n",
    "#je veux changer \"must people can be trsuted par 9 et you can't be too careful par 0\n",
    "# et après faire un graphique avec l'âge sur matplotlib\""
   ]
  },
  {
   "cell_type": "code",
   "execution_count": null,
   "metadata": {},
   "outputs": [],
   "source": [
    "z=d_ESS8[['ppltrst','agea']]\n",
    "z['ppltrst'].dtype\n",
    "#categorical dtype\n",
    "#les variables catégorielles sont différentes à utiliser sur python\n",
    "(z[\"ppltrst\"] ==\"Most people can be trusted\").sum()\n",
    "\n",
    "a= z.loc[(z[\"ppltrst\"] ==\"Most people can be trusted\" ) ==True]\n",
    "if (a[\"ppltrst\"] ==\"Most people can be trusted\" ).all()==True:\n",
    "    (a[\"ppltrst\"])=10\n",
    "    print(a)\n",
    "\n",
    "#il y en a 14\n",
    "(z[\"ppltrst\"] ==\"You can't be too careful\").sum()\n",
    "\n",
    "b= z.loc[(z[\"ppltrst\"] ==\"You can't be too careful\") ==True]\n",
    "if (b[\"ppltrst\"] ==\"You can't be too careful\").all()==True:\n",
    "    (b[\"ppltrst\"])=0\n",
    "    print(b)\n",
    "#il y a en 116\n",
    "c= z.loc[(z[\"ppltrst\"] != \"You can't be too careful\")&(z[\"ppltrst\"] != \"Most people can be trusted\")==True]\n",
    "\n",
    "e=pd.concat([a,b,c])\n"
   ]
  },
  {
   "cell_type": "code",
   "execution_count": null,
   "metadata": {},
   "outputs": [],
   "source": [
    "e['ppltrst'].dtype\n",
    "e['ppltrst']=e['ppltrst'].astype(int)\n",
    "\n",
    "e['agea']=e['agea'].astype(float)\n",
    "#on change le type ppltrst et il devient interger\n",
    "#On peut enfin faire le plot des deux variables\n",
    "#ainsi que des matrices de covariance et régression\n",
    "print(e['ppltrst'].hist())\n",
    "print(e['agea'].hist())\n",
    "\n",
    "\n",
    " e.corr()\n",
    "sns.heatmap(e.corr(), cmap='coolwarm', annot=True, fmt=\".2f\")\n",
    "\n",
    "results = smf.ols('ppltrst~ agea', data=e).fit()\n",
    "\n",
    "print(results.summary())\n",
    "#très faible corrélation et pas significatif \n",
    "\n",
    "ax = pd.plotting.scatter_matrix(e[[\"agea\", \"ppltrst\"]], figsize = (15,15))\n",
    "ax\n",
    "plt.show()"
   ]
  },
  {
   "cell_type": "code",
   "execution_count": null,
   "metadata": {},
   "outputs": [],
   "source": [
    "#III]première régression et multinomiale \n",
    "#On retounre sur d_ESS8\n",
    "#On veut axpliquer la confiance \n",
    "# on peut commencer par sélectionner un sous-sample\n",
    "#et faire une petite régression des familles\n",
    "i=d_ESS8[[\"stflife\", \"ppltrst\",\"stfedu\",\"euftf\" ]]\n",
    "i.fillna(0)\n",
    "#enlever les na"
   ]
  },
  {
   "cell_type": "code",
   "execution_count": null,
   "metadata": {},
   "outputs": [],
   "source": [
    "#IV]encoder\n",
    "from sklearn.preprocessing import LabelEncoder\n",
    "labelencoder= LabelEncoder()\n",
    "base_indiv['ppltrst'] = labelencoder.fit_transform(base_indiv['ppltrst'])\n",
    "#la fonction transforme d'une catégorielle \n",
    "#marche pas pour trst\n",
    "# change de catégorie en numériUE\n",
    "#Pb si déjà des chiffres \n",
    "# le code envoyé associe un nombre aux valeurs \n",
    "#la première vaut 0\n",
    "\n",
    "\n"
   ]
  },
  {
   "cell_type": "code",
   "execution_count": null,
   "metadata": {},
   "outputs": [],
   "source": [
    "#on crée une nouvelle base de données afin de faire nos cinq proxys et les\n",
    "#cinq va individuelles\n"
   ]
  },
  {
   "cell_type": "code",
   "execution_count": null,
   "metadata": {},
   "outputs": [],
   "source": [
    "#on va tenter de résoudre le pb d'encodage\n",
    "#sur le site des chercheurs ils ont résolu le pb, les va\n",
    "#sont encodées implicitement\n",
    "base_indiv = pd.read_spss('ESS8.sav', convert_categoricals=False)\n",
    "base_indiv = base_indiv[[ \"ess8_id\", 'ccnthum',\"nuts2\", \"ppltrst\", \"cptppola\", \"trstplt\", \"clmchng\", \"polintr\", \"vote\", \"pbldmn\",\"bctprd\",\"pstplonl\", \"mbtru\", \"stflife\", \"stfedu\", \"stfhlth\", \"aesfdrk\", \"health\",  \"gincdif\", \"euftf\", \"imwbcnt\", \"ipstrgv\", \"mnrgtjb\", \"freehms\", \"imptrad\", \"rlgblg\", \"blgetmg\", \"crmvct\", \"prtvtcfr\", \"gndr\", \"agea\", \"chldhm\", \"edlvdfr\",\"uemp3m\", \"tporgwk\", \"hinctnta\"]]"
   ]
  },
  {
   "cell_type": "code",
   "execution_count": null,
   "metadata": {},
   "outputs": [],
   "source": [
    "##V] \n",
    "base_indiv['FN'] = np.where(base_indiv['prtvtcfr'] == 2, 1, 0)\n",
    "#si deux ça prend la valeur 1 sinon prend la valeur 0 (fonction where a trois arguments)\n",
    "#dummie vote populist\n",
    "#A)#je m'occupe du proxy bien-être\n",
    "\n",
    "health=  base_indiv[['stflife', 'stfedu', 'stfhlth', 'aesfdrk', 'health']]\n",
    "health.describe()\n",
    "#how satisfied with life (stflife)bien-être \n",
    "#state of education (stfedu)bien-être \n",
    "#state of health (stfhlth)bien-être \n",
    "#feeling of safety (correlation avec precedente question = 0.09** (en fait -0.09 mais ajusté du signe mais échelle ordonnée inverse donc corrélation est en fait bien positive) ) (aesfdrk)bien-être \n",
    "#feeling health (health)bien-être \n",
    " \n",
    "health.head()\n",
    "print('NaN occurrences in Columns:')\n",
    "print(health.isnull().sum(axis=0))\n",
    "#il y a des na dans chaque colonnes"
   ]
  },
  {
   "cell_type": "code",
   "execution_count": null,
   "metadata": {},
   "outputs": [],
   "source": [
    "#on enlève les na et avant on les compte\n",
    "health = health.apply(lambda x: x.fillna(x.mean()), axis = 0)\n",
    "\n",
    "print(health.isnull().sum(axis=0))\n",
    "#on vérifie que ça marche"
   ]
  },
  {
   "cell_type": "code",
   "execution_count": null,
   "metadata": {},
   "outputs": [],
   "source": [
    "#on renomme les colonnes\n",
    "health=health.rename(columns= {'stflife':'satisfait'})\n",
    "health=health.rename(columns= {'stfedu':'education'})\n",
    "health=health.rename(columns= {'stfhlth':'institutions'})\n",
    "health=health.rename(columns= {'aesfdrk':'securite'})"
   ]
  },
  {
   "cell_type": "code",
   "execution_count": null,
   "metadata": {},
   "outputs": [],
   "source": [
    "#on va tester le lien entre les différentes variables\n",
    "#pour construire notre proxy compris entre 0 et 1\n",
    "#sur l'état de santé subjectif de l'individu\n",
    "#afin de voir\n",
    "#s'il a un impact positif sur le vote populiste"
   ]
  },
  {
   "cell_type": "code",
   "execution_count": null,
   "metadata": {},
   "outputs": [],
   "source": [
    "health.corr()\n",
    "sns.heatmap(health.corr(), cmap='coolwarm', annot=True, fmt=\".2f\")"
   ]
  },
  {
   "cell_type": "code",
   "execution_count": null,
   "metadata": {},
   "outputs": [],
   "source": [
    "#elles sont toutes corrélées et dans le sens attendu\n",
    "#celle qui apparait la moins corréle est celle du \"feeling of safety\"\n",
    "#qui n'est peut être pas un bon proxy pour la santé\n",
    "#on l'enlève et on va la mettre dans demande de protection\n",
    "#et on va mettre poids1/4 pour chaque va\n",
    "health=health.drop(['securite'], axis=1)\n",
    "#il faudrait renverser les valeurs pour health\n",
    "#pour qu'elle aille dans le même ordre\n",
    "health['health'].replace(to_replace = [1,2,3,4,5], value = [5,4,3,2,1], inplace = True)\n",
    "sns.heatmap(health.corr(), cmap='coolwarm', annot=True, fmt=\".2f\")"
   ]
  },
  {
   "cell_type": "code",
   "execution_count": null,
   "metadata": {},
   "outputs": [],
   "source": []
  },
  {
   "cell_type": "code",
   "execution_count": null,
   "metadata": {},
   "outputs": [],
   "source": [
    "#satisfait est uen va qui va de 0  à 10\n",
    "#education de 0 a 10\n",
    "# etat de sante de 0 a 1\n",
    "#mais health de 1 à 5\n",
    "# donc pour les trois premières on va diviser par 10\n",
    "# et la dernière soustraire par 1 et diviser par 4\n",
    "health['satisfait']= health['satisfait']/10\n",
    "health['institutions']= health['institutions']/10\n",
    "health['education']=health['education']/10\n",
    "health['health']=health['health'] -1\n",
    "health['health']=health['health']/4\n",
    "health.describe()\n",
    "#tout est bien normaliser, je peux créer mon proxy"
   ]
  },
  {
   "cell_type": "code",
   "execution_count": null,
   "metadata": {},
   "outputs": [],
   "source": []
  },
  {
   "cell_type": "code",
   "execution_count": null,
   "metadata": {},
   "outputs": [],
   "source": [
    "proxy_sante=health['satisfait']/4+health['institutions']/4+health['education']/4+health['health']/4"
   ]
  },
  {
   "cell_type": "code",
   "execution_count": null,
   "metadata": {},
   "outputs": [],
   "source": [
    "print(proxy_sante.plot(kind='bar'))\n",
    "      #on va s'arranger pour avoir dix chiffres\n",
    "      "
   ]
  },
  {
   "cell_type": "code",
   "execution_count": null,
   "metadata": {},
   "outputs": [],
   "source": [
    "proxy_sante =proxy_sante*10\n",
    "proxy_sante =round(proxy_sante)\n",
    "print(proxy_sante.hist())"
   ]
  },
  {
   "cell_type": "code",
   "execution_count": null,
   "metadata": {},
   "outputs": [],
   "source": [
    "#vérifier pertinance pour expliquer fn\n",
    "e=base_indiv[[\"stflife\", 'FN', 'health', 'stfedu', 'stfhlth']]\n",
    "e.corr()\n",
    "sns.heatmap(e.corr(), cmap='coolwarm', annot=True, fmt=\".2f\")\n",
    "#grosse importance de l'éducation\n",
    "\n"
   ]
  },
  {
   "cell_type": "code",
   "execution_count": null,
   "metadata": {},
   "outputs": [],
   "source": [
    "results = smf.ols('FN~ stflife + health + stfedu +stfhlth', data=e).fit()\n",
    "print(results.summary())\n",
    "#comme prévu éducation a un impact négatif sur le vote fn\n",
    "#aisni que stfhlth (presque significatif à 5%)\n",
    "\n",
    "#on peut essayer avec le proxy\n",
    "\n",
    "proxy_sante= pd.DataFrame(proxy_sante)\n",
    "proxy_sante.columns = ['proxy_sante']\n",
    "base_indiv=pd.concat([base_indiv, proxy_sante],axis=1)\n",
    "#on fout le proxy dans la base principale\n",
    "result_1 = smf.ols('FN~ proxy_sante',data=base_indiv).fit()\n",
    "print(result_1.summary())\n",
    "\n",
    "result_2 = smf.ols('FN~ proxy_sante+ppltrst',data=base_indiv).fit()\n",
    "print(result_2.summary())\n",
    "\n"
   ]
  },
  {
   "cell_type": "code",
   "execution_count": null,
   "metadata": {},
   "outputs": [],
   "source": [
    "#B) progressisme sociétal\n",
    "\n",
    "#mnrgtjb : 1 à 5 ; 1 = hommes devraient être avantagés sur marché travail / 5 = non\n",
    "#freehms : 1 à 5 ; 1 = homo devraient pouvoir vivre librement / 5 = non\n",
    "#imptrad : 1 à 6 ; 1 = traditions très importantes / 6 = trad pas importantes\n",
    "#la variable deux doit être inversée"
   ]
  },
  {
   "cell_type": "code",
   "execution_count": null,
   "metadata": {},
   "outputs": [],
   "source": [
    "progressisme= base_indiv[['mnrgtjb', 'freehms', 'imptrad']]\n",
    "progressisme.describe()\n",
    "# les deux premières vont de 1 à 5, la dernière de 1 à 6\n"
   ]
  },
  {
   "cell_type": "code",
   "execution_count": null,
   "metadata": {},
   "outputs": [],
   "source": [
    "#on enlève les na\n",
    "print('NaN occurrences in Columns:')\n",
    "print(progressisme.isnull().sum(axis=0))"
   ]
  },
  {
   "cell_type": "code",
   "execution_count": null,
   "metadata": {},
   "outputs": [],
   "source": [
    "progressisme = progressisme.apply(lambda x: x.fillna(x.mean()), axis = 0)\n",
    "print(progressisme.isnull().sum(axis=0))\n",
    "#plus de na"
   ]
  },
  {
   "cell_type": "code",
   "execution_count": null,
   "metadata": {},
   "outputs": [],
   "source": [
    "#on renomme les colonnes\n",
    "progressisme=progressisme.rename(columns= {'mnrgtjb':'hommes'})\n",
    "progressisme=progressisme.rename(columns= {'freehms':'gays'})\n",
    "progressisme=progressisme.rename(columns= {'imptrad':'traditions'})"
   ]
  },
  {
   "cell_type": "code",
   "execution_count": null,
   "metadata": {},
   "outputs": [],
   "source": []
  },
  {
   "cell_type": "code",
   "execution_count": null,
   "metadata": {},
   "outputs": [],
   "source": [
    "#on met la seconde va dans le bon sens pour que les trois aient la même logique causale\n",
    "progressisme['gays'].replace(to_replace = [1,2,3,4,5], value = [5,4,3,2,1], inplace = True)"
   ]
  },
  {
   "cell_type": "code",
   "execution_count": null,
   "metadata": {},
   "outputs": [],
   "source": [
    "progressisme.corr()\n",
    "#bien corrélé dans le bon sens\n",
    "sns.heatmap(progressisme.corr(), cmap='coolwarm', annot=True, fmt=\".2f\")"
   ]
  },
  {
   "cell_type": "code",
   "execution_count": null,
   "metadata": {},
   "outputs": [],
   "source": [
    "#petite régression préalable pour voir la pertinance des va\n",
    "\n",
    "results_3 = smf.ols('FN~ mnrgtjb + freehms + imptrad ', data=base_indiv).fit()\n",
    "print(results_3.summary())\n",
    "base_indiv[['FN', 'mnrgtjb',  'freehms' ,'imptrad']].corr()\n",
    "#pas fou fous, un seul significatif à 10% qui est trad"
   ]
  },
  {
   "cell_type": "code",
   "execution_count": null,
   "metadata": {},
   "outputs": [],
   "source": [
    "#on construit proxy\n",
    "progressisme['hommes']= progressisme['hommes']-1\n",
    "progressisme['hommes']= progressisme['hommes']/4\n",
    "progressisme['gays']= progressisme['gays']-1\n",
    "progressisme['gays']= progressisme['gays']/4\n",
    "progressisme['traditions']= progressisme['traditions']-1\n",
    "progressisme['traditions']= progressisme['traditions']/5\n",
    "progressisme.describe()\n",
    "#okayyy"
   ]
  },
  {
   "cell_type": "code",
   "execution_count": null,
   "metadata": {},
   "outputs": [],
   "source": [
    "proxy_progressisme=progressisme['hommes']/3+progressisme['gays']/3+progressisme['traditions']/3"
   ]
  },
  {
   "cell_type": "code",
   "execution_count": null,
   "metadata": {},
   "outputs": [],
   "source": [
    "#on a crée le proxy en pondérant par 1/3 chacun\n",
    "proxy_progressisme =proxy_progressisme*10\n",
    "proxy_progressisme =round(proxy_progressisme)\n",
    "print(proxy_progressisme .hist())\n",
    "#distribution étonnante\n"
   ]
  },
  {
   "cell_type": "code",
   "execution_count": null,
   "metadata": {},
   "outputs": [],
   "source": [
    "proxy_progressisme= pd.DataFrame(proxy_progressisme)\n",
    "proxy_progressisme.columns=['proxy_progressisme']\n",
    "base_indiv=pd.concat([base_indiv, proxy_progressisme],axis=1)\n",
    "#on fout le proxy dans la base principale\n",
    "result_4 = smf.ols('FN~ proxy_progressisme',data=base_indiv).fit()\n",
    "print(result_1.summary())\n",
    "\n",
    "result_5 = smf.ols('FN~ proxy_progressisme+ppltrst',data=base_indiv).fit()\n",
    "print(result_2.summary())"
   ]
  },
  {
   "cell_type": "code",
   "execution_count": null,
   "metadata": {},
   "outputs": [],
   "source": [
    "#C) on passe au proxy demande de protection\n",
    "# exactement la même méthode \n",
    "\n",
    "#gincdif : 1 à 5 ; 1 = complétement d’accord / 5 = pas du tout d’accord\n",
    "#euftf : 0 à 10 ; 0 = intégration est allée trop loin / 10 = intégration devrait aller + loin\n",
    "#imwbcnt : 0 à 10 ; 0 = immigrants font le pays pire / 10 = immigrants font le pays mieux\n",
    "#aesfdrk : 1 à 4 ; 1 = se sent en grande sécurité / 4 = se sent en insécurité\n",
    "#ipstrgv : 1 à 6 ; 1 = complétement d’accord / 6 = pas du tout d’accord\n",
    "\n",
    "# (go must reduce diff in income) 1 un peu plus reac mais bof#disons plutot populiste de gauche on ça risque de partir\n",
    "#0 reac\n",
    "#0 reac\n",
    "#1 progre\n",
    "#1 racr (gov must be strong)"
   ]
  },
  {
   "cell_type": "code",
   "execution_count": null,
   "metadata": {},
   "outputs": [],
   "source": [
    "#les trois du milieu apparaissent de première abord plus reac que les\n",
    "#deux aux extrémités"
   ]
  },
  {
   "cell_type": "code",
   "execution_count": null,
   "metadata": {},
   "outputs": [],
   "source": [
    "protection= base_indiv[['gincdif', 'euftf', 'imwbcnt', 'aesfdrk', \"ipstrgv\"]]\n",
    "protection.describe()"
   ]
  },
  {
   "cell_type": "code",
   "execution_count": null,
   "metadata": {},
   "outputs": [],
   "source": [
    "#on enlève les na\n",
    "\n",
    "print('NaN occurrences in Columns:')\n",
    "print(protection.isnull().sum(axis=0))\n",
    "#pas mal de na"
   ]
  },
  {
   "cell_type": "code",
   "execution_count": null,
   "metadata": {},
   "outputs": [],
   "source": [
    "protection = protection.apply(lambda x: x.fillna(x.mean()), axis = 0)\n",
    "print(protection.isnull().sum(axis=0))\n",
    "# c ok"
   ]
  },
  {
   "cell_type": "code",
   "execution_count": null,
   "metadata": {},
   "outputs": [],
   "source": [
    "#on renomme les va\n",
    "protection=protection.rename(columns= {'gincdif':'redistribution'})\n",
    "protection=protection.rename(columns= {'euftf':'integration'})\n",
    "protection=protection.rename(columns= {'imwbcnt':'immigrant'})\n",
    "protection=protection.rename(columns= {'aesfdrk':'securite'})\n",
    "protection=protection.rename(columns= {'ipstrgv':'etat_fort'})"
   ]
  },
  {
   "cell_type": "code",
   "execution_count": null,
   "metadata": {},
   "outputs": [],
   "source": [
    "#d'après l'explication, 4ème va sens contraire de l'effet causal\n",
    "protection['securite'].replace(to_replace = [1,2,3,4], value = [4,3,2,1], inplace = True)"
   ]
  },
  {
   "cell_type": "code",
   "execution_count": null,
   "metadata": {},
   "outputs": [],
   "source": [
    "#on fait uen matrice de corrélation\n",
    "#pour voir si toutes les va ont un effet causal similaire\n",
    "protection.corr()\n",
    "#bien corrélé dans le bon sens\n",
    "sns.heatmap(protection.corr(), cmap='coolwarm', annot=True, fmt=\".2f\")\n",
    "#on peut enlever la va redistribution\n",
    "#n'explique pas du tout la même chose\n",
    "protection=protection.drop(['redistribution'], axis=1)"
   ]
  },
  {
   "cell_type": "code",
   "execution_count": null,
   "metadata": {},
   "outputs": [],
   "source": [
    "#petite régression préalable pour voir la pertinance des va\n",
    "\n",
    "results_6 = smf.ols('FN ~  euftf + imwbcnt + aesfdrk + ipstrgv', data=base_indiv).fit()\n",
    "print(results_6.summary())\n",
    "base_indiv[['FN', 'euftf',  'imwbcnt' ,'aesfdrk', 'ipstrgv']].corr()\n",
    "#aes ne rend pas bien compte du vote FN, on va aussi l'enlver, i.e.secu\n",
    " \n",
    "protection= protection.drop(['securite'], axis=1)\n"
   ]
  },
  {
   "cell_type": "code",
   "execution_count": null,
   "metadata": {},
   "outputs": [],
   "source": [
    "#On part dans la construction du proxy\n",
    "\n",
    "protection['integration']=protection['integration']/10\n",
    "protection['immigrant']=protection['immigrant']/10\n",
    "protection['etat_fort']=protection['etat_fort']-1\n",
    "protection['etat_fort']=protection['etat_fort']/5\n",
    "protection.describe()"
   ]
  },
  {
   "cell_type": "code",
   "execution_count": null,
   "metadata": {},
   "outputs": [],
   "source": [
    "proxy_protection=protection['integration']/3 + protection['immigrant']/3+protection['etat_fort']/3"
   ]
  },
  {
   "cell_type": "code",
   "execution_count": null,
   "metadata": {},
   "outputs": [],
   "source": [
    "proxy_protection =proxy_protection*10\n",
    "proxy_protection =round(proxy_protection)\n",
    "print(proxy_protection.hist())"
   ]
  },
  {
   "cell_type": "code",
   "execution_count": null,
   "metadata": {},
   "outputs": [],
   "source": [
    "proxy_protection= pd.DataFrame(proxy_protection)\n",
    "proxy_protection.columns=['proxy_protection']\n",
    "base_indiv=pd.concat([base_indiv, proxy_protection],axis=1)\n",
    "#on fout le proxy dans la base principale\n",
    "result_7 = smf.ols('FN~ proxy_protection',data=base_indiv).fit()\n",
    "print(result_7.summary())\n",
    "\n",
    "result_8 = smf.ols('FN~ proxy_protection+ppltrst',data=base_indiv).fit()\n",
    "print(result_8.summary())"
   ]
  },
  {
   "cell_type": "code",
   "execution_count": null,
   "metadata": {},
   "outputs": [],
   "source": [
    "##D) Le dernier proxy est celui de l'engagement personnel\n",
    "\n",
    "#-polintr : 1 à 4 ; 1 = très intéressé / 4 = pas du tout intéressé\n",
    "#-, vote D\n",
    "#/pbldmn/D, public demonstration de 1 à 2\n",
    "#bctprd/D, boycott 1 à 2\n",
    "#pstplonl/D, tu postes des trucs 1 à 2\n",
    "#mbtruD, syndicat, de 1 à 3 (1 et 2 ensemble)\n",
    "\n",
    "#4 PAS engagé\n",
    "#1 engagé, 2 pas engagée, 3 pas élligible \n",
    "# 1, engagée, 2 pas\n",
    "#1, enagége\n",
    "#1 engagée\n",
    "#1 engagée\n",
    "\n",
    "#toutes dans le même sens"
   ]
  },
  {
   "cell_type": "code",
   "execution_count": null,
   "metadata": {},
   "outputs": [],
   "source": [
    "engagement= base_indiv[['polintr', 'vote', 'pbldmn', 'bctprd', \"pstplonl\",'mbtru']]\n",
    "engagement.describe()"
   ]
  },
  {
   "cell_type": "code",
   "execution_count": null,
   "metadata": {},
   "outputs": [],
   "source": [
    "print('NaN occurrences in Columns:')\n",
    "print(engagement.isnull().sum(axis=0))"
   ]
  },
  {
   "cell_type": "code",
   "execution_count": null,
   "metadata": {},
   "outputs": [],
   "source": [
    "engagement=engagement.rename(columns= {'polintr':'interet'})\n",
    "engagement=engagement.rename(columns= {'pbldmn':'manifestation'})\n",
    "engagement=engagement.rename(columns= {'bctprd':'boycott'})\n",
    "engagement=engagement.rename(columns= {'pstplonl':'poste'})\n",
    "engagement=engagement.rename(columns= {'mbtru':'syndicat'})"
   ]
  },
  {
   "cell_type": "code",
   "execution_count": null,
   "metadata": {},
   "outputs": [],
   "source": []
  },
  {
   "cell_type": "code",
   "execution_count": null,
   "metadata": {},
   "outputs": [],
   "source": [
    "engagement.corr()"
   ]
  },
  {
   "cell_type": "code",
   "execution_count": null,
   "metadata": {},
   "outputs": [],
   "source": [
    "sns.heatmap(engagement.corr(), cmap='coolwarm', annot=True, fmt=\".2f\")\n",
    "# on va virer la va vote\n"
   ]
  },
  {
   "cell_type": "code",
   "execution_count": null,
   "metadata": {},
   "outputs": [],
   "source": [
    "engagement=engagement.drop(['vote'], axis=1)"
   ]
  },
  {
   "cell_type": "code",
   "execution_count": null,
   "metadata": {},
   "outputs": [],
   "source": [
    "# on teste avec va FN voir si corrélée\n",
    "#petite régression préalable pour voir la pertinance des va\n",
    "\n",
    "results_9 = smf.ols('FN ~  polintr + pbldmn + bctprd + pstplonl + mbtru', data=base_indiv).fit()\n",
    "print(results_9.summary())\n",
    "# on voit que c'est nul\n",
    "# on fait une matrice de corrélation\n",
    "base_indiv[['FN', 'polintr', 'pbldmn' , 'bctprd', 'pstplonl', 'mbtru']].corr()"
   ]
  },
  {
   "cell_type": "code",
   "execution_count": null,
   "metadata": {},
   "outputs": [],
   "source": [
    "#VI] la régression logistique***\n",
    "\n",
    "# on reprend le proxy confiance de matmat\n",
    "#vérifier toutes valeurs sont dans l'échelle principale(pas de valeur bizarre du fait de réponse comme \"je ne sais pas\")\n",
    "\n",
    " \n",
    "\n",
    "base_indiv[base_indiv['ppltrst'].isin([77,88,99])]\n",
    "base_indiv[base_indiv['cptppola'].isin([7,8,9])]\n",
    "base_indiv[base_indiv['trstplt'].isin([77,88,99])]\n",
    "base_indiv[base_indiv['ccnthum'].isin([55,66,77,88,99])]\n",
    "\n",
    " \n",
    "\n",
    "#pour ccnthum, valeur 55 signifie que l'indiv pense qu'il n'y a pas de climate change, donc confiance dans discours scientifique est minimal donc on associe à cette réponse la valeur 0\n",
    "base_indiv['ccnthum'].replace(to_replace = 55, value = 0, inplace = True)\n",
    "\n",
    " \n",
    "\n",
    "#traitement NAN\n",
    "base_indiv[['ppltrst', 'cptppola', 'trstplt', 'ccnthum']] = base_indiv[['ppltrst', 'cptppola', 'trstplt', 'ccnthum']].apply(lambda x: x.fillna(x.mean()), axis = 0)\n",
    "\n",
    " \n",
    "\n",
    "#création proxy \"confiance\"\n",
    "base_indiv['confiance'] = (base_indiv['ppltrst'] + base_indiv['trstplt'])/10 + (base_indiv['cptppola'] - 1)/4 + (base_indiv['ccnthum'])/5\n",
    "base_indiv['confiance'] = round(base_indiv['confiance'] * 10/4)\n",
    "#on a nos quatre va en proxy"
   ]
  },
  {
   "cell_type": "code",
   "execution_count": null,
   "metadata": {},
   "outputs": [],
   "source": [
    "#on teste une petite régression(normale non logistique encore)\n",
    "results_10= smf.ols('FN ~  confiance + proxy_progressisme + proxy_protection + proxy_sante', data=base_indiv).fit()\n",
    "print(results_10.summary())\n",
    "\n",
    "base_indiv[['FN', 'confiance', 'proxy_sante' , 'proxy_protection', 'proxy_progressisme', 'proxy_sante']].corr()\n",
    "sns.heatmap(base_indiv[['FN', 'confiance', 'proxy_sante' , 'proxy_protection', 'proxy_progressisme', 'proxy_sante']].corr(), cmap='coolwarm', annot=True, fmt=\".2f\")\n"
   ]
  },
  {
   "cell_type": "code",
   "execution_count": null,
   "metadata": {},
   "outputs": [],
   "source": [
    "from sklearn.linear_model import LogisticRegression\n",
    "\n",
    "model = sm.Logit(base_indiv['', x_stat)\n",
    "result = model.fit()\n"
   ]
  }
 ],
 "metadata": {
  "kernelspec": {
   "display_name": "Python 3 (Spyder)",
   "language": "python3",
   "name": "python3"
  },
  "language_info": {
   "codemirror_mode": {
    "name": "ipython",
    "version": 3
   },
   "file_extension": ".py",
   "mimetype": "text/x-python",
   "name": "python",
   "nbconvert_exporter": "python",
   "pygments_lexer": "ipython3",
   "version": "3.8.3"
  }
 },
 "nbformat": 4,
 "nbformat_minor": 4
}
