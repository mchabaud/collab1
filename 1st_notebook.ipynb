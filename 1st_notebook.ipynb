{
 "cells": [
  {
   "cell_type": "code",
   "execution_count": 8,
   "metadata": {},
   "outputs": [],
   "source": [
    "import pandas as pd\n",
    "import numpy as np\n",
    "import matplotlib.pyplot as plt\n",
    "#les packages\n"
   ]
  },
  {
   "cell_type": "code",
   "execution_count": null,
   "metadata": {},
   "outputs": [],
   "source": [
    "#I] construire la base de données"
   ]
  },
  {
   "cell_type": "code",
   "execution_count": null,
   "metadata": {},
   "outputs": [],
   "source": [
    "pip install pyreadstat\n",
    "import pyreadstat\n",
    "base_indiv = pd.read_spss('ESS8.sav')"
   ]
  },
  {
   "cell_type": "code",
   "execution_count": null,
   "metadata": {},
   "outputs": [],
   "source": [
    "base_indiv = base_indiv[[\"nuts2\", \"ppltrst\", \"polintr\", \"psppsgva\", \"cptppola\", \"trstplt\", \"vote\",\"prtvtcfr\", \"pbldmn\",\"bctprd\",\"pstplonl\", \"lrscale\", \"stflife\", \"stfedu\", \"stfhlth\", \"gincdif\",\"freehms\", \"euftf\", \"imwbcnt\", \"sclmeet\", \"crmvct\", \"aesfdrk\",  \"atchctr\", \"rlgblg\",  \"clmchng\", \"ccrdprs\", \"dfincac\", \"hhmmb\", \"gndr\", \"agea\",\"marsts\", \"chldhm\", \"edulvlb\", \"edctn\", \"rtrd\",\"uemp12m\",\"mbtru\", \"hinctnta\",\"ipeqopt\",  \"impsafe\", \"imptrad\" ]]"
   ]
  },
  {
   "cell_type": "code",
   "execution_count": null,
   "metadata": {},
   "outputs": [],
   "source": [
    "#regarder les données\n",
    "df.shape\n",
    "df.columns\n",
    "print(df.head())\n",
    "print(df.dtypes)"
   ]
  },
  {
   "cell_type": "code",
   "execution_count": null,
   "metadata": {},
   "outputs": [],
   "source": [
    "df5=df[['health']]\n",
    "\n",
    "df6=df[['ipshabt']]\n",
    "\n",
    "df7=df[['pdwrk']]\n",
    "\n",
    "df8=df[['blgetmg']]\n",
    "\n",
    "#comme ça marché pas avec ces quatre variables, j'ai crée des df distincts et \n",
    "#je les ai joins"
   ]
  },
  {
   "cell_type": "code",
   "execution_count": null,
   "metadata": {},
   "outputs": [],
   "source": [
    "d_ESS8= pd.concat([df3,df5, df6, df7, df8], axis=1)\n",
    "#base de données finales "
   ]
  },
  {
   "cell_type": "code",
   "execution_count": null,
   "metadata": {},
   "outputs": [],
   "source": [
    "## II] statistiques descriptives et nétoyage "
   ]
  },
  {
   "cell_type": "code",
   "execution_count": null,
   "metadata": {},
   "outputs": [],
   "source": [
    "d_ESS8.head(10)\n",
    "d_ESS8.sample(10) #prend 10 au hasard\n",
    "d_ESS8.sample(frac = 0.05) #tu en prends une proportion 0,05\n"
   ]
  },
  {
   "cell_type": "code",
   "execution_count": null,
   "metadata": {},
   "outputs": [],
   "source": [
    "#on va s'intérésser aux ttpes"
   ]
  },
  {
   "cell_type": "code",
   "execution_count": null,
   "metadata": {},
   "outputs": [],
   "source": [
    "#on va voir le nombre de région\n",
    "d_ESS8[['ess8_reg','nuts1', 'nuts2']].nunique()\n",
    "# 21, 12 et 21 respectivement unique régions"
   ]
  },
  {
   "cell_type": "code",
   "execution_count": null,
   "metadata": {},
   "outputs": [],
   "source": [
    "x = d_ESS8.groupby('ess8_reg').count()['vote']\n",
    "x.head()\n",
    "#on trie par régions "
   ]
  },
  {
   "cell_type": "code",
   "execution_count": null,
   "metadata": {},
   "outputs": [],
   "source": [
    "d_ESS8['vote'].mean()\n",
    "#pb: varaible catégorielle: on peut pas faire de stats !"
   ]
  },
  {
   "cell_type": "code",
   "execution_count": null,
   "metadata": {},
   "outputs": [],
   "source": [
    "# elles sont toutes des variables catégorielles donc on va changer ça\n",
    "print(d_ESS8.dtypes)\n"
   ]
  }
 ],
 "metadata": {
  "kernelspec": {
   "display_name": "Python 3",
   "language": "python",
   "name": "python3"
  },
  "language_info": {
   "codemirror_mode": {
    "name": "ipython",
    "version": 3
   },
   "file_extension": ".py",
   "mimetype": "text/x-python",
   "name": "python",
   "nbconvert_exporter": "python",
   "pygments_lexer": "ipython3",
   "version": "3.8.3"
  }
 },
 "nbformat": 4,
 "nbformat_minor": 4
}
