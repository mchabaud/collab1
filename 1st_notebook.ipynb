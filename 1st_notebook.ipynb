{
 "cells": [
  {
   "cell_type": "code",
   "execution_count": 8,
   "metadata": {},
   "outputs": [],
   "source": [
    "import pandas as pd\n",
    "import numpy as np\n",
    "import matplotlib.pyplot as plt\n",
    "#les packages\n"
   ]
  },
  {
   "cell_type": "code",
   "execution_count": null,
   "metadata": {},
   "outputs": [],
   "source": [
    "#I] construire la base de données"
   ]
  },
  {
   "cell_type": "code",
   "execution_count": null,
   "metadata": {},
   "outputs": [],
   "source": [
    "import pyreadstat\n",
    "base_indiv = pd.read_spss('ESS8.sav')"
   ]
  },
  {
   "cell_type": "code",
   "execution_count": null,
   "metadata": {},
   "outputs": [],
   "source": [
    "base_indiv = base_indiv[[\"nuts2\", \"ppltrst\", \"polintr\", \"psppsgva\", \"cptppola\", \"trstplt\", \"vote\",\"prtvtcfr\", \"pbldmn\",\"bctprd\",\"pstplonl\", \"lrscale\", \"stflife\", \"stfedu\", \"stfhlth\", \"gincdif\",\"freehms\", \"euftf\", \"imwbcnt\", \"sclmeet\", \"crmvct\", \"aesfdrk\",  \"atchctr\", \"rlgblg\",  \"clmchng\", \"ccrdprs\", \"dfincac\", \"hhmmb\", \"gndr\", \"agea\",\"marsts\", \"chldhm\", \"edulvlb\", \"edctn\", \"rtrd\",\"uemp12m\",\"mbtru\", \"hinctnta\",\"ipeqopt\",  \"impsafe\", \"imptrad\" ]]"
   ]
  },
  {
   "cell_type": "code",
   "execution_count": null,
   "metadata": {},
   "outputs": [],
   "source": [
    "#regarder les données\n",
    "base_indiv.columns\n",
    "print(base_indiv.head())\n",
    "print(base_indiv.dtypes)"
   ]
  },
  {
   "cell_type": "markdown",
   "metadata": {},
   "source": [
    "L'ensemble des variables sont catégorielles"
   ]
  },
  {
   "cell_type": "code",
   "execution_count": null,
   "metadata": {},
   "outputs": [],
   "source": []
  }
 ],
 "metadata": {
  "kernelspec": {
   "display_name": "Python 3",
   "language": "python",
   "name": "python3"
  },
  "language_info": {
   "codemirror_mode": {
    "name": "ipython",
    "version": 3
   },
   "file_extension": ".py",
   "mimetype": "text/x-python",
   "name": "python",
   "nbconvert_exporter": "python",
   "pygments_lexer": "ipython3",
   "version": "3.8.3"
  }
 },
 "nbformat": 4,
 "nbformat_minor": 4
}
