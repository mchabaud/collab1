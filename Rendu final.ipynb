{
 "cells": [
  {
   "cell_type": "markdown",
   "metadata": {},
   "source": [
    "# Expliquer le vote populiste en France"
   ]
  },
  {
   "cell_type": "markdown",
   "metadata": {},
   "source": [
    "## Introduction"
   ]
  },
  {
   "cell_type": "markdown",
   "metadata": {},
   "source": [
    "Principalement basé sur l’enquête les origines du populisme : enquête sur un schisme politique et social de Daniel Cohen, Martial Foucault et Yann Algan, notre projet tente d’expliquer causalement le populisme de droite, à la fois à l’aide de variables objectives et subjectives. Le livre référant est une vaste enquête électorale effectuée à l’échelle européenne essayant de dépasser les anciennes explications causales du vote populiste, notamment en utilisant des variables subjectives (principalement la confiance). Prenant comme base de données celle utilisée par les chercheurs, c’est-à-dire « l’european social survey -qui est une enquête à l’échelle européenne faite tous les deux ans dans 35 pays différents- nous avons à notre disposition un nombre important de variables, à la fois objectives et subjectives, pouvant être regroupées en 8 catégories différentes : confiance sociale, politique, bien-être subjectif, changement climatique, bien-être objectif, caractéristiques sociodémographiques, caractéristiques du répondant et valeurs de l’individu.\n",
    "\n",
    "Dans notre projet, nous restreignons l’étude à celle du vote populiste de droite en France en 2016. Nous caractérisons le populisme comme un mouvement de rejet des élites traditionnelles et d’un ordre établi, c’est-à-dire un discours antisystème regroupant des individus ayant comme dénominateur commun l’insécurité économique. Cependant, l’objet de notre étude se restreint au populisme de droite. Le populisme de gauche pouvant être caractérisée par une radicalisation de la pensée de la gauche dite classique (ayant grossièrement pour projet la réduction des inégalités), celui de droit apparait expliquée quant à lui par un mouvement de rejet de l’autre. En effet, suite à la dissolution de la société industrielle dite classiste -pouvant être représentée schématiquement par une opposition binaire de deux classes sociales qui se font face- la société post-industrielle émerge et tend à dissoudre l’individu dans une société où il peine à retrouver les institutions socialisantes qui ont forgé son identité durant la société industrielle (en d’autres termes, on observe le passage d’une société de classes à une société de masse). Notre projet part de ce constat, et des intuitions offertes par l’étude électorale, qui tend à expliquer le vote populiste de droite par un rapport à l’altérité brisé, un rapport à l’autre dissolu, en bref par des « clivages d’ordre subjectif ».\n",
    "\n",
    "On va ainsi tenter d’expliquer le vote populiste de droite à l’aune de cette rupture anthropologique pouvant être modélisée par un proxy de la confiance construit à partir de différentes variables subjectives. Notre première étape consistera donc à expliquer le vote populiste de droite avec un modèle logit-binaire grâce à des proxys que l’on aura construits préalablement. Ces proxys tenteront de recouvrir 5 caractéristiques d’ordre subjectif des individus : la confiance mais aussi le bien-être subjectif, le progressisme, l’engagement et la sécurité. Cependant, il nous semble intéressant de pousser l’analyse et de tenter d’expliquer ces variables subjectives caractéristiques du vote populiste de droite par des variables objectives individuelles (telles que le salaire ou encore l’âge), ce que nous ferons dans un second temps. Enfin, nous verrons si ces variables subjectives individuelles peuvent être aussi expliquées par des variables objectives macro (à l’échelle d’une région) telles que le taux de chômage, le taux de croissance de la population, l’éducation ou encore le PIB par habitant."
   ]
  },
  {
   "cell_type": "markdown",
   "metadata": {},
   "source": [
    "## Première partie : Le vote comme expression d'opinions subjectives"
   ]
  },
  {
   "cell_type": "markdown",
   "metadata": {},
   "source": [
    "« L'isoloir planté dans une salle d'école ou de mairie est le symbole de toutes les trahisons que l'individu peut commettre envers les groupes dont il fait partie. ». Cette phrase suffirait presque à résumer l'argumentaire de Sartre dans son célèbre texte \"Élections, piège à cons\", publié dans la revue Les Temps Modernes en 1973. Pour Sartre, le fait que la pratique du vote soit dans nos démocraties modernes un acte individuel empêche les classes sociales de porter collectivement leur intérêt, car chacun peut se défiler au moment de prendre la décision importante qui est celle d'élire les réprésentants du peuple. En effet, le ressenti individuel du votant peut ne pas correspondre à l'analyse objective que ferait un observateur extérieur de ce que devrait chosir le votant en fonction de ses caractéristiques socio-économiques objectives (niveau d'éducation, revenu,... en bref sa classe sociale). Or, c'est bien ce ressenti individuel et subjectif qui détermine en dernière instance le vote. Les caractéristiques individuelles objectives ne sont que des facteurs explicatifs parmi d'autres de ce ressenti. C'est pourquoi la sociologie électorale ne se contente pas de lier l'environnement social des individus à leur vote mais cherche également à collecter leur ressenti subjectif sur le monde dans lequel ils vivent.\n",
    "\n",
    "La base de données à notre disposition permet justement de prendre en compte ce ressenti subjectif. En effet, la plupart des variables sont des réponses à des questions d'opinion. Le but de cette partie est de lier ce ressenti subjectif aux déclarations de vote (en particulier du vote FN) des individus. Devant l'étendue des variables et thématiques disponibles, nous avons construit 5 variables subjectives synthétiques nous semblant pertinentes pour expliquer le vote FN.\n",
    "\n",
    "Avant d'expliquer comment nous construisons ces variables, on peut dans un premier temps décrire brièvement la base en question à l'aide de quelques statistiques descriptives."
   ]
  },
  {
   "cell_type": "code",
   "execution_count": 134,
   "metadata": {},
   "outputs": [],
   "source": [
    "import numpy as np\n",
    "import pandas as pd\n",
    "import seaborn as sns\n",
    "import statsmodels as sm\n",
    "import statsmodels.api as st\n",
    "import statsmodels.formula.api as smf\n",
    "import urllib\n",
    "import bs4"
   ]
  },
  {
   "cell_type": "code",
   "execution_count": 135,
   "metadata": {},
   "outputs": [
    {
     "data": {
      "text/plain": [
       "(2070, 539)"
      ]
     },
     "execution_count": 135,
     "metadata": {},
     "output_type": "execute_result"
    }
   ],
   "source": [
    "base_indiv = pd.read_spss('base_indiv.sav', convert_categoricals=False)\n",
    "base_indiv.shape"
   ]
  },
  {
   "cell_type": "markdown",
   "metadata": {},
   "source": [
    "Comme on peut le voir, la base est extrêmement large. À l'aide du descriptif de chaque variable, que l'on peut trouver en ligne (http://nesstar.ess.nsd.uib.no/webview/index.jsp?v=2&submode=abstract&study=http%3A%2F%2F129.177.90.83%3A80%2Fobj%2FfStudy%2FESS9e02.0&mode=documentation&top=yes), nous avons présélectionné un sous-ensemble de 37 variables, qui recouvrent à notre sens l'essentiel des variables subjectives et objectives pertinentes pour notre problématique. Nous avons également veillé à ne pas chosir des variables redondantes. La description de chaque variable est disponible dans un document annexe (README)."
   ]
  },
  {
   "cell_type": "code",
   "execution_count": 136,
   "metadata": {},
   "outputs": [
    {
     "data": {
      "text/html": [
       "<div>\n",
       "<style scoped>\n",
       "    .dataframe tbody tr th:only-of-type {\n",
       "        vertical-align: middle;\n",
       "    }\n",
       "\n",
       "    .dataframe tbody tr th {\n",
       "        vertical-align: top;\n",
       "    }\n",
       "\n",
       "    .dataframe thead th {\n",
       "        text-align: right;\n",
       "    }\n",
       "</style>\n",
       "<table border=\"1\" class=\"dataframe\">\n",
       "  <thead>\n",
       "    <tr style=\"text-align: right;\">\n",
       "      <th></th>\n",
       "      <th>ppltrst</th>\n",
       "      <th>cptppola</th>\n",
       "      <th>trstplt</th>\n",
       "      <th>ccnthum</th>\n",
       "      <th>polintr</th>\n",
       "      <th>vote</th>\n",
       "      <th>pbldmn</th>\n",
       "      <th>bctprd</th>\n",
       "      <th>pstplonl</th>\n",
       "      <th>mbtru</th>\n",
       "      <th>...</th>\n",
       "      <th>prtvtcfr</th>\n",
       "      <th>gndr</th>\n",
       "      <th>agea</th>\n",
       "      <th>chldhm</th>\n",
       "      <th>edlvdfr</th>\n",
       "      <th>uemp3m</th>\n",
       "      <th>tporgwk</th>\n",
       "      <th>hinctnta</th>\n",
       "      <th>lrscale</th>\n",
       "      <th>weight</th>\n",
       "    </tr>\n",
       "  </thead>\n",
       "  <tbody>\n",
       "    <tr>\n",
       "      <th>count</th>\n",
       "      <td>2070.000000</td>\n",
       "      <td>2055.000000</td>\n",
       "      <td>2059.000000</td>\n",
       "      <td>2024.000000</td>\n",
       "      <td>2069.000000</td>\n",
       "      <td>2003.00000</td>\n",
       "      <td>2068.000000</td>\n",
       "      <td>2065.000000</td>\n",
       "      <td>2068.000000</td>\n",
       "      <td>2063.000000</td>\n",
       "      <td>...</td>\n",
       "      <td>1059.000000</td>\n",
       "      <td>2070.000000</td>\n",
       "      <td>2069.000000</td>\n",
       "      <td>2070.000000</td>\n",
       "      <td>2068.000000</td>\n",
       "      <td>2066.000000</td>\n",
       "      <td>1936.000000</td>\n",
       "      <td>1884.000000</td>\n",
       "      <td>1916.000000</td>\n",
       "      <td>2070.000000</td>\n",
       "    </tr>\n",
       "    <tr>\n",
       "      <th>mean</th>\n",
       "      <td>4.583575</td>\n",
       "      <td>2.195134</td>\n",
       "      <td>2.893152</td>\n",
       "      <td>3.614625</td>\n",
       "      <td>2.559691</td>\n",
       "      <td>1.52671</td>\n",
       "      <td>1.856867</td>\n",
       "      <td>1.676513</td>\n",
       "      <td>1.803191</td>\n",
       "      <td>2.713524</td>\n",
       "      <td>...</td>\n",
       "      <td>8.600567</td>\n",
       "      <td>1.539614</td>\n",
       "      <td>52.377960</td>\n",
       "      <td>1.701449</td>\n",
       "      <td>10.130561</td>\n",
       "      <td>1.610842</td>\n",
       "      <td>3.620351</td>\n",
       "      <td>4.855626</td>\n",
       "      <td>5.079854</td>\n",
       "      <td>1.000000</td>\n",
       "    </tr>\n",
       "    <tr>\n",
       "      <th>std</th>\n",
       "      <td>2.143143</td>\n",
       "      <td>0.943060</td>\n",
       "      <td>2.094522</td>\n",
       "      <td>2.907148</td>\n",
       "      <td>0.970024</td>\n",
       "      <td>0.70722</td>\n",
       "      <td>0.350294</td>\n",
       "      <td>0.467920</td>\n",
       "      <td>0.397683</td>\n",
       "      <td>0.591605</td>\n",
       "      <td>...</td>\n",
       "      <td>3.167957</td>\n",
       "      <td>0.498549</td>\n",
       "      <td>18.929428</td>\n",
       "      <td>0.457733</td>\n",
       "      <td>6.134469</td>\n",
       "      <td>0.487677</td>\n",
       "      <td>1.176417</td>\n",
       "      <td>2.740380</td>\n",
       "      <td>2.409379</td>\n",
       "      <td>0.691451</td>\n",
       "    </tr>\n",
       "    <tr>\n",
       "      <th>min</th>\n",
       "      <td>0.000000</td>\n",
       "      <td>1.000000</td>\n",
       "      <td>0.000000</td>\n",
       "      <td>1.000000</td>\n",
       "      <td>1.000000</td>\n",
       "      <td>1.00000</td>\n",
       "      <td>1.000000</td>\n",
       "      <td>1.000000</td>\n",
       "      <td>1.000000</td>\n",
       "      <td>1.000000</td>\n",
       "      <td>...</td>\n",
       "      <td>1.000000</td>\n",
       "      <td>1.000000</td>\n",
       "      <td>15.000000</td>\n",
       "      <td>1.000000</td>\n",
       "      <td>1.000000</td>\n",
       "      <td>1.000000</td>\n",
       "      <td>1.000000</td>\n",
       "      <td>1.000000</td>\n",
       "      <td>0.000000</td>\n",
       "      <td>0.228504</td>\n",
       "    </tr>\n",
       "    <tr>\n",
       "      <th>25%</th>\n",
       "      <td>3.000000</td>\n",
       "      <td>1.000000</td>\n",
       "      <td>1.000000</td>\n",
       "      <td>3.000000</td>\n",
       "      <td>2.000000</td>\n",
       "      <td>1.00000</td>\n",
       "      <td>2.000000</td>\n",
       "      <td>1.000000</td>\n",
       "      <td>2.000000</td>\n",
       "      <td>3.000000</td>\n",
       "      <td>...</td>\n",
       "      <td>9.000000</td>\n",
       "      <td>1.000000</td>\n",
       "      <td>38.000000</td>\n",
       "      <td>1.000000</td>\n",
       "      <td>6.000000</td>\n",
       "      <td>1.000000</td>\n",
       "      <td>3.000000</td>\n",
       "      <td>2.000000</td>\n",
       "      <td>3.000000</td>\n",
       "      <td>0.539700</td>\n",
       "    </tr>\n",
       "    <tr>\n",
       "      <th>50%</th>\n",
       "      <td>5.000000</td>\n",
       "      <td>2.000000</td>\n",
       "      <td>3.000000</td>\n",
       "      <td>3.000000</td>\n",
       "      <td>3.000000</td>\n",
       "      <td>1.00000</td>\n",
       "      <td>2.000000</td>\n",
       "      <td>2.000000</td>\n",
       "      <td>2.000000</td>\n",
       "      <td>3.000000</td>\n",
       "      <td>...</td>\n",
       "      <td>9.000000</td>\n",
       "      <td>2.000000</td>\n",
       "      <td>53.000000</td>\n",
       "      <td>2.000000</td>\n",
       "      <td>7.000000</td>\n",
       "      <td>2.000000</td>\n",
       "      <td>4.000000</td>\n",
       "      <td>5.000000</td>\n",
       "      <td>5.000000</td>\n",
       "      <td>0.803473</td>\n",
       "    </tr>\n",
       "    <tr>\n",
       "      <th>75%</th>\n",
       "      <td>6.000000</td>\n",
       "      <td>3.000000</td>\n",
       "      <td>4.000000</td>\n",
       "      <td>4.000000</td>\n",
       "      <td>3.000000</td>\n",
       "      <td>2.00000</td>\n",
       "      <td>2.000000</td>\n",
       "      <td>2.000000</td>\n",
       "      <td>2.000000</td>\n",
       "      <td>3.000000</td>\n",
       "      <td>...</td>\n",
       "      <td>10.000000</td>\n",
       "      <td>2.000000</td>\n",
       "      <td>67.000000</td>\n",
       "      <td>2.000000</td>\n",
       "      <td>15.000000</td>\n",
       "      <td>2.000000</td>\n",
       "      <td>4.000000</td>\n",
       "      <td>7.000000</td>\n",
       "      <td>7.000000</td>\n",
       "      <td>1.203349</td>\n",
       "    </tr>\n",
       "    <tr>\n",
       "      <th>max</th>\n",
       "      <td>10.000000</td>\n",
       "      <td>5.000000</td>\n",
       "      <td>10.000000</td>\n",
       "      <td>55.000000</td>\n",
       "      <td>4.000000</td>\n",
       "      <td>3.00000</td>\n",
       "      <td>2.000000</td>\n",
       "      <td>2.000000</td>\n",
       "      <td>2.000000</td>\n",
       "      <td>3.000000</td>\n",
       "      <td>...</td>\n",
       "      <td>16.000000</td>\n",
       "      <td>2.000000</td>\n",
       "      <td>99.000000</td>\n",
       "      <td>2.000000</td>\n",
       "      <td>26.000000</td>\n",
       "      <td>2.000000</td>\n",
       "      <td>6.000000</td>\n",
       "      <td>10.000000</td>\n",
       "      <td>10.000000</td>\n",
       "      <td>4.000000</td>\n",
       "    </tr>\n",
       "  </tbody>\n",
       "</table>\n",
       "<p>8 rows × 35 columns</p>\n",
       "</div>"
      ],
      "text/plain": [
       "           ppltrst     cptppola      trstplt      ccnthum      polintr  \\\n",
       "count  2070.000000  2055.000000  2059.000000  2024.000000  2069.000000   \n",
       "mean      4.583575     2.195134     2.893152     3.614625     2.559691   \n",
       "std       2.143143     0.943060     2.094522     2.907148     0.970024   \n",
       "min       0.000000     1.000000     0.000000     1.000000     1.000000   \n",
       "25%       3.000000     1.000000     1.000000     3.000000     2.000000   \n",
       "50%       5.000000     2.000000     3.000000     3.000000     3.000000   \n",
       "75%       6.000000     3.000000     4.000000     4.000000     3.000000   \n",
       "max      10.000000     5.000000    10.000000    55.000000     4.000000   \n",
       "\n",
       "             vote       pbldmn       bctprd     pstplonl        mbtru  ...  \\\n",
       "count  2003.00000  2068.000000  2065.000000  2068.000000  2063.000000  ...   \n",
       "mean      1.52671     1.856867     1.676513     1.803191     2.713524  ...   \n",
       "std       0.70722     0.350294     0.467920     0.397683     0.591605  ...   \n",
       "min       1.00000     1.000000     1.000000     1.000000     1.000000  ...   \n",
       "25%       1.00000     2.000000     1.000000     2.000000     3.000000  ...   \n",
       "50%       1.00000     2.000000     2.000000     2.000000     3.000000  ...   \n",
       "75%       2.00000     2.000000     2.000000     2.000000     3.000000  ...   \n",
       "max       3.00000     2.000000     2.000000     2.000000     3.000000  ...   \n",
       "\n",
       "          prtvtcfr         gndr         agea       chldhm      edlvdfr  \\\n",
       "count  1059.000000  2070.000000  2069.000000  2070.000000  2068.000000   \n",
       "mean      8.600567     1.539614    52.377960     1.701449    10.130561   \n",
       "std       3.167957     0.498549    18.929428     0.457733     6.134469   \n",
       "min       1.000000     1.000000    15.000000     1.000000     1.000000   \n",
       "25%       9.000000     1.000000    38.000000     1.000000     6.000000   \n",
       "50%       9.000000     2.000000    53.000000     2.000000     7.000000   \n",
       "75%      10.000000     2.000000    67.000000     2.000000    15.000000   \n",
       "max      16.000000     2.000000    99.000000     2.000000    26.000000   \n",
       "\n",
       "            uemp3m      tporgwk     hinctnta      lrscale       weight  \n",
       "count  2066.000000  1936.000000  1884.000000  1916.000000  2070.000000  \n",
       "mean      1.610842     3.620351     4.855626     5.079854     1.000000  \n",
       "std       0.487677     1.176417     2.740380     2.409379     0.691451  \n",
       "min       1.000000     1.000000     1.000000     0.000000     0.228504  \n",
       "25%       1.000000     3.000000     2.000000     3.000000     0.539700  \n",
       "50%       2.000000     4.000000     5.000000     5.000000     0.803473  \n",
       "75%       2.000000     4.000000     7.000000     7.000000     1.203349  \n",
       "max       2.000000     6.000000    10.000000    10.000000     4.000000  \n",
       "\n",
       "[8 rows x 35 columns]"
      ]
     },
     "execution_count": 136,
     "metadata": {},
     "output_type": "execute_result"
    }
   ],
   "source": [
    "base_indiv = base_indiv[[\"ess8_id\", \"nuts2\", \"ppltrst\", \"cptppola\", \"trstplt\", \"ccnthum\", \"polintr\", \"vote\", \"pbldmn\",\"bctprd\",\"pstplonl\", \"mbtru\", \"stflife\", \"stfedu\", \"stfhlth\", \"aesfdrk\", \"health\",  \"gincdif\", \"euftf\", \"imwbcnt\", \"ipstrgv\", \"mnrgtjb\", \"freehms\", \"imptrad\", \"rlgblg\", \"blgetmg\", \"crmvct\", \"prtvtcfr\", \"gndr\", \"agea\", \"chldhm\", \"edlvdfr\",\"uemp3m\", \"tporgwk\", \"hinctnta\", \"lrscale\", \"pspwght\"]]\n",
    "base_indiv = base_indiv.rename(columns={'pspwght' : 'weight'})\n",
    "base_indiv.describe()"
   ]
  },
  {
   "cell_type": "markdown",
   "metadata": {},
   "source": [
    "On peut faire apparaître les valeurs manquantes de façon plus lisible."
   ]
  },
  {
   "cell_type": "code",
   "execution_count": 137,
   "metadata": {},
   "outputs": [
    {
     "data": {
      "text/plain": [
       "ess8_id        0\n",
       "nuts2          0\n",
       "ppltrst        0\n",
       "cptppola      15\n",
       "trstplt       11\n",
       "ccnthum       46\n",
       "polintr        1\n",
       "vote          67\n",
       "pbldmn         2\n",
       "bctprd         5\n",
       "pstplonl       2\n",
       "mbtru          7\n",
       "stflife        2\n",
       "stfedu        20\n",
       "stfhlth        5\n",
       "aesfdrk       48\n",
       "health         2\n",
       "gincdif       14\n",
       "euftf         81\n",
       "imwbcnt       27\n",
       "ipstrgv       21\n",
       "mnrgtjb        6\n",
       "freehms       19\n",
       "imptrad       14\n",
       "rlgblg         8\n",
       "blgetmg       39\n",
       "crmvct         2\n",
       "prtvtcfr    1011\n",
       "gndr           0\n",
       "agea           1\n",
       "chldhm         0\n",
       "edlvdfr        2\n",
       "uemp3m         4\n",
       "tporgwk      134\n",
       "hinctnta     186\n",
       "lrscale      154\n",
       "weight         0\n",
       "dtype: int64"
      ]
     },
     "execution_count": 137,
     "metadata": {},
     "output_type": "execute_result"
    }
   ],
   "source": [
    "base_indiv.isnull().sum()"
   ]
  },
  {
   "cell_type": "markdown",
   "metadata": {},
   "source": [
    "On s'aperçoit que seule la variable prtvtcfr (parti choisi aux dernières élections nationales) a plus de 10% de valeurs manquantes. Comment expliquer cette lacune pour cette variable ? La variable vote (qui prend la valeur 1 quand l'individu a voté aux dernières élections, 2 quand il n'a pas voté et 3 quand il ne pouvait pas voter) donne un premier élément de réponse à cette question."
   ]
  },
  {
   "cell_type": "code",
   "execution_count": 138,
   "metadata": {},
   "outputs": [
    {
     "data": {
      "text/plain": [
       "1.0    1199\n",
       "2.0     553\n",
       "3.0     251\n",
       "Name: vote, dtype: int64"
      ]
     },
     "execution_count": 138,
     "metadata": {},
     "output_type": "execute_result"
    }
   ],
   "source": [
    "base_indiv['vote'].value_counts()"
   ]
  },
  {
   "cell_type": "code",
   "execution_count": 139,
   "metadata": {},
   "outputs": [
    {
     "data": {
      "text/plain": [
       "140"
      ]
     },
     "execution_count": 139,
     "metadata": {},
     "output_type": "execute_result"
    }
   ],
   "source": [
    "base_indiv['vote'][base_indiv['vote']==1].count() - base_indiv[base_indiv['prtvtcfr'].notnull()]['prtvtcfr'].count()"
   ]
  },
  {
   "cell_type": "markdown",
   "metadata": {},
   "source": [
    "Les valeurs manquantes s'expliquent donc par les abstentionnistes (553), les non-inscrits sur les listes électorales (251) et ceux n'ayant pas voulu dire pour qui ils avaient voté (140). "
   ]
  },
  {
   "cell_type": "markdown",
   "metadata": {},
   "source": [
    "On cherche à décrire la population au sein de notre base de données:"
   ]
  },
  {
   "cell_type": "code",
   "execution_count": 140,
   "metadata": {},
   "outputs": [
    {
     "data": {
      "text/plain": [
       "<matplotlib.axes._subplots.AxesSubplot at 0x2bffea8efd0>"
      ]
     },
     "execution_count": 140,
     "metadata": {},
     "output_type": "execute_result"
    },
    {
     "data": {
      "image/png": "[encoded data removed]",
      "text/plain": [
       "<Figure size 432x288 with 1 Axes>"
      ]
     },
     "metadata": {
      "needs_background": "light"
     },
     "output_type": "display_data"
    }
   ],
   "source": [
    "sns.distplot(base_indiv[\"agea\"] , color=\"skyblue\")"
   ]
  },
  {
   "cell_type": "code",
   "execution_count": 141,
   "metadata": {},
   "outputs": [
    {
     "data": {
      "text/plain": [
       "count    2069.000000\n",
       "mean       52.377960\n",
       "std        18.929428\n",
       "min        15.000000\n",
       "25%        38.000000\n",
       "50%        53.000000\n",
       "75%        67.000000\n",
       "max        99.000000\n",
       "Name: agea, dtype: float64"
      ]
     },
     "execution_count": 141,
     "metadata": {},
     "output_type": "execute_result"
    }
   ],
   "source": [
    "base_indiv[\"agea\"].describe()"
   ]
  },
  {
   "cell_type": "markdown",
   "metadata": {},
   "source": [
    "On a affaire à une population relativement agée avec pour moyenne environ 52 ans (alors que l'âge moyen en France est d'environ 40 ans)."
   ]
  },
  {
   "cell_type": "code",
   "execution_count": 142,
   "metadata": {},
   "outputs": [
    {
     "data": {
      "text/plain": [
       "<matplotlib.axes._subplots.AxesSubplot at 0x2bffea56b20>"
      ]
     },
     "execution_count": 142,
     "metadata": {},
     "output_type": "execute_result"
    },
    {
     "data": {
      "image/png": "[encoded data removed]",
      "text/plain": [
       "<Figure size 432x288 with 1 Axes>"
      ]
     },
     "metadata": {
      "needs_background": "light"
     },
     "output_type": "display_data"
    }
   ],
   "source": [
    "sns.distplot(base_indiv[\"edlvdfr\"] , color=\"skyblue\")"
   ]
  },
  {
   "cell_type": "code",
   "execution_count": 143,
   "metadata": {},
   "outputs": [
    {
     "data": {
      "text/plain": [
       "count    2068.000000\n",
       "mean       10.130561\n",
       "std         6.134469\n",
       "min         1.000000\n",
       "25%         6.000000\n",
       "50%         7.000000\n",
       "75%        15.000000\n",
       "max        26.000000\n",
       "Name: edlvdfr, dtype: float64"
      ]
     },
     "execution_count": 143,
     "metadata": {},
     "output_type": "execute_result"
    }
   ],
   "source": [
    "base_indiv[\"edlvdfr\"].describe()"
   ]
  },
  {
   "cell_type": "markdown",
   "metadata": {},
   "source": [
    "Il s'agit d'une population relativement peu éduquée, ayant pour score moyen 10 ce qui renvoie à un bac technologique. Mais étant donné que notre population est relativement agée et que la massification scolaire n'avait pas encore eu lieu, les résultats correspondent bien."
   ]
  },
  {
   "cell_type": "code",
   "execution_count": 144,
   "metadata": {},
   "outputs": [
    {
     "data": {
      "text/plain": [
       "count    2070.000000\n",
       "mean        1.539614\n",
       "std         0.498549\n",
       "min         1.000000\n",
       "25%         1.000000\n",
       "50%         2.000000\n",
       "75%         2.000000\n",
       "max         2.000000\n",
       "Name: gndr, dtype: float64"
      ]
     },
     "execution_count": 144,
     "metadata": {},
     "output_type": "execute_result"
    }
   ],
   "source": [
    "base_indiv['gndr'].describe()"
   ]
  },
  {
   "cell_type": "markdown",
   "metadata": {},
   "source": [
    "Il y a donc 53% de femmes au sein de notre population (2= femme, 1=homme), ce qui correspond environ à la moyenne de la population française qui est de 51,5%."
   ]
  },
  {
   "cell_type": "markdown",
   "metadata": {},
   "source": [
    "Pour conclure, notre base de données correspond à une population d'individus relativement plus âgée que la population française, moins éduquée avec une représentation d'hommes et de femmes semblable à celle de la France."
   ]
  },
  {
   "cell_type": "markdown",
   "metadata": {},
   "source": [
    "## Construction des proxys"
   ]
  },
  {
   "cell_type": "markdown",
   "metadata": {},
   "source": [
    "Nous cherchons dans notre projet à expliquer les déterminants du vote populiste de droite. Dans cette première partie, nous allons tenter de voir comment des variables subjectives individuelles sont capables ou non d'expliquer causalement ce type de vote. Nous avons décider de modéliser cinq proxy différents à cet effet, regroupant chacun entre 3 et 6 variable subjectives individuelles.\n",
    "\n",
    "Tout d'abord, nous allons construire un proxy de la confiance car nous pensons intuitivement que la méfiance en autrui peut avoir un pouvoir explicatif fort du vote populiste de droite.  Ensuite, nous construisons la variable engagement qui correspond au fait que l'individu participe activement ou non à la vie de la cité en s'impliquant notamment par la biais de manifestations, ou en allant voter... On souhaite savoir si l'implication pourrait avoir un effet négatif sur le vote populiste  ou non.\n",
    "Pensant que les individus votant pour le populisme de droit se sente subjectivement dans un mal être, nous construisons ensuite un proxy bien-être et nous pensons que cette variable aura un impact négatif sur la propension à voter pour le populisme.\n",
    "Ensuite, nous nous intéréssons au proxy progressisme social qui regroupe l'opinion de l'individu sur des sujets sociétaux tels que son opinion sur la place de l'homme et de la femme dans la société et sur l'homosexuelalité. Nous supposons que cette variable aura un impact négatif sur le vote populiste. Enfin, nous construisons le proxy protection qui reflète comment l'individu se sent subjectivement dans la société, s'il se sent menacé. Nous pensons que les individus votant pour des partis populistes de droite se sentent menacés et donc que ce proxy aurait un impact positif sur ce type de vote.\n",
    "\n",
    "Chaque proxy sera construit de la même manière: on regarde si les variables composantes du proxy que l'on aura choisi préalablement sont bien pertinentes en regardant la matrice de corrélation entre ces variables -on souhaite que les variables aient une corrélation positive et quantitativement significative, sans qu'elles se recoupent non plus parfaitement entre elles (sinon autant enlever celles qui sont redondantes). Ensuite, on normalise l'échelle de chaque variable pour qu'elle commence toujours à 0. Puis, on divise chaque variable par le nombre de valeurs possible moins un (car on commence à 0), de sorte que chaque variable du proxy prend une valeur entre 0 et 1. Ensuite, on fait la moyenne de ces variables (i.e. on divise par le nombre de variables qu'on a décidé d'inclure dans le proxy) puis on multplie par 10 pour avoir des proxys qui prennent leur valeur entre 0 et 10, ce qui correspond à la plupart des échelles des questions posées aux individus."
   ]
  },
  {
   "cell_type": "markdown",
   "metadata": {},
   "source": [
    "### Proxy confiance"
   ]
  },
  {
   "cell_type": "markdown",
   "metadata": {},
   "source": [
    "Nous commençons par construire notre premier proxy, qui est celui de la confiance. Nous partons de quatre variables subjectives pour le construire qui sont:\n",
    "\n",
    "-ppltrst, est-ce-que l'on peut faire confiance à la plupart des gens\n",
    "\n",
    "-cptppola, confiance dans la participation personnelle en politique\n",
    "\n",
    "-trstplt, confiance dans les hommes politiques et la politique en générale\n",
    "\n",
    "-ccnthum, si la cause du réchauffement climatique est naturelle ou humaine. On interprète cette variable comme une mesure de la confiance de l'individu dans le discours scientifique."
   ]
  },
  {
   "cell_type": "code",
   "execution_count": 145,
   "metadata": {},
   "outputs": [
    {
     "data": {
      "text/html": [
       "<div>\n",
       "<style scoped>\n",
       "    .dataframe tbody tr th:only-of-type {\n",
       "        vertical-align: middle;\n",
       "    }\n",
       "\n",
       "    .dataframe tbody tr th {\n",
       "        vertical-align: top;\n",
       "    }\n",
       "\n",
       "    .dataframe thead th {\n",
       "        text-align: right;\n",
       "    }\n",
       "</style>\n",
       "<table border=\"1\" class=\"dataframe\">\n",
       "  <thead>\n",
       "    <tr style=\"text-align: right;\">\n",
       "      <th></th>\n",
       "      <th>ppltrst</th>\n",
       "      <th>cptppola</th>\n",
       "      <th>trstplt</th>\n",
       "      <th>ccnthum</th>\n",
       "    </tr>\n",
       "  </thead>\n",
       "  <tbody>\n",
       "    <tr>\n",
       "      <th>count</th>\n",
       "      <td>2070.000000</td>\n",
       "      <td>2055.000000</td>\n",
       "      <td>2059.000000</td>\n",
       "      <td>2024.000000</td>\n",
       "    </tr>\n",
       "    <tr>\n",
       "      <th>mean</th>\n",
       "      <td>4.583575</td>\n",
       "      <td>2.195134</td>\n",
       "      <td>2.893152</td>\n",
       "      <td>3.614625</td>\n",
       "    </tr>\n",
       "    <tr>\n",
       "      <th>std</th>\n",
       "      <td>2.143143</td>\n",
       "      <td>0.943060</td>\n",
       "      <td>2.094522</td>\n",
       "      <td>2.907148</td>\n",
       "    </tr>\n",
       "    <tr>\n",
       "      <th>min</th>\n",
       "      <td>0.000000</td>\n",
       "      <td>1.000000</td>\n",
       "      <td>0.000000</td>\n",
       "      <td>1.000000</td>\n",
       "    </tr>\n",
       "    <tr>\n",
       "      <th>25%</th>\n",
       "      <td>3.000000</td>\n",
       "      <td>1.000000</td>\n",
       "      <td>1.000000</td>\n",
       "      <td>3.000000</td>\n",
       "    </tr>\n",
       "    <tr>\n",
       "      <th>50%</th>\n",
       "      <td>5.000000</td>\n",
       "      <td>2.000000</td>\n",
       "      <td>3.000000</td>\n",
       "      <td>3.000000</td>\n",
       "    </tr>\n",
       "    <tr>\n",
       "      <th>75%</th>\n",
       "      <td>6.000000</td>\n",
       "      <td>3.000000</td>\n",
       "      <td>4.000000</td>\n",
       "      <td>4.000000</td>\n",
       "    </tr>\n",
       "    <tr>\n",
       "      <th>max</th>\n",
       "      <td>10.000000</td>\n",
       "      <td>5.000000</td>\n",
       "      <td>10.000000</td>\n",
       "      <td>55.000000</td>\n",
       "    </tr>\n",
       "  </tbody>\n",
       "</table>\n",
       "</div>"
      ],
      "text/plain": [
       "           ppltrst     cptppola      trstplt      ccnthum\n",
       "count  2070.000000  2055.000000  2059.000000  2024.000000\n",
       "mean      4.583575     2.195134     2.893152     3.614625\n",
       "std       2.143143     0.943060     2.094522     2.907148\n",
       "min       0.000000     1.000000     0.000000     1.000000\n",
       "25%       3.000000     1.000000     1.000000     3.000000\n",
       "50%       5.000000     2.000000     3.000000     3.000000\n",
       "75%       6.000000     3.000000     4.000000     4.000000\n",
       "max      10.000000     5.000000    10.000000    55.000000"
      ]
     },
     "execution_count": 145,
     "metadata": {},
     "output_type": "execute_result"
    }
   ],
   "source": [
    "base_indiv[['ppltrst', 'cptppola', 'trstplt', 'ccnthum']].describe()"
   ]
  },
  {
   "cell_type": "markdown",
   "metadata": {},
   "source": [
    "On remarque que la variable ccnthum prend des valeurs 55. Cette valeur signifie que l'individu pense qu'il n'y a pas de changement climatique. Il y a donc une défiance de l'individu vis à vis du discours scientifique. On associe cette valeur à la valeur minimal de notre échelle c'est-à-dire 0."
   ]
  },
  {
   "cell_type": "code",
   "execution_count": 146,
   "metadata": {},
   "outputs": [],
   "source": [
    "base_indiv['ccnthum'].replace(to_replace = 55, value = 0, inplace = True)"
   ]
  },
  {
   "cell_type": "markdown",
   "metadata": {},
   "source": [
    "Ensuite, on traite le problème des valeurs manquantes, en imputant la moyenne de la variable aux variables manquantes. Pour cela, on applique à toutes les colonnes concernées la fonction \"fillna\"."
   ]
  },
  {
   "cell_type": "code",
   "execution_count": 147,
   "metadata": {},
   "outputs": [],
   "source": [
    "base_indiv[['ppltrst', 'cptppola', 'trstplt', 'ccnthum']] = base_indiv[['ppltrst', 'cptppola', 'trstplt', 'ccnthum']].apply(lambda x: x.fillna(x.mean()), axis = 0)"
   ]
  },
  {
   "cell_type": "markdown",
   "metadata": {},
   "source": [
    "Nous nous intéréssons à ces quatre variables pour savoir si elles sont à mêmes d'expliquer la même chose, c'est-à-dire la confiance. Il faut donc que les corrélations entre ces quatre varibales aillent dans le même sens, et qu'elles soient quantitativement significatives pour que le proxy soit pertinent. "
   ]
  },
  {
   "cell_type": "code",
   "execution_count": 148,
   "metadata": {},
   "outputs": [
    {
     "data": {
      "text/html": [
       "<div>\n",
       "<style scoped>\n",
       "    .dataframe tbody tr th:only-of-type {\n",
       "        vertical-align: middle;\n",
       "    }\n",
       "\n",
       "    .dataframe tbody tr th {\n",
       "        vertical-align: top;\n",
       "    }\n",
       "\n",
       "    .dataframe thead th {\n",
       "        text-align: right;\n",
       "    }\n",
       "</style>\n",
       "<table border=\"1\" class=\"dataframe\">\n",
       "  <thead>\n",
       "    <tr style=\"text-align: right;\">\n",
       "      <th></th>\n",
       "      <th>ppltrst</th>\n",
       "      <th>cptppola</th>\n",
       "      <th>trstplt</th>\n",
       "      <th>ccnthum</th>\n",
       "    </tr>\n",
       "  </thead>\n",
       "  <tbody>\n",
       "    <tr>\n",
       "      <th>ppltrst</th>\n",
       "      <td>1.000000</td>\n",
       "      <td>0.172341</td>\n",
       "      <td>0.300675</td>\n",
       "      <td>0.041839</td>\n",
       "    </tr>\n",
       "    <tr>\n",
       "      <th>cptppola</th>\n",
       "      <td>0.172341</td>\n",
       "      <td>1.000000</td>\n",
       "      <td>0.170359</td>\n",
       "      <td>0.092971</td>\n",
       "    </tr>\n",
       "    <tr>\n",
       "      <th>trstplt</th>\n",
       "      <td>0.300675</td>\n",
       "      <td>0.170359</td>\n",
       "      <td>1.000000</td>\n",
       "      <td>-0.024866</td>\n",
       "    </tr>\n",
       "    <tr>\n",
       "      <th>ccnthum</th>\n",
       "      <td>0.041839</td>\n",
       "      <td>0.092971</td>\n",
       "      <td>-0.024866</td>\n",
       "      <td>1.000000</td>\n",
       "    </tr>\n",
       "  </tbody>\n",
       "</table>\n",
       "</div>"
      ],
      "text/plain": [
       "           ppltrst  cptppola   trstplt   ccnthum\n",
       "ppltrst   1.000000  0.172341  0.300675  0.041839\n",
       "cptppola  0.172341  1.000000  0.170359  0.092971\n",
       "trstplt   0.300675  0.170359  1.000000 -0.024866\n",
       "ccnthum   0.041839  0.092971 -0.024866  1.000000"
      ]
     },
     "execution_count": 148,
     "metadata": {},
     "output_type": "execute_result"
    }
   ],
   "source": [
    "base_indiv[['ppltrst', 'cptppola', 'trstplt', 'ccnthum']].corr()"
   ]
  },
  {
   "cell_type": "code",
   "execution_count": 149,
   "metadata": {},
   "outputs": [
    {
     "data": {
      "text/plain": [
       "<matplotlib.axes._subplots.AxesSubplot at 0x2bffd9dfc70>"
      ]
     },
     "execution_count": 149,
     "metadata": {},
     "output_type": "execute_result"
    },
    {
     "data": {
      "image/png": "[encoded data removed]",
      "text/plain": [
       "<Figure size 432x288 with 2 Axes>"
      ]
     },
     "metadata": {
      "needs_background": "light"
     },
     "output_type": "display_data"
    }
   ],
   "source": [
    "sns.heatmap(base_indiv[['ppltrst', 'cptppola', 'trstplt', 'ccnthum']].corr(), cmap='coolwarm', annot=True, fmt=\".2f\")"
   ]
  },
  {
   "cell_type": "markdown",
   "metadata": {},
   "source": [
    "Toutes les variables sont corrélées dans le même sens, ce qui peut nous amener à penser qu'elles ont un effet causal commun qui est celui de la confiance. On cherche donc à construire notre proxy, qui serait une variable comprise entre 0 et 10 et qui pondérerait chacune des quatre variables de la même façon, que l'on finit par représenter graphiquement:"
   ]
  },
  {
   "cell_type": "code",
   "execution_count": 150,
   "metadata": {},
   "outputs": [
    {
     "data": {
      "text/plain": [
       "<matplotlib.axes._subplots.AxesSubplot at 0x2bffd98c250>"
      ]
     },
     "execution_count": 150,
     "metadata": {},
     "output_type": "execute_result"
    },
    {
     "data": {
      "image/png": "[encoded data removed]",
      "text/plain": [
       "<Figure size 432x288 with 1 Axes>"
      ]
     },
     "metadata": {
      "needs_background": "light"
     },
     "output_type": "display_data"
    }
   ],
   "source": [
    "base_indiv['confiance'] = (base_indiv['ppltrst'] + base_indiv['trstplt'])/10 + (base_indiv['cptppola'] - 1)/4 + (base_indiv['ccnthum'])/5\n",
    "base_indiv['confiance'] = base_indiv['confiance'] * 10/4\n",
    "sns.distplot(base_indiv['confiance'], kde=True, bins = 15)"
   ]
  },
  {
   "cell_type": "markdown",
   "metadata": {},
   "source": [
    "### Proxy engagement"
   ]
  },
  {
   "cell_type": "markdown",
   "metadata": {},
   "source": [
    "Nous construisons désormais le proxy engagement qui correspond à la participation plus ou moins active de l'individu dans la vie politique. Ce proxy se construit à partir de six variables: \n",
    "\n",
    "-polintr, à quel point l'individu est intéréssé par la politique\n",
    "\n",
    "-vote, si l'individu a voté aux dernières élections\n",
    "\n",
    "-pbldmn, si l'individu participe à des manifestations\n",
    "\n",
    "-bctprd, si l'individu participe à des boycotts de produits\n",
    "\n",
    "-pstplonl, si l'individu publie ou non des choses sur internet\n",
    "\n",
    "-mbtru, si l'individu est membre ou non d'un syndicat "
   ]
  },
  {
   "cell_type": "code",
   "execution_count": 151,
   "metadata": {},
   "outputs": [
    {
     "data": {
      "text/html": [
       "<div>\n",
       "<style scoped>\n",
       "    .dataframe tbody tr th:only-of-type {\n",
       "        vertical-align: middle;\n",
       "    }\n",
       "\n",
       "    .dataframe tbody tr th {\n",
       "        vertical-align: top;\n",
       "    }\n",
       "\n",
       "    .dataframe thead th {\n",
       "        text-align: right;\n",
       "    }\n",
       "</style>\n",
       "<table border=\"1\" class=\"dataframe\">\n",
       "  <thead>\n",
       "    <tr style=\"text-align: right;\">\n",
       "      <th></th>\n",
       "      <th>polintr</th>\n",
       "      <th>vote</th>\n",
       "      <th>pbldmn</th>\n",
       "      <th>bctprd</th>\n",
       "      <th>pstplonl</th>\n",
       "      <th>mbtru</th>\n",
       "    </tr>\n",
       "  </thead>\n",
       "  <tbody>\n",
       "    <tr>\n",
       "      <th>count</th>\n",
       "      <td>2069.000000</td>\n",
       "      <td>2003.00000</td>\n",
       "      <td>2068.000000</td>\n",
       "      <td>2065.000000</td>\n",
       "      <td>2068.000000</td>\n",
       "      <td>2063.000000</td>\n",
       "    </tr>\n",
       "    <tr>\n",
       "      <th>mean</th>\n",
       "      <td>2.559691</td>\n",
       "      <td>1.52671</td>\n",
       "      <td>1.856867</td>\n",
       "      <td>1.676513</td>\n",
       "      <td>1.803191</td>\n",
       "      <td>2.713524</td>\n",
       "    </tr>\n",
       "    <tr>\n",
       "      <th>std</th>\n",
       "      <td>0.970024</td>\n",
       "      <td>0.70722</td>\n",
       "      <td>0.350294</td>\n",
       "      <td>0.467920</td>\n",
       "      <td>0.397683</td>\n",
       "      <td>0.591605</td>\n",
       "    </tr>\n",
       "    <tr>\n",
       "      <th>min</th>\n",
       "      <td>1.000000</td>\n",
       "      <td>1.00000</td>\n",
       "      <td>1.000000</td>\n",
       "      <td>1.000000</td>\n",
       "      <td>1.000000</td>\n",
       "      <td>1.000000</td>\n",
       "    </tr>\n",
       "    <tr>\n",
       "      <th>25%</th>\n",
       "      <td>2.000000</td>\n",
       "      <td>1.00000</td>\n",
       "      <td>2.000000</td>\n",
       "      <td>1.000000</td>\n",
       "      <td>2.000000</td>\n",
       "      <td>3.000000</td>\n",
       "    </tr>\n",
       "    <tr>\n",
       "      <th>50%</th>\n",
       "      <td>3.000000</td>\n",
       "      <td>1.00000</td>\n",
       "      <td>2.000000</td>\n",
       "      <td>2.000000</td>\n",
       "      <td>2.000000</td>\n",
       "      <td>3.000000</td>\n",
       "    </tr>\n",
       "    <tr>\n",
       "      <th>75%</th>\n",
       "      <td>3.000000</td>\n",
       "      <td>2.00000</td>\n",
       "      <td>2.000000</td>\n",
       "      <td>2.000000</td>\n",
       "      <td>2.000000</td>\n",
       "      <td>3.000000</td>\n",
       "    </tr>\n",
       "    <tr>\n",
       "      <th>max</th>\n",
       "      <td>4.000000</td>\n",
       "      <td>3.00000</td>\n",
       "      <td>2.000000</td>\n",
       "      <td>2.000000</td>\n",
       "      <td>2.000000</td>\n",
       "      <td>3.000000</td>\n",
       "    </tr>\n",
       "  </tbody>\n",
       "</table>\n",
       "</div>"
      ],
      "text/plain": [
       "           polintr        vote       pbldmn       bctprd     pstplonl  \\\n",
       "count  2069.000000  2003.00000  2068.000000  2065.000000  2068.000000   \n",
       "mean      2.559691     1.52671     1.856867     1.676513     1.803191   \n",
       "std       0.970024     0.70722     0.350294     0.467920     0.397683   \n",
       "min       1.000000     1.00000     1.000000     1.000000     1.000000   \n",
       "25%       2.000000     1.00000     2.000000     1.000000     2.000000   \n",
       "50%       3.000000     1.00000     2.000000     2.000000     2.000000   \n",
       "75%       3.000000     2.00000     2.000000     2.000000     2.000000   \n",
       "max       4.000000     3.00000     2.000000     2.000000     2.000000   \n",
       "\n",
       "             mbtru  \n",
       "count  2063.000000  \n",
       "mean      2.713524  \n",
       "std       0.591605  \n",
       "min       1.000000  \n",
       "25%       3.000000  \n",
       "50%       3.000000  \n",
       "75%       3.000000  \n",
       "max       3.000000  "
      ]
     },
     "execution_count": 151,
     "metadata": {},
     "output_type": "execute_result"
    }
   ],
   "source": [
    "base_indiv[['polintr', 'vote', 'pbldmn', 'bctprd', \"pstplonl\",'mbtru']].describe()"
   ]
  },
  {
   "cell_type": "markdown",
   "metadata": {},
   "source": [
    "Cependant, il semblerait que les variables que nous avons choisies pour notre proxy n'aient qu'un faible pouvoir explicatif pour déterminer le vote FN. En effet, à l'aide d'une matrice de corrélation, on voit que ces variables semblent très peu corrélées au vote FN, nous décidons alors de supprimer ce proxy dans notre analyse et de nous concentrer sur les 4 autres proxys (dont il nous en reste encore 3 à construire). "
   ]
  },
  {
   "cell_type": "code",
   "execution_count": 152,
   "metadata": {},
   "outputs": [],
   "source": [
    "base_indiv['FN'] = np.where(base_indiv['prtvtcfr'] == 2, 1, 0)"
   ]
  },
  {
   "cell_type": "code",
   "execution_count": 153,
   "metadata": {},
   "outputs": [
    {
     "data": {
      "text/html": [
       "<div>\n",
       "<style scoped>\n",
       "    .dataframe tbody tr th:only-of-type {\n",
       "        vertical-align: middle;\n",
       "    }\n",
       "\n",
       "    .dataframe tbody tr th {\n",
       "        vertical-align: top;\n",
       "    }\n",
       "\n",
       "    .dataframe thead th {\n",
       "        text-align: right;\n",
       "    }\n",
       "</style>\n",
       "<table border=\"1\" class=\"dataframe\">\n",
       "  <thead>\n",
       "    <tr style=\"text-align: right;\">\n",
       "      <th></th>\n",
       "      <th>FN</th>\n",
       "      <th>polintr</th>\n",
       "      <th>pbldmn</th>\n",
       "      <th>bctprd</th>\n",
       "      <th>pstplonl</th>\n",
       "      <th>mbtru</th>\n",
       "    </tr>\n",
       "  </thead>\n",
       "  <tbody>\n",
       "    <tr>\n",
       "      <th>FN</th>\n",
       "      <td>1.000000</td>\n",
       "      <td>-0.002011</td>\n",
       "      <td>0.016755</td>\n",
       "      <td>0.032278</td>\n",
       "      <td>0.003068</td>\n",
       "      <td>-0.010960</td>\n",
       "    </tr>\n",
       "    <tr>\n",
       "      <th>polintr</th>\n",
       "      <td>-0.002011</td>\n",
       "      <td>1.000000</td>\n",
       "      <td>0.192964</td>\n",
       "      <td>0.220393</td>\n",
       "      <td>0.197913</td>\n",
       "      <td>0.156257</td>\n",
       "    </tr>\n",
       "    <tr>\n",
       "      <th>pbldmn</th>\n",
       "      <td>0.016755</td>\n",
       "      <td>0.192964</td>\n",
       "      <td>1.000000</td>\n",
       "      <td>0.212129</td>\n",
       "      <td>0.221302</td>\n",
       "      <td>0.231845</td>\n",
       "    </tr>\n",
       "    <tr>\n",
       "      <th>bctprd</th>\n",
       "      <td>0.032278</td>\n",
       "      <td>0.220393</td>\n",
       "      <td>0.212129</td>\n",
       "      <td>1.000000</td>\n",
       "      <td>0.251190</td>\n",
       "      <td>0.126467</td>\n",
       "    </tr>\n",
       "    <tr>\n",
       "      <th>pstplonl</th>\n",
       "      <td>0.003068</td>\n",
       "      <td>0.197913</td>\n",
       "      <td>0.221302</td>\n",
       "      <td>0.251190</td>\n",
       "      <td>1.000000</td>\n",
       "      <td>0.095355</td>\n",
       "    </tr>\n",
       "    <tr>\n",
       "      <th>mbtru</th>\n",
       "      <td>-0.010960</td>\n",
       "      <td>0.156257</td>\n",
       "      <td>0.231845</td>\n",
       "      <td>0.126467</td>\n",
       "      <td>0.095355</td>\n",
       "      <td>1.000000</td>\n",
       "    </tr>\n",
       "  </tbody>\n",
       "</table>\n",
       "</div>"
      ],
      "text/plain": [
       "                FN   polintr    pbldmn    bctprd  pstplonl     mbtru\n",
       "FN        1.000000 -0.002011  0.016755  0.032278  0.003068 -0.010960\n",
       "polintr  -0.002011  1.000000  0.192964  0.220393  0.197913  0.156257\n",
       "pbldmn    0.016755  0.192964  1.000000  0.212129  0.221302  0.231845\n",
       "bctprd    0.032278  0.220393  0.212129  1.000000  0.251190  0.126467\n",
       "pstplonl  0.003068  0.197913  0.221302  0.251190  1.000000  0.095355\n",
       "mbtru    -0.010960  0.156257  0.231845  0.126467  0.095355  1.000000"
      ]
     },
     "execution_count": 153,
     "metadata": {},
     "output_type": "execute_result"
    }
   ],
   "source": [
    "base_indiv[['FN', 'polintr', 'pbldmn' , 'bctprd', 'pstplonl', 'mbtru']].corr()"
   ]
  },
  {
   "cell_type": "code",
   "execution_count": 154,
   "metadata": {},
   "outputs": [
    {
     "data": {
      "text/plain": [
       "<matplotlib.axes._subplots.AxesSubplot at 0x2bffdba5670>"
      ]
     },
     "execution_count": 154,
     "metadata": {},
     "output_type": "execute_result"
    },
    {
     "data": {
      "image/png": "[encoded data removed]",
      "text/plain": [
       "<Figure size 432x288 with 2 Axes>"
      ]
     },
     "metadata": {
      "needs_background": "light"
     },
     "output_type": "display_data"
    }
   ],
   "source": [
    "sns.heatmap(base_indiv[['FN', 'polintr', 'pbldmn' , 'bctprd', 'pstplonl', 'mbtru']].corr(), cmap='coolwarm', annot=True, fmt=\".2f\")"
   ]
  },
  {
   "cell_type": "markdown",
   "metadata": {},
   "source": [
    "### Proxy bien-être"
   ]
  },
  {
   "cell_type": "markdown",
   "metadata": {},
   "source": [
    "Nous passons au proxy du bien-être qui correspond au bien-être ressenti subjectivement par l'individu. Ce proxy se construit à l'aide de 5 variables :\n",
    "\n",
    "-stflife, à quel point l'individu est satisfait dans sa vie\n",
    "\n",
    "-stfedu, opinion de l'individu sur le système éducatif du pays\n",
    "\n",
    "-stfhlth, opinion de l'individu sur l'état du système de santé du pays\n",
    "\n",
    "-health, état de santé estimé par l'individu"
   ]
  },
  {
   "cell_type": "code",
   "execution_count": 155,
   "metadata": {},
   "outputs": [
    {
     "data": {
      "text/html": [
       "<div>\n",
       "<style scoped>\n",
       "    .dataframe tbody tr th:only-of-type {\n",
       "        vertical-align: middle;\n",
       "    }\n",
       "\n",
       "    .dataframe tbody tr th {\n",
       "        vertical-align: top;\n",
       "    }\n",
       "\n",
       "    .dataframe thead th {\n",
       "        text-align: right;\n",
       "    }\n",
       "</style>\n",
       "<table border=\"1\" class=\"dataframe\">\n",
       "  <thead>\n",
       "    <tr style=\"text-align: right;\">\n",
       "      <th></th>\n",
       "      <th>stflife</th>\n",
       "      <th>stfedu</th>\n",
       "      <th>stfhlth</th>\n",
       "      <th>health</th>\n",
       "    </tr>\n",
       "  </thead>\n",
       "  <tbody>\n",
       "    <tr>\n",
       "      <th>count</th>\n",
       "      <td>2068.000000</td>\n",
       "      <td>2050.000000</td>\n",
       "      <td>2065.000000</td>\n",
       "      <td>2068.000000</td>\n",
       "    </tr>\n",
       "    <tr>\n",
       "      <th>mean</th>\n",
       "      <td>6.540619</td>\n",
       "      <td>4.752195</td>\n",
       "      <td>6.282809</td>\n",
       "      <td>2.354449</td>\n",
       "    </tr>\n",
       "    <tr>\n",
       "      <th>std</th>\n",
       "      <td>2.268779</td>\n",
       "      <td>2.136635</td>\n",
       "      <td>2.081298</td>\n",
       "      <td>0.910400</td>\n",
       "    </tr>\n",
       "    <tr>\n",
       "      <th>min</th>\n",
       "      <td>0.000000</td>\n",
       "      <td>0.000000</td>\n",
       "      <td>0.000000</td>\n",
       "      <td>1.000000</td>\n",
       "    </tr>\n",
       "    <tr>\n",
       "      <th>25%</th>\n",
       "      <td>5.000000</td>\n",
       "      <td>3.000000</td>\n",
       "      <td>5.000000</td>\n",
       "      <td>2.000000</td>\n",
       "    </tr>\n",
       "    <tr>\n",
       "      <th>50%</th>\n",
       "      <td>7.000000</td>\n",
       "      <td>5.000000</td>\n",
       "      <td>7.000000</td>\n",
       "      <td>2.000000</td>\n",
       "    </tr>\n",
       "    <tr>\n",
       "      <th>75%</th>\n",
       "      <td>8.000000</td>\n",
       "      <td>6.000000</td>\n",
       "      <td>8.000000</td>\n",
       "      <td>3.000000</td>\n",
       "    </tr>\n",
       "    <tr>\n",
       "      <th>max</th>\n",
       "      <td>10.000000</td>\n",
       "      <td>10.000000</td>\n",
       "      <td>10.000000</td>\n",
       "      <td>5.000000</td>\n",
       "    </tr>\n",
       "  </tbody>\n",
       "</table>\n",
       "</div>"
      ],
      "text/plain": [
       "           stflife       stfedu      stfhlth       health\n",
       "count  2068.000000  2050.000000  2065.000000  2068.000000\n",
       "mean      6.540619     4.752195     6.282809     2.354449\n",
       "std       2.268779     2.136635     2.081298     0.910400\n",
       "min       0.000000     0.000000     0.000000     1.000000\n",
       "25%       5.000000     3.000000     5.000000     2.000000\n",
       "50%       7.000000     5.000000     7.000000     2.000000\n",
       "75%       8.000000     6.000000     8.000000     3.000000\n",
       "max      10.000000    10.000000    10.000000     5.000000"
      ]
     },
     "execution_count": 155,
     "metadata": {},
     "output_type": "execute_result"
    }
   ],
   "source": [
    "base_indiv[['stflife', 'stfedu', 'stfhlth', 'health']].describe()"
   ]
  },
  {
   "cell_type": "markdown",
   "metadata": {},
   "source": [
    "Aucune valeur ne sort de l'échelle principale. Cependant, on remarque que la variable health ne va pas dans le même sens logique que les autres variables: si les trois autres considèrent les petites valeurs comme un mal-être ressenti par l'individu, la variable health quant à elle attribue aux petites valeurs un bon état de santé : on inverse donc l'échelle pour remédier à ce problème et que notre proxy ait du sens."
   ]
  },
  {
   "cell_type": "code",
   "execution_count": 156,
   "metadata": {},
   "outputs": [],
   "source": [
    "base_indiv['health'].replace(to_replace = [1,2,3,4,5], value = [5,4,3,2,1], inplace = True)"
   ]
  },
  {
   "cell_type": "markdown",
   "metadata": {},
   "source": [
    "Ensuite, on traite le problème des valeurs manquantes, de la même façon que précédemment."
   ]
  },
  {
   "cell_type": "code",
   "execution_count": 157,
   "metadata": {},
   "outputs": [],
   "source": [
    "base_indiv[['stflife', 'stfedu', 'stfhlth', 'health']] = base_indiv[['stflife', 'stfedu', 'stfhlth', 'health']].apply(lambda x: x.fillna(x.mean()), axis = 0)"
   ]
  },
  {
   "cell_type": "markdown",
   "metadata": {},
   "source": [
    "On souhaite désormais vérifier que les quatre variables aient un effet causal similaire, c'est-à-dire qu'elles aient une corrélation quantitativement significative, et de même signe ce qui est le cas:  (on décide donc de garder les quatre variables au sein de notre proxy)."
   ]
  },
  {
   "cell_type": "code",
   "execution_count": 158,
   "metadata": {},
   "outputs": [
    {
     "data": {
      "text/html": [
       "<div>\n",
       "<style scoped>\n",
       "    .dataframe tbody tr th:only-of-type {\n",
       "        vertical-align: middle;\n",
       "    }\n",
       "\n",
       "    .dataframe tbody tr th {\n",
       "        vertical-align: top;\n",
       "    }\n",
       "\n",
       "    .dataframe thead th {\n",
       "        text-align: right;\n",
       "    }\n",
       "</style>\n",
       "<table border=\"1\" class=\"dataframe\">\n",
       "  <thead>\n",
       "    <tr style=\"text-align: right;\">\n",
       "      <th></th>\n",
       "      <th>stflife</th>\n",
       "      <th>stfedu</th>\n",
       "      <th>stfhlth</th>\n",
       "      <th>health</th>\n",
       "    </tr>\n",
       "  </thead>\n",
       "  <tbody>\n",
       "    <tr>\n",
       "      <th>stflife</th>\n",
       "      <td>1.000000</td>\n",
       "      <td>0.192885</td>\n",
       "      <td>0.265723</td>\n",
       "      <td>0.294791</td>\n",
       "    </tr>\n",
       "    <tr>\n",
       "      <th>stfedu</th>\n",
       "      <td>0.192885</td>\n",
       "      <td>1.000000</td>\n",
       "      <td>0.386514</td>\n",
       "      <td>0.068878</td>\n",
       "    </tr>\n",
       "    <tr>\n",
       "      <th>stfhlth</th>\n",
       "      <td>0.265723</td>\n",
       "      <td>0.386514</td>\n",
       "      <td>1.000000</td>\n",
       "      <td>0.126034</td>\n",
       "    </tr>\n",
       "    <tr>\n",
       "      <th>health</th>\n",
       "      <td>0.294791</td>\n",
       "      <td>0.068878</td>\n",
       "      <td>0.126034</td>\n",
       "      <td>1.000000</td>\n",
       "    </tr>\n",
       "  </tbody>\n",
       "</table>\n",
       "</div>"
      ],
      "text/plain": [
       "          stflife    stfedu   stfhlth    health\n",
       "stflife  1.000000  0.192885  0.265723  0.294791\n",
       "stfedu   0.192885  1.000000  0.386514  0.068878\n",
       "stfhlth  0.265723  0.386514  1.000000  0.126034\n",
       "health   0.294791  0.068878  0.126034  1.000000"
      ]
     },
     "execution_count": 158,
     "metadata": {},
     "output_type": "execute_result"
    }
   ],
   "source": [
    "base_indiv[['stflife', 'stfedu', 'stfhlth', 'health']].corr()"
   ]
  },
  {
   "cell_type": "code",
   "execution_count": 159,
   "metadata": {},
   "outputs": [
    {
     "data": {
      "text/plain": [
       "<matplotlib.axes._subplots.AxesSubplot at 0x2bffdc37f40>"
      ]
     },
     "execution_count": 159,
     "metadata": {},
     "output_type": "execute_result"
    },
    {
     "data": {
      "image/png": "[encoded data removed]",
      "text/plain": [
       "<Figure size 432x288 with 2 Axes>"
      ]
     },
     "metadata": {
      "needs_background": "light"
     },
     "output_type": "display_data"
    }
   ],
   "source": [
    "sns.heatmap(base_indiv[['stflife', 'stfedu', 'stfhlth', 'health']].corr(), cmap='coolwarm', annot=True, fmt=\".2f\")"
   ]
  },
  {
   "cell_type": "markdown",
   "metadata": {},
   "source": [
    "On cherche donc à construire notre proxy, qui serait une variable comprise entre 0 et 10 et qui pondérerait chacune des quatre variables de la même façon:"
   ]
  },
  {
   "cell_type": "code",
   "execution_count": 160,
   "metadata": {},
   "outputs": [
    {
     "data": {
      "text/plain": [
       "<matplotlib.axes._subplots.AxesSubplot at 0x2bffdc803d0>"
      ]
     },
     "execution_count": 160,
     "metadata": {},
     "output_type": "execute_result"
    },
    {
     "data": {
      "image/png": "[encoded data removed]",
      "text/plain": [
       "<Figure size 432x288 with 1 Axes>"
      ]
     },
     "metadata": {
      "needs_background": "light"
     },
     "output_type": "display_data"
    }
   ],
   "source": [
    "base_indiv['bienêtre'] = (base_indiv['stflife'] + base_indiv['stfedu'] + base_indiv['stfhlth'])/10 + (base_indiv['health'] - 1)/4\n",
    "base_indiv['bienêtre'] = base_indiv['bienêtre'] * 10/4\n",
    "\n",
    "sns.distplot(base_indiv['bienêtre'], kde=True, bins = 15)\n"
   ]
  },
  {
   "cell_type": "markdown",
   "metadata": {},
   "source": [
    "### Proxy protection"
   ]
  },
  {
   "cell_type": "markdown",
   "metadata": {},
   "source": [
    "On construit désormais le proxy de demande de protection des individus et du sentiment de sécurité. Ils se basent sur 5 variables: \n",
    "\n",
    "-gincdif, le gouvernement a pour mission de réduire les inégalités\n",
    "\n",
    "-euftf, avis sur l'intégration européenne\n",
    "\n",
    "-imwbcnt, avis de l'individu à propos des immigrants \n",
    "\n",
    "-aesfdrk, sentiment de sécurité \n",
    "\n",
    "-ipstrgv, le gouvernement doit être fort"
   ]
  },
  {
   "cell_type": "code",
   "execution_count": 161,
   "metadata": {},
   "outputs": [
    {
     "data": {
      "text/html": [
       "<div>\n",
       "<style scoped>\n",
       "    .dataframe tbody tr th:only-of-type {\n",
       "        vertical-align: middle;\n",
       "    }\n",
       "\n",
       "    .dataframe tbody tr th {\n",
       "        vertical-align: top;\n",
       "    }\n",
       "\n",
       "    .dataframe thead th {\n",
       "        text-align: right;\n",
       "    }\n",
       "</style>\n",
       "<table border=\"1\" class=\"dataframe\">\n",
       "  <thead>\n",
       "    <tr style=\"text-align: right;\">\n",
       "      <th></th>\n",
       "      <th>gincdif</th>\n",
       "      <th>euftf</th>\n",
       "      <th>imwbcnt</th>\n",
       "      <th>aesfdrk</th>\n",
       "      <th>ipstrgv</th>\n",
       "    </tr>\n",
       "  </thead>\n",
       "  <tbody>\n",
       "    <tr>\n",
       "      <th>count</th>\n",
       "      <td>2056.000000</td>\n",
       "      <td>1989.000000</td>\n",
       "      <td>2043.000000</td>\n",
       "      <td>2022.000000</td>\n",
       "      <td>2049.000000</td>\n",
       "    </tr>\n",
       "    <tr>\n",
       "      <th>mean</th>\n",
       "      <td>2.073444</td>\n",
       "      <td>5.001508</td>\n",
       "      <td>4.822320</td>\n",
       "      <td>1.976261</td>\n",
       "      <td>2.468033</td>\n",
       "    </tr>\n",
       "    <tr>\n",
       "      <th>std</th>\n",
       "      <td>1.108672</td>\n",
       "      <td>2.579032</td>\n",
       "      <td>2.252706</td>\n",
       "      <td>0.913059</td>\n",
       "      <td>1.304693</td>\n",
       "    </tr>\n",
       "    <tr>\n",
       "      <th>min</th>\n",
       "      <td>1.000000</td>\n",
       "      <td>0.000000</td>\n",
       "      <td>0.000000</td>\n",
       "      <td>1.000000</td>\n",
       "      <td>1.000000</td>\n",
       "    </tr>\n",
       "    <tr>\n",
       "      <th>25%</th>\n",
       "      <td>1.000000</td>\n",
       "      <td>3.000000</td>\n",
       "      <td>4.000000</td>\n",
       "      <td>1.000000</td>\n",
       "      <td>1.000000</td>\n",
       "    </tr>\n",
       "    <tr>\n",
       "      <th>50%</th>\n",
       "      <td>2.000000</td>\n",
       "      <td>5.000000</td>\n",
       "      <td>5.000000</td>\n",
       "      <td>2.000000</td>\n",
       "      <td>2.000000</td>\n",
       "    </tr>\n",
       "    <tr>\n",
       "      <th>75%</th>\n",
       "      <td>3.000000</td>\n",
       "      <td>7.000000</td>\n",
       "      <td>6.000000</td>\n",
       "      <td>2.000000</td>\n",
       "      <td>3.000000</td>\n",
       "    </tr>\n",
       "    <tr>\n",
       "      <th>max</th>\n",
       "      <td>5.000000</td>\n",
       "      <td>10.000000</td>\n",
       "      <td>10.000000</td>\n",
       "      <td>4.000000</td>\n",
       "      <td>6.000000</td>\n",
       "    </tr>\n",
       "  </tbody>\n",
       "</table>\n",
       "</div>"
      ],
      "text/plain": [
       "           gincdif        euftf      imwbcnt      aesfdrk      ipstrgv\n",
       "count  2056.000000  1989.000000  2043.000000  2022.000000  2049.000000\n",
       "mean      2.073444     5.001508     4.822320     1.976261     2.468033\n",
       "std       1.108672     2.579032     2.252706     0.913059     1.304693\n",
       "min       1.000000     0.000000     0.000000     1.000000     1.000000\n",
       "25%       1.000000     3.000000     4.000000     1.000000     1.000000\n",
       "50%       2.000000     5.000000     5.000000     2.000000     2.000000\n",
       "75%       3.000000     7.000000     6.000000     2.000000     3.000000\n",
       "max       5.000000    10.000000    10.000000     4.000000     6.000000"
      ]
     },
     "execution_count": 161,
     "metadata": {},
     "output_type": "execute_result"
    }
   ],
   "source": [
    "base_indiv[['gincdif', 'euftf', 'imwbcnt', 'aesfdrk', 'ipstrgv']].describe()"
   ]
  },
  {
   "cell_type": "markdown",
   "metadata": {},
   "source": [
    "Aucune variable ne sort de l'échelle principale, nous pouvons continuer la modélisation du proxy. On remarque que la variable aesfdrk ne va pas dans le même sens que les autres variables dans la demande de protection: les petites valeurs reflètent un sentiment de sécurité alors que pour les autres variables, les petites valeurs reflètent un sentiment d'insécurité et une demande de protection. On inverse donc l'échelle des valeurs prises par cette variable."
   ]
  },
  {
   "cell_type": "code",
   "execution_count": 162,
   "metadata": {},
   "outputs": [],
   "source": [
    "base_indiv['aesfdrk'].replace(to_replace = [1,2,3,4], value = [4,3,2,1], inplace = True)"
   ]
  },
  {
   "cell_type": "markdown",
   "metadata": {},
   "source": [
    "On traite le problème des valeurs manquantes."
   ]
  },
  {
   "cell_type": "code",
   "execution_count": 163,
   "metadata": {},
   "outputs": [],
   "source": [
    "base_indiv[['gincdif', 'euftf', 'imwbcnt', 'aesfdrk', 'ipstrgv']] = base_indiv[['gincdif', 'euftf', 'imwbcnt', 'aesfdrk', 'ipstrgv']].apply(lambda x: x.fillna(x.mean()), axis = 0)"
   ]
  },
  {
   "cell_type": "markdown",
   "metadata": {},
   "source": [
    "Pour sélectionner les variables incluses dans le proxy, comme d'habitude, on regarde la significativité quantitative des corrélations entre les différentes variables et si elles sont bien toutes positives."
   ]
  },
  {
   "cell_type": "code",
   "execution_count": 164,
   "metadata": {},
   "outputs": [
    {
     "data": {
      "text/html": [
       "<div>\n",
       "<style scoped>\n",
       "    .dataframe tbody tr th:only-of-type {\n",
       "        vertical-align: middle;\n",
       "    }\n",
       "\n",
       "    .dataframe tbody tr th {\n",
       "        vertical-align: top;\n",
       "    }\n",
       "\n",
       "    .dataframe thead th {\n",
       "        text-align: right;\n",
       "    }\n",
       "</style>\n",
       "<table border=\"1\" class=\"dataframe\">\n",
       "  <thead>\n",
       "    <tr style=\"text-align: right;\">\n",
       "      <th></th>\n",
       "      <th>gincdif</th>\n",
       "      <th>euftf</th>\n",
       "      <th>imwbcnt</th>\n",
       "      <th>aesfdrk</th>\n",
       "      <th>ipstrgv</th>\n",
       "    </tr>\n",
       "  </thead>\n",
       "  <tbody>\n",
       "    <tr>\n",
       "      <th>gincdif</th>\n",
       "      <td>1.000000</td>\n",
       "      <td>-0.002400</td>\n",
       "      <td>-0.029112</td>\n",
       "      <td>0.017039</td>\n",
       "      <td>-0.012962</td>\n",
       "    </tr>\n",
       "    <tr>\n",
       "      <th>euftf</th>\n",
       "      <td>-0.002400</td>\n",
       "      <td>1.000000</td>\n",
       "      <td>0.302753</td>\n",
       "      <td>0.061424</td>\n",
       "      <td>0.070401</td>\n",
       "    </tr>\n",
       "    <tr>\n",
       "      <th>imwbcnt</th>\n",
       "      <td>-0.029112</td>\n",
       "      <td>0.302753</td>\n",
       "      <td>1.000000</td>\n",
       "      <td>0.208643</td>\n",
       "      <td>0.103918</td>\n",
       "    </tr>\n",
       "    <tr>\n",
       "      <th>aesfdrk</th>\n",
       "      <td>0.017039</td>\n",
       "      <td>0.061424</td>\n",
       "      <td>0.208643</td>\n",
       "      <td>1.000000</td>\n",
       "      <td>0.117486</td>\n",
       "    </tr>\n",
       "    <tr>\n",
       "      <th>ipstrgv</th>\n",
       "      <td>-0.012962</td>\n",
       "      <td>0.070401</td>\n",
       "      <td>0.103918</td>\n",
       "      <td>0.117486</td>\n",
       "      <td>1.000000</td>\n",
       "    </tr>\n",
       "  </tbody>\n",
       "</table>\n",
       "</div>"
      ],
      "text/plain": [
       "          gincdif     euftf   imwbcnt   aesfdrk   ipstrgv\n",
       "gincdif  1.000000 -0.002400 -0.029112  0.017039 -0.012962\n",
       "euftf   -0.002400  1.000000  0.302753  0.061424  0.070401\n",
       "imwbcnt -0.029112  0.302753  1.000000  0.208643  0.103918\n",
       "aesfdrk  0.017039  0.061424  0.208643  1.000000  0.117486\n",
       "ipstrgv -0.012962  0.070401  0.103918  0.117486  1.000000"
      ]
     },
     "execution_count": 164,
     "metadata": {},
     "output_type": "execute_result"
    }
   ],
   "source": [
    "base_indiv[['gincdif', 'euftf', 'imwbcnt', 'aesfdrk', 'ipstrgv']].corr()"
   ]
  },
  {
   "cell_type": "code",
   "execution_count": 165,
   "metadata": {},
   "outputs": [
    {
     "data": {
      "text/plain": [
       "<matplotlib.axes._subplots.AxesSubplot at 0x2bffdd2bb20>"
      ]
     },
     "execution_count": 165,
     "metadata": {},
     "output_type": "execute_result"
    },
    {
     "data": {
      "image/png": "[encoded data removed]",
      "text/plain": [
       "<Figure size 432x288 with 2 Axes>"
      ]
     },
     "metadata": {
      "needs_background": "light"
     },
     "output_type": "display_data"
    }
   ],
   "source": [
    "sns.heatmap(base_indiv[['gincdif', 'euftf', 'imwbcnt', 'aesfdrk', 'ipstrgv']].corr(), cmap='coolwarm', annot=True, fmt=\".2f\")"
   ]
  },
  {
   "cell_type": "markdown",
   "metadata": {},
   "source": [
    "On remarque que les corrélations sont importantes entre toutes les variables sauf pour gincdif, c'est-à-dire la variable expliquant la volonté de l'individu d'avoir un état redistributeur. On enlève donc cette variable dans notre proxy que nous construisons désormais."
   ]
  },
  {
   "cell_type": "code",
   "execution_count": 166,
   "metadata": {},
   "outputs": [
    {
     "data": {
      "text/plain": [
       "<matplotlib.axes._subplots.AxesSubplot at 0x2bffdc83b80>"
      ]
     },
     "execution_count": 166,
     "metadata": {},
     "output_type": "execute_result"
    },
    {
     "data": {
      "image/png": "[encoded data removed]",
      "text/plain": [
       "<Figure size 432x288 with 1 Axes>"
      ]
     },
     "metadata": {
      "needs_background": "light"
     },
     "output_type": "display_data"
    }
   ],
   "source": [
    "base_indiv['protection'] = (base_indiv['euftf'] + base_indiv['imwbcnt'])/10 + (base_indiv['aesfdrk'] - 1)/3 + (base_indiv['ipstrgv'] - 1)/5\n",
    "base_indiv['protection'] = base_indiv['protection'] * 10/4\n",
    "sns.distplot(base_indiv['protection'], kde=True, bins = 15)"
   ]
  },
  {
   "cell_type": "markdown",
   "metadata": {},
   "source": [
    "### Proxy progressisme"
   ]
  },
  {
   "cell_type": "markdown",
   "metadata": {},
   "source": [
    "Nous construisons notre dernière variable qui est un proxy du progressisme social de l'individu. Il est construit à partir de trois variables différentes: \n",
    "\n",
    "-mnrgtjb, avis sur le fait que les hommes soient avantagés sur le marché du travail\n",
    "\n",
    "-freehms, opinion sur les homosexuels\n",
    "\n",
    "-imptrad, opinion sur les traditions"
   ]
  },
  {
   "cell_type": "code",
   "execution_count": 167,
   "metadata": {},
   "outputs": [
    {
     "data": {
      "text/html": [
       "<div>\n",
       "<style scoped>\n",
       "    .dataframe tbody tr th:only-of-type {\n",
       "        vertical-align: middle;\n",
       "    }\n",
       "\n",
       "    .dataframe tbody tr th {\n",
       "        vertical-align: top;\n",
       "    }\n",
       "\n",
       "    .dataframe thead th {\n",
       "        text-align: right;\n",
       "    }\n",
       "</style>\n",
       "<table border=\"1\" class=\"dataframe\">\n",
       "  <thead>\n",
       "    <tr style=\"text-align: right;\">\n",
       "      <th></th>\n",
       "      <th>mnrgtjb</th>\n",
       "      <th>freehms</th>\n",
       "      <th>imptrad</th>\n",
       "    </tr>\n",
       "  </thead>\n",
       "  <tbody>\n",
       "    <tr>\n",
       "      <th>count</th>\n",
       "      <td>2064.000000</td>\n",
       "      <td>2051.000000</td>\n",
       "      <td>2056.000000</td>\n",
       "    </tr>\n",
       "    <tr>\n",
       "      <th>mean</th>\n",
       "      <td>4.462694</td>\n",
       "      <td>1.563140</td>\n",
       "      <td>3.321498</td>\n",
       "    </tr>\n",
       "    <tr>\n",
       "      <th>std</th>\n",
       "      <td>1.002452</td>\n",
       "      <td>0.969932</td>\n",
       "      <td>1.578519</td>\n",
       "    </tr>\n",
       "    <tr>\n",
       "      <th>min</th>\n",
       "      <td>1.000000</td>\n",
       "      <td>1.000000</td>\n",
       "      <td>1.000000</td>\n",
       "    </tr>\n",
       "    <tr>\n",
       "      <th>25%</th>\n",
       "      <td>4.000000</td>\n",
       "      <td>1.000000</td>\n",
       "      <td>2.000000</td>\n",
       "    </tr>\n",
       "    <tr>\n",
       "      <th>50%</th>\n",
       "      <td>5.000000</td>\n",
       "      <td>1.000000</td>\n",
       "      <td>3.000000</td>\n",
       "    </tr>\n",
       "    <tr>\n",
       "      <th>75%</th>\n",
       "      <td>5.000000</td>\n",
       "      <td>2.000000</td>\n",
       "      <td>5.000000</td>\n",
       "    </tr>\n",
       "    <tr>\n",
       "      <th>max</th>\n",
       "      <td>5.000000</td>\n",
       "      <td>5.000000</td>\n",
       "      <td>6.000000</td>\n",
       "    </tr>\n",
       "  </tbody>\n",
       "</table>\n",
       "</div>"
      ],
      "text/plain": [
       "           mnrgtjb      freehms      imptrad\n",
       "count  2064.000000  2051.000000  2056.000000\n",
       "mean      4.462694     1.563140     3.321498\n",
       "std       1.002452     0.969932     1.578519\n",
       "min       1.000000     1.000000     1.000000\n",
       "25%       4.000000     1.000000     2.000000\n",
       "50%       5.000000     1.000000     3.000000\n",
       "75%       5.000000     2.000000     5.000000\n",
       "max       5.000000     5.000000     6.000000"
      ]
     },
     "execution_count": 167,
     "metadata": {},
     "output_type": "execute_result"
    }
   ],
   "source": [
    "base_indiv[['mnrgtjb', 'freehms', 'imptrad']].describe()"
   ]
  },
  {
   "cell_type": "markdown",
   "metadata": {},
   "source": [
    "Aucunes des trois variables ne sort de l'échelle. Comme précédemment, on remarque que la seconde variable ne va pas dans le même sens que les deux autres: une forte valeur correspond à quelqu'un de peu progressiste ( ce qui est l'inverse des deux autres). On  inverse donc l'échelle de cette variable."
   ]
  },
  {
   "cell_type": "code",
   "execution_count": 168,
   "metadata": {},
   "outputs": [],
   "source": [
    "base_indiv['freehms'].replace(to_replace = [1,2,3,4,5], value = [5,4,3,2,1], inplace = True)"
   ]
  },
  {
   "cell_type": "markdown",
   "metadata": {},
   "source": [
    "On traite ensuite le problème des valeurs manquantes:"
   ]
  },
  {
   "cell_type": "code",
   "execution_count": 169,
   "metadata": {},
   "outputs": [],
   "source": [
    "base_indiv[['mnrgtjb', 'freehms', 'imptrad']] = base_indiv[['mnrgtjb', 'freehms', 'imptrad']].apply(lambda x: x.fillna(x.mean()), axis = 0)"
   ]
  },
  {
   "cell_type": "markdown",
   "metadata": {},
   "source": [
    "Pour les mêmes raisons que dans les proxys précédent, on regarde si les variables ont une corrélation quantitativement significative."
   ]
  },
  {
   "cell_type": "code",
   "execution_count": 170,
   "metadata": {},
   "outputs": [
    {
     "data": {
      "text/html": [
       "<div>\n",
       "<style scoped>\n",
       "    .dataframe tbody tr th:only-of-type {\n",
       "        vertical-align: middle;\n",
       "    }\n",
       "\n",
       "    .dataframe tbody tr th {\n",
       "        vertical-align: top;\n",
       "    }\n",
       "\n",
       "    .dataframe thead th {\n",
       "        text-align: right;\n",
       "    }\n",
       "</style>\n",
       "<table border=\"1\" class=\"dataframe\">\n",
       "  <thead>\n",
       "    <tr style=\"text-align: right;\">\n",
       "      <th></th>\n",
       "      <th>mnrgtjb</th>\n",
       "      <th>freehms</th>\n",
       "      <th>imptrad</th>\n",
       "    </tr>\n",
       "  </thead>\n",
       "  <tbody>\n",
       "    <tr>\n",
       "      <th>mnrgtjb</th>\n",
       "      <td>1.000000</td>\n",
       "      <td>0.280177</td>\n",
       "      <td>0.151617</td>\n",
       "    </tr>\n",
       "    <tr>\n",
       "      <th>freehms</th>\n",
       "      <td>0.280177</td>\n",
       "      <td>1.000000</td>\n",
       "      <td>0.150261</td>\n",
       "    </tr>\n",
       "    <tr>\n",
       "      <th>imptrad</th>\n",
       "      <td>0.151617</td>\n",
       "      <td>0.150261</td>\n",
       "      <td>1.000000</td>\n",
       "    </tr>\n",
       "  </tbody>\n",
       "</table>\n",
       "</div>"
      ],
      "text/plain": [
       "          mnrgtjb   freehms   imptrad\n",
       "mnrgtjb  1.000000  0.280177  0.151617\n",
       "freehms  0.280177  1.000000  0.150261\n",
       "imptrad  0.151617  0.150261  1.000000"
      ]
     },
     "execution_count": 170,
     "metadata": {},
     "output_type": "execute_result"
    }
   ],
   "source": [
    "base_indiv[['mnrgtjb', 'freehms', 'imptrad']].corr()"
   ]
  },
  {
   "cell_type": "code",
   "execution_count": 171,
   "metadata": {},
   "outputs": [
    {
     "data": {
      "text/plain": [
       "<matplotlib.axes._subplots.AxesSubplot at 0x2bfff5b06a0>"
      ]
     },
     "execution_count": 171,
     "metadata": {},
     "output_type": "execute_result"
    },
    {
     "data": {
      "image/png": "[encoded data removed]",
      "text/plain": [
       "<Figure size 432x288 with 2 Axes>"
      ]
     },
     "metadata": {
      "needs_background": "light"
     },
     "output_type": "display_data"
    }
   ],
   "source": [
    "sns.heatmap(base_indiv[['mnrgtjb', 'freehms', 'imptrad']].corr(), cmap='coolwarm', annot=True, fmt=\".2f\")"
   ]
  },
  {
   "cell_type": "markdown",
   "metadata": {},
   "source": [
    "On construit le proxy progressisme afin d'avoir une variable continue allant de O à 10 (comme pour les trois autres)."
   ]
  },
  {
   "cell_type": "code",
   "execution_count": 172,
   "metadata": {},
   "outputs": [
    {
     "data": {
      "text/plain": [
       "<matplotlib.axes._subplots.AxesSubplot at 0x2bfff6584f0>"
      ]
     },
     "execution_count": 172,
     "metadata": {},
     "output_type": "execute_result"
    },
    {
     "data": {
      "image/png": "[encoded data removed]",
      "text/plain": [
       "<Figure size 432x288 with 1 Axes>"
      ]
     },
     "metadata": {
      "needs_background": "light"
     },
     "output_type": "display_data"
    }
   ],
   "source": [
    "base_indiv['progressisme'] = (base_indiv['mnrgtjb'] + base_indiv['freehms'] - 2)/4 + (base_indiv['imptrad'] - 1)/5\n",
    "base_indiv['progressisme'] = base_indiv['progressisme'] * 10/3\n",
    "\n",
    "sns.distplot(base_indiv['progressisme'], kde=True, bins = 15)"
   ]
  },
  {
   "cell_type": "markdown",
   "metadata": {},
   "source": [
    "#### Corrélation entre les proxys"
   ]
  },
  {
   "cell_type": "markdown",
   "metadata": {},
   "source": [
    "Enfin, on souhaite regarder si les proxys sont corrélés entre eux. "
   ]
  },
  {
   "cell_type": "code",
   "execution_count": 173,
   "metadata": {},
   "outputs": [
    {
     "data": {
      "text/html": [
       "<div>\n",
       "<style scoped>\n",
       "    .dataframe tbody tr th:only-of-type {\n",
       "        vertical-align: middle;\n",
       "    }\n",
       "\n",
       "    .dataframe tbody tr th {\n",
       "        vertical-align: top;\n",
       "    }\n",
       "\n",
       "    .dataframe thead th {\n",
       "        text-align: right;\n",
       "    }\n",
       "</style>\n",
       "<table border=\"1\" class=\"dataframe\">\n",
       "  <thead>\n",
       "    <tr style=\"text-align: right;\">\n",
       "      <th></th>\n",
       "      <th>confiance</th>\n",
       "      <th>bienêtre</th>\n",
       "      <th>protection</th>\n",
       "      <th>progressisme</th>\n",
       "    </tr>\n",
       "  </thead>\n",
       "  <tbody>\n",
       "    <tr>\n",
       "      <th>confiance</th>\n",
       "      <td>1.000000</td>\n",
       "      <td>0.315386</td>\n",
       "      <td>0.346672</td>\n",
       "      <td>0.107307</td>\n",
       "    </tr>\n",
       "    <tr>\n",
       "      <th>bienêtre</th>\n",
       "      <td>0.315386</td>\n",
       "      <td>1.000000</td>\n",
       "      <td>0.315217</td>\n",
       "      <td>0.091882</td>\n",
       "    </tr>\n",
       "    <tr>\n",
       "      <th>protection</th>\n",
       "      <td>0.346672</td>\n",
       "      <td>0.315217</td>\n",
       "      <td>1.000000</td>\n",
       "      <td>0.246093</td>\n",
       "    </tr>\n",
       "    <tr>\n",
       "      <th>progressisme</th>\n",
       "      <td>0.107307</td>\n",
       "      <td>0.091882</td>\n",
       "      <td>0.246093</td>\n",
       "      <td>1.000000</td>\n",
       "    </tr>\n",
       "  </tbody>\n",
       "</table>\n",
       "</div>"
      ],
      "text/plain": [
       "              confiance  bienêtre  protection  progressisme\n",
       "confiance      1.000000  0.315386    0.346672      0.107307\n",
       "bienêtre       0.315386  1.000000    0.315217      0.091882\n",
       "protection     0.346672  0.315217    1.000000      0.246093\n",
       "progressisme   0.107307  0.091882    0.246093      1.000000"
      ]
     },
     "execution_count": 173,
     "metadata": {},
     "output_type": "execute_result"
    }
   ],
   "source": [
    "proxy = base_indiv[['confiance', 'bienêtre', 'protection', 'progressisme']]\n",
    "proxy.corr()"
   ]
  },
  {
   "cell_type": "code",
   "execution_count": 174,
   "metadata": {},
   "outputs": [
    {
     "data": {
      "text/plain": [
       "<matplotlib.axes._subplots.AxesSubplot at 0x2bfff6c7d90>"
      ]
     },
     "execution_count": 174,
     "metadata": {},
     "output_type": "execute_result"
    },
    {
     "data": {
      "image/png": "[encoded data removed]",
      "text/plain": [
       "<Figure size 432x288 with 2 Axes>"
      ]
     },
     "metadata": {
      "needs_background": "light"
     },
     "output_type": "display_data"
    }
   ],
   "source": [
    "sns.heatmap(proxy.corr(), cmap='coolwarm', annot=True, fmt=\".2f\")"
   ]
  },
  {
   "cell_type": "markdown",
   "metadata": {},
   "source": [
    "Les proxys sont bien corrélés entre eux, il est donc possible qu'ils expliquent la même variable (c'est-à-dire le vote populiste de droite). "
   ]
  },
  {
   "cell_type": "markdown",
   "metadata": {},
   "source": [
    "### Modèle avec variables subjectives"
   ]
  },
  {
   "cell_type": "markdown",
   "metadata": {},
   "source": [
    "Maintenant que nous avons créé ces 5 proxys nous semblant pertinent pour expliquer le vote FN, nous allons les tester pour voir comment chacun influe sur la probabilité de voter pour le Front National. Pour ce faire, nous utilisons un modèle logistique binaire, car la variable d'intérêt est une variable de choix binaire (voter ou non pour le FN). Le but est donc d'évaluer la probabilité de voter FN en fonction des variables subjectives que nous avons construites. Or, utiliser dans ce cas un modèle linéaire classique est moins pertinent car cela peut conduire à estimer des probabilités qui sont en-dehors de l'intervalle [0,1]. Nous aurions pu également utiliser le modèle binaire probit (avec un terme d'erreur gaussien et non logistique), mais cela est moins courramment utilisé dans la littérature.\n",
    "\n",
    "Tout d'abord, nous restreignons nos observations aux individus qui ont voté et qui ont déclaré pour qui ils avaient voté. Nous ne considérons pas les abstentionnistes car l'interprétation de l'abstention est difficile. En effet, celle-ci peut être l'expression d'un choix politique à part entière, ou d'une simple négligence, d'un oubli. L'analyse de l'abstention mériterait donc une analyse à part entière, distincte du vote populiste. En revanche, nous considérons les votes blanc et nul.\n",
    "\n",
    "Nous créons donc une nouvelles base \"base_indiv_vote\"."
   ]
  },
  {
   "cell_type": "code",
   "execution_count": 175,
   "metadata": {},
   "outputs": [
    {
     "data": {
      "text/plain": [
       "0.11803588290840415"
      ]
     },
     "execution_count": 175,
     "metadata": {},
     "output_type": "execute_result"
    }
   ],
   "source": [
    "base_indiv_vote = base_indiv.dropna(subset = ['prtvtcfr'])\n",
    "base_indiv_vote['FN'].mean()"
   ]
  },
  {
   "cell_type": "markdown",
   "metadata": {},
   "source": [
    "La proportion de votants FN parmi les votants est proche de 12%, ce qui sous-estime largement le résultats observé de Marine Le Pen au premier tour de l'élection de 2012 (qui est l'élection sur laquelle les individus étaient interrogés), qui était de près de 18%. On peut voir que le problème reste le même lorsque nous corrigeons pour les poids (représentant l'inverse de la probabilité d'être interrogé : plus celle-ci est faible, plus il faut donner de poids à l'individu). "
   ]
  },
  {
   "cell_type": "code",
   "execution_count": 176,
   "metadata": {},
   "outputs": [
    {
     "name": "stderr",
     "output_type": "stream",
     "text": [
      "<ipython-input-176-bac4d47ca8d4>:1: SettingWithCopyWarning: \n",
      "A value is trying to be set on a copy of a slice from a DataFrame.\n",
      "Try using .loc[row_indexer,col_indexer] = value instead\n",
      "\n",
      "See the caveats in the documentation: https://pandas.pydata.org/pandas-docs/stable/user_guide/indexing.html#returning-a-view-versus-a-copy\n",
      "  base_indiv_vote['FN_weight'] = base_indiv_vote['FN']*base_indiv_vote['weight']\n"
     ]
    },
    {
     "data": {
      "text/plain": [
       "0.10789575241330213"
      ]
     },
     "execution_count": 176,
     "metadata": {},
     "output_type": "execute_result"
    }
   ],
   "source": [
    "base_indiv_vote['FN_weight'] = base_indiv_vote['FN']*base_indiv_vote['weight']\n",
    "base_indiv_vote['FN_weight'].mean()"
   ]
  },
  {
   "cell_type": "markdown",
   "metadata": {},
   "source": [
    "Ceci peut être dû à la honte persistante que représente le vote FN en France. Cela justifie que nous délaisserons progressivement dans l'analyse cette variable et que nous nous concentrerons sur les déterminants des variables subjectives motivant le vote FN. Mais avant cela, il importe de montrer la pertinence de ces variables.\n",
    "Tout d'abord, on peut noter que le vote populiste est mal interprétable selon le schéma classique opposant droite et gauche. Pour le montrer, considérons la variables lrscale, qui est un indicateur (sur une échelle de 0 à 10) de la place que se donne chacun sur l'échiquier politique (0 correspond à la place la plus à gauche et 10 à la place la plus à droite). Ce petit code permet de compter la proportion d'électeurs FN se plaçant sur la moitié gauche de l'échiquier politique."
   ]
  },
  {
   "cell_type": "code",
   "execution_count": 177,
   "metadata": {},
   "outputs": [
    {
     "data": {
      "text/plain": [
       "0.10     4.0\n",
       "0.35     5.0\n",
       "0.50     7.0\n",
       "0.90    10.0\n",
       "Name: lrscale, dtype: float64"
      ]
     },
     "execution_count": 177,
     "metadata": {},
     "output_type": "execute_result"
    }
   ],
   "source": [
    "base_indiv_vote['lrscale'][base_indiv_vote['FN']==1].quantile(q = [0.1, 0.35, 0.5, 0.9])"
   ]
  },
  {
   "cell_type": "markdown",
   "metadata": {},
   "source": [
    "On voit donc que 35% des électeurs FN se place sur la moitié gauche de l'échiquier politique! À l'inverse, cette proportion tombe à moins de 3% pour les électeurs UMP (pour l'UMP, prtvtcfr vaut 10)."
   ]
  },
  {
   "cell_type": "code",
   "execution_count": 178,
   "metadata": {},
   "outputs": [
    {
     "data": {
      "text/plain": [
       "0.03    5.0\n",
       "0.35    7.0\n",
       "0.50    7.0\n",
       "0.90    9.0\n",
       "Name: lrscale, dtype: float64"
      ]
     },
     "execution_count": 178,
     "metadata": {},
     "output_type": "execute_result"
    }
   ],
   "source": [
    "base_indiv_vote['lrscale'][base_indiv_vote['prtvtcfr']==10].quantile(q = [0.03, 0.35, 0.5, 0.9])"
   ]
  },
  {
   "cell_type": "markdown",
   "metadata": {},
   "source": [
    "Ceci justifie d'avoir créé des proxy qui sont radicalement différent du clivage droite/gauche.\n",
    "\n",
    "Nous allons maintenant nous intéresser à la pertinence de chaque proxy pris individuellement dans l'influence du vote FN. Pour chaque proxy, nous représentons graphiquement cet impact selon une spécification logistique. La courbe représente donc la probabilité de voter FN en fonction de la valeur du proxy considéré. Dans chaque cas, un intervalle de confiance à 95% est représenté. Pour rendre la lecture de ces graphiques plus agréable, l'attribut \"y_jitter\" permet d'introduire un petit aléa à la variable dépendante (FN), qui ne vaut plus exactement 0 ou 1 pour ne pas concentrer les points sur seulement deux valeurs en ordonnées."
   ]
  },
  {
   "cell_type": "code",
   "execution_count": 179,
   "metadata": {},
   "outputs": [
    {
     "data": {
      "text/plain": [
       "<matplotlib.axes._subplots.AxesSubplot at 0x2bfff76cf10>"
      ]
     },
     "execution_count": 179,
     "metadata": {},
     "output_type": "execute_result"
    },
    {
     "data": {
      "image/png": "[encoded data removed]",
      "text/plain": [
       "<Figure size 432x288 with 1 Axes>"
      ]
     },
     "metadata": {
      "needs_background": "light"
     },
     "output_type": "display_data"
    }
   ],
   "source": [
    "sns.regplot(x = 'confiance', y = 'FN', data = base_indiv_vote, y_jitter = 0.02, logistic = True)"
   ]
  },
  {
   "cell_type": "code",
   "execution_count": 180,
   "metadata": {},
   "outputs": [
    {
     "data": {
      "text/plain": [
       "<matplotlib.axes._subplots.AxesSubplot at 0x2bfff7df730>"
      ]
     },
     "execution_count": 180,
     "metadata": {},
     "output_type": "execute_result"
    },
    {
     "data": {
      "image/png": "[encoded data removed]",
      "text/plain": [
       "<Figure size 432x288 with 1 Axes>"
      ]
     },
     "metadata": {
      "needs_background": "light"
     },
     "output_type": "display_data"
    }
   ],
   "source": [
    "sns.regplot(x = 'bienêtre', y = 'FN', data = base_indiv_vote, y_jitter = 0.02, logistic = True)"
   ]
  },
  {
   "cell_type": "code",
   "execution_count": 181,
   "metadata": {},
   "outputs": [
    {
     "data": {
      "text/plain": [
       "<matplotlib.axes._subplots.AxesSubplot at 0x2bfff8369a0>"
      ]
     },
     "execution_count": 181,
     "metadata": {},
     "output_type": "execute_result"
    },
    {
     "data": {
      "image/png": "[encoded data removed]",
      "text/plain": [
       "<Figure size 432x288 with 1 Axes>"
      ]
     },
     "metadata": {
      "needs_background": "light"
     },
     "output_type": "display_data"
    }
   ],
   "source": [
    "sns.regplot(x = 'protection', y = 'FN', data = base_indiv_vote, y_jitter = 0.02, logistic = True)"
   ]
  },
  {
   "cell_type": "code",
   "execution_count": 182,
   "metadata": {},
   "outputs": [
    {
     "data": {
      "text/plain": [
       "<matplotlib.axes._subplots.AxesSubplot at 0x2bfff86f370>"
      ]
     },
     "execution_count": 182,
     "metadata": {},
     "output_type": "execute_result"
    },
    {
     "data": {
      "image/png": "[encoded data removed]",
      "text/plain": [
       "<Figure size 432x288 with 1 Axes>"
      ]
     },
     "metadata": {
      "needs_background": "light"
     },
     "output_type": "display_data"
    }
   ],
   "source": [
    "sns.regplot(x = 'progressisme', y = 'FN', data = base_indiv_vote, y_jitter = 0.02, logistic = True)"
   ]
  },
  {
   "cell_type": "markdown",
   "metadata": {},
   "source": [
    "Tous les proxy semblent significatifs, et plus particulièrement les proxy protection, confiance et bien-être. Nous pouvons maintenant le vérifier formellement par des régressions logistiques. Pour cela, nous utlisons le package statsmodels, nous spécifions la variable dépendante (FN) et la variable explicative (proxy) à laquelle nous ajoutons une constante. Dans chaque cas, nous exposons en sortie les effets marginaux (par la commande \"get_margeff\"), qui sont les estimations intéressantes à interpréter dans le cas du modèle logit. En effet, l'effet marginal s'interprète comme un coefficient classique dans un modèle linéaire, c'est-à-dire comme la variation en probabilité de voter FN qu'implique la variation d'une unité de la variable proxy considérée. Une autre possibilité est d'interpréter directement le coefficient de la régression logistique en termes de variation de l'odds ratio (= probabilité de voter FN sur la probabilité de ne pas voter FN). Nous proposons ci-dessous les 2 interprétations pour chaque proxy."
   ]
  },
  {
   "cell_type": "code",
   "execution_count": 183,
   "metadata": {},
   "outputs": [
    {
     "name": "stdout",
     "output_type": "stream",
     "text": [
      "Optimization terminated successfully.\n",
      "         Current function value: 0.343413\n",
      "         Iterations 7\n",
      "        Logit Marginal Effects       \n",
      "=====================================\n",
      "Dep. Variable:                     FN\n",
      "Method:                          dydx\n",
      "At:                           overall\n",
      "==============================================================================\n",
      "                dy/dx    std err          z      P>|z|      [0.025      0.975]\n",
      "------------------------------------------------------------------------------\n",
      "confiance     -0.0512      0.008     -6.249      0.000      -0.067      -0.035\n",
      "==============================================================================\n"
     ]
    }
   ],
   "source": [
    "Y = base_indiv_vote['FN']\n",
    "X = base_indiv_vote['confiance']\n",
    "X = sm.tools.add_constant(X)\n",
    "mdl = st.Logit(Y,X)\n",
    "mdl_margeff = mdl.fit().get_margeff()\n",
    "print(mdl_margeff.summary())"
   ]
  },
  {
   "cell_type": "markdown",
   "metadata": {},
   "source": [
    "L'augmentation d'une unité du proxy confiance baisse la probabilité de voter FN de 0.05. "
   ]
  },
  {
   "cell_type": "code",
   "execution_count": 184,
   "metadata": {},
   "outputs": [
    {
     "name": "stdout",
     "output_type": "stream",
     "text": [
      "Optimization terminated successfully.\n",
      "         Current function value: 0.343413\n",
      "         Iterations 7\n",
      "                           Logit Regression Results                           \n",
      "==============================================================================\n",
      "Dep. Variable:                     FN   No. Observations:                 1059\n",
      "Model:                          Logit   Df Residuals:                     1057\n",
      "Method:                           MLE   Df Model:                            1\n",
      "Date:                Tue, 15 Dec 2020   Pseudo R-squ.:                 0.05394\n",
      "Time:                        23:28:40   Log-Likelihood:                -363.67\n",
      "converged:                       True   LL-Null:                       -384.41\n",
      "Covariance Type:            nonrobust   LLR p-value:                 1.196e-10\n",
      "==============================================================================\n",
      "                 coef    std err          z      P>|z|      [0.025      0.975]\n",
      "------------------------------------------------------------------------------\n",
      "const          0.1723      0.340      0.506      0.613      -0.495       0.839\n",
      "confiance     -0.5141      0.082     -6.283      0.000      -0.674      -0.354\n",
      "==============================================================================\n"
     ]
    }
   ],
   "source": [
    "print(mdl.fit().summary())"
   ]
  },
  {
   "cell_type": "markdown",
   "metadata": {},
   "source": [
    "L'augmentation d'une unité du proxy confiance baisse l'odds ratio du vote FN de 50%."
   ]
  },
  {
   "cell_type": "code",
   "execution_count": 185,
   "metadata": {},
   "outputs": [
    {
     "name": "stdout",
     "output_type": "stream",
     "text": [
      "Optimization terminated successfully.\n",
      "         Current function value: 0.353125\n",
      "         Iterations 6\n",
      "        Logit Marginal Effects       \n",
      "=====================================\n",
      "Dep. Variable:                     FN\n",
      "Method:                          dydx\n",
      "At:                           overall\n",
      "==============================================================================\n",
      "                dy/dx    std err          z      P>|z|      [0.025      0.975]\n",
      "------------------------------------------------------------------------------\n",
      "bienêtre      -0.0325      0.007     -4.551      0.000      -0.046      -0.018\n",
      "==============================================================================\n"
     ]
    }
   ],
   "source": [
    "Y = base_indiv_vote['FN']\n",
    "X = base_indiv_vote['bienêtre']\n",
    "X = sm.tools.add_constant(X)\n",
    "mdl = st.Logit(Y,X)\n",
    "mdl_margeff = mdl.fit().get_margeff()\n",
    "print(mdl_margeff.summary())"
   ]
  },
  {
   "cell_type": "markdown",
   "metadata": {},
   "source": [
    "L'augmentation d'une unité du proxy bien-être baisse la probabilité de voter FN de 0.03. "
   ]
  },
  {
   "cell_type": "code",
   "execution_count": 186,
   "metadata": {},
   "outputs": [
    {
     "name": "stdout",
     "output_type": "stream",
     "text": [
      "Optimization terminated successfully.\n",
      "         Current function value: 0.353125\n",
      "         Iterations 6\n",
      "                           Logit Regression Results                           \n",
      "==============================================================================\n",
      "Dep. Variable:                     FN   No. Observations:                 1059\n",
      "Model:                          Logit   Df Residuals:                     1057\n",
      "Method:                           MLE   Df Model:                            1\n",
      "Date:                Tue, 15 Dec 2020   Pseudo R-squ.:                 0.02719\n",
      "Time:                        23:28:40   Log-Likelihood:                -373.96\n",
      "converged:                       True   LL-Null:                       -384.41\n",
      "Covariance Type:            nonrobust   LLR p-value:                 4.837e-06\n",
      "==============================================================================\n",
      "                 coef    std err          z      P>|z|      [0.025      0.975]\n",
      "------------------------------------------------------------------------------\n",
      "const         -0.1686      0.399     -0.422      0.673      -0.951       0.614\n",
      "bienêtre      -0.3186      0.070     -4.582      0.000      -0.455      -0.182\n",
      "==============================================================================\n"
     ]
    }
   ],
   "source": [
    "print(mdl.fit().summary())"
   ]
  },
  {
   "cell_type": "markdown",
   "metadata": {},
   "source": [
    "L'augmentation d'une unité du proxy bien-être baisse l'odds ratio du vote FN de 32%."
   ]
  },
  {
   "cell_type": "code",
   "execution_count": 187,
   "metadata": {},
   "outputs": [
    {
     "name": "stdout",
     "output_type": "stream",
     "text": [
      "Optimization terminated successfully.\n",
      "         Current function value: 0.322836\n",
      "         Iterations 7\n",
      "        Logit Marginal Effects       \n",
      "=====================================\n",
      "Dep. Variable:                     FN\n",
      "Method:                          dydx\n",
      "At:                           overall\n",
      "==============================================================================\n",
      "                dy/dx    std err          z      P>|z|      [0.025      0.975]\n",
      "------------------------------------------------------------------------------\n",
      "protection    -0.0546      0.006     -8.862      0.000      -0.067      -0.043\n",
      "==============================================================================\n"
     ]
    }
   ],
   "source": [
    "Y = base_indiv_vote['FN']\n",
    "X = base_indiv_vote['protection']\n",
    "X = sm.tools.add_constant(X)\n",
    "mdl = st.Logit(Y,X)\n",
    "mdl_margeff = mdl.fit().get_margeff()\n",
    "print(mdl_margeff.summary())"
   ]
  },
  {
   "cell_type": "markdown",
   "metadata": {},
   "source": [
    "L'augmentation d'une unité du proxy bien-être baisse la probabilité de voter FN de 0.05. "
   ]
  },
  {
   "cell_type": "code",
   "execution_count": 188,
   "metadata": {},
   "outputs": [
    {
     "name": "stdout",
     "output_type": "stream",
     "text": [
      "Optimization terminated successfully.\n",
      "         Current function value: 0.322836\n",
      "         Iterations 7\n",
      "                           Logit Regression Results                           \n",
      "==============================================================================\n",
      "Dep. Variable:                     FN   No. Observations:                 1059\n",
      "Model:                          Logit   Df Residuals:                     1057\n",
      "Method:                           MLE   Df Model:                            1\n",
      "Date:                Tue, 15 Dec 2020   Pseudo R-squ.:                  0.1106\n",
      "Time:                        23:28:41   Log-Likelihood:                -341.88\n",
      "converged:                       True   LL-Null:                       -384.41\n",
      "Covariance Type:            nonrobust   LLR p-value:                 2.904e-20\n",
      "==============================================================================\n",
      "                 coef    std err          z      P>|z|      [0.025      0.975]\n",
      "------------------------------------------------------------------------------\n",
      "const          0.5306      0.282      1.880      0.060      -0.023       1.084\n",
      "protection    -0.5790      0.067     -8.650      0.000      -0.710      -0.448\n",
      "==============================================================================\n"
     ]
    }
   ],
   "source": [
    "print(mdl.fit().summary())"
   ]
  },
  {
   "cell_type": "markdown",
   "metadata": {},
   "source": [
    "L'augmentation d'une unité du proxy bien-être baisse l'odds ratio du vote FN de 58%."
   ]
  },
  {
   "cell_type": "code",
   "execution_count": 189,
   "metadata": {},
   "outputs": [
    {
     "name": "stdout",
     "output_type": "stream",
     "text": [
      "Optimization terminated successfully.\n",
      "         Current function value: 0.359380\n",
      "         Iterations 6\n",
      "        Logit Marginal Effects       \n",
      "=====================================\n",
      "Dep. Variable:                     FN\n",
      "Method:                          dydx\n",
      "At:                           overall\n",
      "================================================================================\n",
      "                  dy/dx    std err          z      P>|z|      [0.025      0.975]\n",
      "--------------------------------------------------------------------------------\n",
      "progressisme    -0.0148      0.005     -2.803      0.005      -0.025      -0.004\n",
      "================================================================================\n"
     ]
    }
   ],
   "source": [
    "Y = base_indiv_vote['FN']\n",
    "X = base_indiv_vote['progressisme']\n",
    "X = sm.tools.add_constant(X)\n",
    "mdl = st.Logit(Y,X)\n",
    "mdl_margeff = mdl.fit().get_margeff()\n",
    "print(mdl_margeff.summary())"
   ]
  },
  {
   "cell_type": "markdown",
   "metadata": {},
   "source": [
    "L'augmentation d'une unité du proxy bien-être baisse la probabilité de voter FN de 0.01. "
   ]
  },
  {
   "cell_type": "code",
   "execution_count": 190,
   "metadata": {},
   "outputs": [
    {
     "name": "stdout",
     "output_type": "stream",
     "text": [
      "Optimization terminated successfully.\n",
      "         Current function value: 0.359380\n",
      "         Iterations 6\n",
      "                           Logit Regression Results                           \n",
      "==============================================================================\n",
      "Dep. Variable:                     FN   No. Observations:                 1059\n",
      "Model:                          Logit   Df Residuals:                     1057\n",
      "Method:                           MLE   Df Model:                            1\n",
      "Date:                Tue, 15 Dec 2020   Pseudo R-squ.:                0.009955\n",
      "Time:                        23:28:41   Log-Likelihood:                -380.58\n",
      "converged:                       True   LL-Null:                       -384.41\n",
      "Covariance Type:            nonrobust   LLR p-value:                  0.005666\n",
      "================================================================================\n",
      "                   coef    std err          z      P>|z|      [0.025      0.975]\n",
      "--------------------------------------------------------------------------------\n",
      "const           -0.9958      0.365     -2.731      0.006      -1.711      -0.281\n",
      "progressisme    -0.1432      0.051     -2.814      0.005      -0.243      -0.043\n",
      "================================================================================\n"
     ]
    }
   ],
   "source": [
    "print(mdl.fit().summary())"
   ]
  },
  {
   "cell_type": "markdown",
   "metadata": {},
   "source": [
    "L'augmentation d'une unité du proxy bien-être baisse l'odds ratio du vote FN de 14%.\n",
    "\n",
    "On confirme donc la significativité de tous les proxys à l'exception de celui tentant d'approcher le degré d'engagement individuel dans la vie politique et sociale. Cela peut être dû à la grande diversité que peut recouvrir cet engagement.\n",
    "\n",
    "Nous allons maintenant intégrer les 4 proxys dans une même régression et voir lesquelles restent significatifs."
   ]
  },
  {
   "cell_type": "code",
   "execution_count": 191,
   "metadata": {},
   "outputs": [
    {
     "name": "stdout",
     "output_type": "stream",
     "text": [
      "Optimization terminated successfully.\n",
      "         Current function value: 0.316301\n",
      "         Iterations 7\n",
      "        Logit Marginal Effects       \n",
      "=====================================\n",
      "Dep. Variable:                     FN\n",
      "Method:                          dydx\n",
      "At:                           overall\n",
      "================================================================================\n",
      "                  dy/dx    std err          z      P>|z|      [0.025      0.975]\n",
      "--------------------------------------------------------------------------------\n",
      "confiance       -0.0283      0.009     -3.304      0.001      -0.045      -0.012\n",
      "bienêtre        -0.0054      0.007     -0.722      0.470      -0.020       0.009\n",
      "protection      -0.0454      0.007     -6.778      0.000      -0.059      -0.032\n",
      "progressisme    -0.0008      0.005     -0.147      0.883      -0.011       0.010\n",
      "================================================================================\n"
     ]
    }
   ],
   "source": [
    "Y = base_indiv_vote['FN']\n",
    "X = base_indiv_vote[['confiance', 'bienêtre', 'protection', 'progressisme']]\n",
    "X = sm.tools.add_constant(X)\n",
    "mdl = st.Logit(Y,X)\n",
    "mdl_margeff = mdl.fit().get_margeff()\n",
    "print(mdl_margeff.summary())"
   ]
  },
  {
   "cell_type": "markdown",
   "metadata": {},
   "source": [
    "Les proxys qui ont un effet spécifique (i.e dont l'impact ne peut être complétement absorbé par un autre) sont donc le proxy confiance et le proxy protection. On peut donc en conclure que les deux variables subjectives les plus pertinentes pour expliquer le vote populiste de droite sont, selon notre analyse, le degré de confiance interpersonnelle et envers les institutions (politiques, scientifiques,...) ainsi que le degré de demande de protection vis-à-vis de l'extérieur (d'individus étrangers et d'entité supranationales comme l'Union Européenne). Ces résultats sont robustes à la spécification du modèle retenue, puisque si on effectue une régression linéaire classique on trouve des résultats (en termes de magnitude des effets marginaux et de la significativité) très similaire."
   ]
  },
  {
   "cell_type": "code",
   "execution_count": 192,
   "metadata": {},
   "outputs": [
    {
     "name": "stdout",
     "output_type": "stream",
     "text": [
      "                            OLS Regression Results                            \n",
      "==============================================================================\n",
      "Dep. Variable:                     FN   R-squared:                       0.092\n",
      "Model:                            OLS   Adj. R-squared:                  0.088\n",
      "Method:                 Least Squares   F-statistic:                     26.55\n",
      "Date:                Tue, 15 Dec 2020   Prob (F-statistic):           5.21e-21\n",
      "Time:                        23:28:41   Log-Likelihood:                -253.89\n",
      "No. Observations:                1059   AIC:                             517.8\n",
      "Df Residuals:                    1054   BIC:                             542.6\n",
      "Df Model:                           4                                         \n",
      "Covariance Type:            nonrobust                                         \n",
      "================================================================================\n",
      "                   coef    std err          t      P>|t|      [0.025      0.975]\n",
      "--------------------------------------------------------------------------------\n",
      "const            0.5250      0.058      8.993      0.000       0.410       0.640\n",
      "confiance       -0.0272      0.009     -3.125      0.002      -0.044      -0.010\n",
      "bienêtre        -0.0090      0.008     -1.159      0.247      -0.024       0.006\n",
      "protection      -0.0483      0.007     -7.082      0.000      -0.062      -0.035\n",
      "progressisme     0.0010      0.006      0.172      0.863      -0.010       0.012\n",
      "==============================================================================\n",
      "Omnibus:                      404.051   Durbin-Watson:                   1.958\n",
      "Prob(Omnibus):                  0.000   Jarque-Bera (JB):             1113.518\n",
      "Skew:                           2.036   Prob(JB):                    1.59e-242\n",
      "Kurtosis:                       5.941   Cond. No.                         72.8\n",
      "==============================================================================\n",
      "\n",
      "Warnings:\n",
      "[1] Standard Errors assume that the covariance matrix of the errors is correctly specified.\n"
     ]
    }
   ],
   "source": [
    "Y = base_indiv_vote['FN']\n",
    "X = base_indiv_vote[['confiance', 'bienêtre', 'protection', 'progressisme']]\n",
    "X = sm.tools.add_constant(X)\n",
    "mod = st.OLS(Y,X)\n",
    "print(mod.fit().summary())"
   ]
  },
  {
   "cell_type": "markdown",
   "metadata": {},
   "source": [
    "## Deuxième partie : Les déterminants objectifs du ressenti individuel"
   ]
  },
  {
   "cell_type": "markdown",
   "metadata": {},
   "source": [
    "Nous venons donc de voir qu'il était pertinent d'étudier le ressenti subjectif des individus sur des aspects spécifiques comme la confiance et le sentiment d'insécurité vis-à-vis de l'extérieur pour expliquer le vote populiste. Cependant, de telles enquêtes incluant des questions subjectives demeurent rares, et pour généraliser ces résultats il serait bon de lier ce ressenti subjectif à des déterminants objectifs. Cela permet en outre de tirer parti de l'ensemble de la base de données à notre disposition, puisque le taux de réponse aux questions autres que celles concernant directement le vote est bien meilleur. On revient donc à l'ensemble de notre base.\n",
    "On sélectionne un sous-échantillon de 10 variables objectives, à la fois culturelles, socio-démographiques et socio-économiques : \n",
    "\n",
    "-l'appartenance à une religion (qu'on aurait pu classer dans les variables subjectives mais dans la mesure où le milieu culturel d'origine détermine fortement cette variable nous la considérons comme objective) (rlgblg)\n",
    "\n",
    "-l'appartenance à une minorité ethnique (blgetmg)\n",
    "\n",
    "-le fait d'avoir un membre de son foyer (y compris soi-même) qui a été victime de harcélement ou d'agression dans les 5 dernières années (crmvct)\n",
    "\n",
    "-le genre (gndr)\n",
    "\n",
    "-l'âge (agea)\n",
    "\n",
    "-le fait de vivre avec ses enfants (chldhm), car cela peut être vecteur de confiance et de bien-être\n",
    "\n",
    "-le niveau d'éducation (edlvdfr)\n",
    "\n",
    "-le fait d'avoir connu une période de chômage de plus de 3 mois dans sa vie (uemp3m)\n",
    "\n",
    "-le type d'organisation pour lequel le répondant travaille (tporgwk)\n",
    "\n",
    "-la place (en terme d'appartenance à un certain décile) dans l'échelle nationale de niveau de vie (hinctnta) (cette variabe est construite ex-post par les statisticiens d'ESS à partir des réponses des individus en termes monétaires)\n",
    "\n",
    "On commence par vérifier que les réponses aux variables objectives sont cohérentes et ne contiennent pas de réponse du type \"je ne sais pas\" ou \"je ne souhaite pas répondre\". "
   ]
  },
  {
   "cell_type": "code",
   "execution_count": 193,
   "metadata": {},
   "outputs": [
    {
     "data": {
      "text/html": [
       "<div>\n",
       "<style scoped>\n",
       "    .dataframe tbody tr th:only-of-type {\n",
       "        vertical-align: middle;\n",
       "    }\n",
       "\n",
       "    .dataframe tbody tr th {\n",
       "        vertical-align: top;\n",
       "    }\n",
       "\n",
       "    .dataframe thead th {\n",
       "        text-align: right;\n",
       "    }\n",
       "</style>\n",
       "<table border=\"1\" class=\"dataframe\">\n",
       "  <thead>\n",
       "    <tr style=\"text-align: right;\">\n",
       "      <th></th>\n",
       "      <th>rlgblg</th>\n",
       "      <th>blgetmg</th>\n",
       "      <th>crmvct</th>\n",
       "      <th>gndr</th>\n",
       "      <th>agea</th>\n",
       "      <th>chldhm</th>\n",
       "      <th>edlvdfr</th>\n",
       "      <th>uemp3m</th>\n",
       "      <th>tporgwk</th>\n",
       "      <th>hinctnta</th>\n",
       "    </tr>\n",
       "  </thead>\n",
       "  <tbody>\n",
       "    <tr>\n",
       "      <th>count</th>\n",
       "      <td>2062.000000</td>\n",
       "      <td>2031.000000</td>\n",
       "      <td>2068.000000</td>\n",
       "      <td>2070.000000</td>\n",
       "      <td>2069.000000</td>\n",
       "      <td>2070.000000</td>\n",
       "      <td>2068.000000</td>\n",
       "      <td>2066.000000</td>\n",
       "      <td>1936.000000</td>\n",
       "      <td>1884.000000</td>\n",
       "    </tr>\n",
       "    <tr>\n",
       "      <th>mean</th>\n",
       "      <td>1.467992</td>\n",
       "      <td>1.961595</td>\n",
       "      <td>1.779014</td>\n",
       "      <td>1.539614</td>\n",
       "      <td>52.377960</td>\n",
       "      <td>1.701449</td>\n",
       "      <td>10.130561</td>\n",
       "      <td>1.610842</td>\n",
       "      <td>3.620351</td>\n",
       "      <td>4.855626</td>\n",
       "    </tr>\n",
       "    <tr>\n",
       "      <th>std</th>\n",
       "      <td>0.499095</td>\n",
       "      <td>0.192219</td>\n",
       "      <td>0.415012</td>\n",
       "      <td>0.498549</td>\n",
       "      <td>18.929428</td>\n",
       "      <td>0.457733</td>\n",
       "      <td>6.134469</td>\n",
       "      <td>0.487677</td>\n",
       "      <td>1.176417</td>\n",
       "      <td>2.740380</td>\n",
       "    </tr>\n",
       "    <tr>\n",
       "      <th>min</th>\n",
       "      <td>1.000000</td>\n",
       "      <td>1.000000</td>\n",
       "      <td>1.000000</td>\n",
       "      <td>1.000000</td>\n",
       "      <td>15.000000</td>\n",
       "      <td>1.000000</td>\n",
       "      <td>1.000000</td>\n",
       "      <td>1.000000</td>\n",
       "      <td>1.000000</td>\n",
       "      <td>1.000000</td>\n",
       "    </tr>\n",
       "    <tr>\n",
       "      <th>25%</th>\n",
       "      <td>1.000000</td>\n",
       "      <td>2.000000</td>\n",
       "      <td>2.000000</td>\n",
       "      <td>1.000000</td>\n",
       "      <td>38.000000</td>\n",
       "      <td>1.000000</td>\n",
       "      <td>6.000000</td>\n",
       "      <td>1.000000</td>\n",
       "      <td>3.000000</td>\n",
       "      <td>2.000000</td>\n",
       "    </tr>\n",
       "    <tr>\n",
       "      <th>50%</th>\n",
       "      <td>1.000000</td>\n",
       "      <td>2.000000</td>\n",
       "      <td>2.000000</td>\n",
       "      <td>2.000000</td>\n",
       "      <td>53.000000</td>\n",
       "      <td>2.000000</td>\n",
       "      <td>7.000000</td>\n",
       "      <td>2.000000</td>\n",
       "      <td>4.000000</td>\n",
       "      <td>5.000000</td>\n",
       "    </tr>\n",
       "    <tr>\n",
       "      <th>75%</th>\n",
       "      <td>2.000000</td>\n",
       "      <td>2.000000</td>\n",
       "      <td>2.000000</td>\n",
       "      <td>2.000000</td>\n",
       "      <td>67.000000</td>\n",
       "      <td>2.000000</td>\n",
       "      <td>15.000000</td>\n",
       "      <td>2.000000</td>\n",
       "      <td>4.000000</td>\n",
       "      <td>7.000000</td>\n",
       "    </tr>\n",
       "    <tr>\n",
       "      <th>max</th>\n",
       "      <td>2.000000</td>\n",
       "      <td>2.000000</td>\n",
       "      <td>2.000000</td>\n",
       "      <td>2.000000</td>\n",
       "      <td>99.000000</td>\n",
       "      <td>2.000000</td>\n",
       "      <td>26.000000</td>\n",
       "      <td>2.000000</td>\n",
       "      <td>6.000000</td>\n",
       "      <td>10.000000</td>\n",
       "    </tr>\n",
       "  </tbody>\n",
       "</table>\n",
       "</div>"
      ],
      "text/plain": [
       "            rlgblg      blgetmg       crmvct         gndr         agea  \\\n",
       "count  2062.000000  2031.000000  2068.000000  2070.000000  2069.000000   \n",
       "mean      1.467992     1.961595     1.779014     1.539614    52.377960   \n",
       "std       0.499095     0.192219     0.415012     0.498549    18.929428   \n",
       "min       1.000000     1.000000     1.000000     1.000000    15.000000   \n",
       "25%       1.000000     2.000000     2.000000     1.000000    38.000000   \n",
       "50%       1.000000     2.000000     2.000000     2.000000    53.000000   \n",
       "75%       2.000000     2.000000     2.000000     2.000000    67.000000   \n",
       "max       2.000000     2.000000     2.000000     2.000000    99.000000   \n",
       "\n",
       "            chldhm      edlvdfr       uemp3m      tporgwk     hinctnta  \n",
       "count  2070.000000  2068.000000  2066.000000  1936.000000  1884.000000  \n",
       "mean      1.701449    10.130561     1.610842     3.620351     4.855626  \n",
       "std       0.457733     6.134469     0.487677     1.176417     2.740380  \n",
       "min       1.000000     1.000000     1.000000     1.000000     1.000000  \n",
       "25%       1.000000     6.000000     1.000000     3.000000     2.000000  \n",
       "50%       2.000000     7.000000     2.000000     4.000000     5.000000  \n",
       "75%       2.000000    15.000000     2.000000     4.000000     7.000000  \n",
       "max       2.000000    26.000000     2.000000     6.000000    10.000000  "
      ]
     },
     "execution_count": 193,
     "metadata": {},
     "output_type": "execute_result"
    }
   ],
   "source": [
    "base_indiv[['rlgblg', 'blgetmg', 'crmvct', 'gndr', 'agea', 'chldhm', 'edlvdfr', 'uemp3m', 'tporgwk', 'hinctnta']].describe()"
   ]
  },
  {
   "cell_type": "markdown",
   "metadata": {},
   "source": [
    "On voit que les valeurs de toutes les variables s'incrivent dans l'échelle principale (exposée dans le README). De plus, l'analyse des valeurs manquantes faite en début de notebook permet de supprimer les valeurs manquantes pour les variables qui en ont très peu (moins de 2%) sans que cela n'affecte significativement la base."
   ]
  },
  {
   "cell_type": "code",
   "execution_count": 194,
   "metadata": {},
   "outputs": [],
   "source": [
    "base_indiv.dropna(subset = ['rlgblg', 'blgetmg', 'crmvct', 'gndr', 'agea', 'chldhm', 'edlvdfr', 'uemp3m'], inplace = True)"
   ]
  },
  {
   "cell_type": "markdown",
   "metadata": {},
   "source": [
    "On s'intéresse maintenant plus précisément à la variable du niveau d'éducation individuel."
   ]
  },
  {
   "cell_type": "code",
   "execution_count": 195,
   "metadata": {},
   "outputs": [
    {
     "data": {
      "text/plain": [
       "26"
      ]
     },
     "execution_count": 195,
     "metadata": {},
     "output_type": "execute_result"
    }
   ],
   "source": [
    "base_indiv['edlvdfr'].nunique()"
   ]
  },
  {
   "cell_type": "markdown",
   "metadata": {},
   "source": [
    "Le niveau d'éducation est trop finement reporté pour pouvoir être analysé. On crée donc une nouvelle variable qui ne prend que 6 niveaux d'éducation : le niveau 0 correpond à un niveau d'étude inférieur ou égal au brevet des collèges, le niveau 1 à un niveau d'études directement professionalisant (CAP ou baccalauréat professionnel), le niveau 2 au baccalauréat (général et technologique), le niveau 3 à l'équivalent d'une licence, le niveau 4 à l'équivalent d'un master et le niveau 5 au doctorat. Pour ce faire, comme les niveaux initiaux sont ordonnés, il suffit de séparer l'échelle en 6 intervalles grâce à la fonction pd.cut(). Nous créons une fonction générale capable de générer cette nouvelle variable, puis nous l'appliquons à notre base."
   ]
  },
  {
   "cell_type": "code",
   "execution_count": 196,
   "metadata": {},
   "outputs": [],
   "source": [
    "def level_education(df):\n",
    "    level = pd.cut(x=df['edlvdfr'],\n",
    "            bins=[1, 5, 9, 13, 18, 24, 26],\n",
    "            include_lowest=True,\n",
    "            labels=[0, 1, 2, 3, 4, 5]).astype(int)\n",
    "    df['level_education'] = level\n",
    "\n",
    "level_education(base_indiv)"
   ]
  },
  {
   "cell_type": "markdown",
   "metadata": {},
   "source": [
    "On peut maintenant observer la distribution de cette variable dans la population."
   ]
  },
  {
   "cell_type": "code",
   "execution_count": 197,
   "metadata": {},
   "outputs": [
    {
     "data": {
      "text/plain": [
       "<matplotlib.axes._subplots.AxesSubplot at 0x2bfff8f17c0>"
      ]
     },
     "execution_count": 197,
     "metadata": {},
     "output_type": "execute_result"
    },
    {
     "data": {
      "image/png": "[encoded data removed]",
      "text/plain": [
       "<Figure size 432x288 with 1 Axes>"
      ]
     },
     "metadata": {
      "needs_background": "light"
     },
     "output_type": "display_data"
    }
   ],
   "source": [
    "sns.distplot(base_indiv['level_education'], kde = False)"
   ]
  },
  {
   "cell_type": "markdown",
   "metadata": {},
   "source": [
    "Nous allons maintenant créer deux nouvelles variables indicatrices prenant en compte le type d'organisation pour lequel l'individu interrogé travaille. En effet, les fonctionnaires jouissent d'un statut qui leur assure souvent une protection supplémentaire contre certains risques (sécurité de l'emploi, retraite meilleure, meilleure assurance,...), ce qui peut influer sur la confiance, le bien-être et la demande de protection. À l'inverse, les indépendants sont soumis à plus d'aléas, ce qui peut également se repercuter sur leur vision du monde (souvent plus conservatrice voire plus réactionnaire que dans le reste de la société). À partir de la variable tporgwk (type de travail), nous créons donc une variable indicatrice \"public\" (correspondant aux valeurs 1, 2 et 3 de tporgwk) et une autre \"independant\" (correpondant à la valeur 5 de tporgwk)."
   ]
  },
  {
   "cell_type": "code",
   "execution_count": 198,
   "metadata": {},
   "outputs": [],
   "source": [
    "base_indiv['public'] = np.where(base_indiv['tporgwk'].isin([1,2,3]), 1, 0)\n",
    "base_indiv['independant'] = np.where(base_indiv['tporgwk']==5, 1, 0)"
   ]
  },
  {
   "cell_type": "markdown",
   "metadata": {},
   "source": [
    "Avant de régresser les proxys sur les variables objectives, il reste à modifier légérement les autres variables indicatrices disponibles pour que la valeur 0 corresponde à la réponse \"non\" et la valeur 1 à la réponse \"oui\" (par défaut, 1 correspond à la valeur \"oui\" et 2 à la valeur \"non\")."
   ]
  },
  {
   "cell_type": "code",
   "execution_count": 199,
   "metadata": {},
   "outputs": [],
   "source": [
    "base_indiv[['rlgblg', 'blgetmg', 'crmvct', 'chldhm', 'uemp3m']] = base_indiv[['rlgblg', 'blgetmg', 'crmvct', 'chldhm', 'uemp3m']].apply(lambda x: x.replace(to_replace = [1,2], value = [1,0]), axis = 0)"
   ]
  },
  {
   "cell_type": "markdown",
   "metadata": {},
   "source": [
    "On se restreint finalement aux observations ne contenant pas de valeurs manquantes pour pouvoir effectuer nos régressions (pour les deux seules variables que nous n'avions pas encore traité du fait qu'elles avaient un nombre non négligeables de valeurs manquantes)."
   ]
  },
  {
   "cell_type": "code",
   "execution_count": 200,
   "metadata": {},
   "outputs": [],
   "source": [
    "base_indiv_bis = base_indiv.dropna(subset = ['tporgwk', 'hinctnta']) "
   ]
  },
  {
   "cell_type": "markdown",
   "metadata": {},
   "source": [
    "### Proxy confiance"
   ]
  },
  {
   "cell_type": "markdown",
   "metadata": {},
   "source": [
    "Nous commençons par régresser le niveau de confiance sur ce sous-ensemble de variables objectives."
   ]
  },
  {
   "cell_type": "code",
   "execution_count": 201,
   "metadata": {},
   "outputs": [
    {
     "name": "stdout",
     "output_type": "stream",
     "text": [
      "                            OLS Regression Results                            \n",
      "==============================================================================\n",
      "Dep. Variable:              confiance   R-squared:                       0.132\n",
      "Model:                            OLS   Adj. R-squared:                  0.127\n",
      "Method:                 Least Squares   F-statistic:                     23.99\n",
      "Date:                Tue, 15 Dec 2020   Prob (F-statistic):           1.71e-46\n",
      "Time:                        23:28:41   Log-Likelihood:                -2692.6\n",
      "No. Observations:                1741   AIC:                             5409.\n",
      "Df Residuals:                    1729   BIC:                             5475.\n",
      "Df Model:                          11                                         \n",
      "Covariance Type:            nonrobust                                         \n",
      "===================================================================================\n",
      "                      coef    std err          t      P>|t|      [0.025      0.975]\n",
      "-----------------------------------------------------------------------------------\n",
      "const               3.9981      0.154     25.976      0.000       3.696       4.300\n",
      "rlgblg              0.1159      0.057      2.032      0.042       0.004       0.228\n",
      "blgetmg             0.3590      0.143      2.503      0.012       0.078       0.640\n",
      "crmvct             -0.1386      0.066     -2.089      0.037      -0.269      -0.008\n",
      "gndr               -0.2241      0.057     -3.957      0.000      -0.335      -0.113\n",
      "agea                0.0012      0.002      0.636      0.525      -0.002       0.005\n",
      "chldhm             -0.1364      0.064     -2.118      0.034      -0.263      -0.010\n",
      "level_education     0.2703      0.023     11.619      0.000       0.225       0.316\n",
      "uemp3m              0.0161      0.059      0.274      0.784      -0.100       0.132\n",
      "public              0.0946      0.067      1.416      0.157      -0.036       0.226\n",
      "independant        -0.0671      0.087     -0.772      0.440      -0.238       0.103\n",
      "hinctnta            0.0325      0.011      2.837      0.005       0.010       0.055\n",
      "==============================================================================\n",
      "Omnibus:                        2.350   Durbin-Watson:                   1.922\n",
      "Prob(Omnibus):                  0.309   Jarque-Bera (JB):                2.303\n",
      "Skew:                          -0.055   Prob(JB):                        0.316\n",
      "Kurtosis:                       3.141   Cond. No.                         329.\n",
      "==============================================================================\n",
      "\n",
      "Warnings:\n",
      "[1] Standard Errors assume that the covariance matrix of the errors is correctly specified.\n"
     ]
    }
   ],
   "source": [
    "Y = base_indiv_bis['confiance']\n",
    "X = base_indiv_bis[['rlgblg', 'blgetmg', 'crmvct', 'gndr', 'agea', 'chldhm', 'level_education', 'uemp3m', 'public', 'independant', 'hinctnta']]\n",
    "X = sm.tools.add_constant(X)\n",
    "mod = st.OLS(Y,X)\n",
    "print(mod.fit().summary())"
   ]
  },
  {
   "cell_type": "markdown",
   "metadata": {},
   "source": [
    "La qualité du fit est raisonnable (R2 = 0.13) pour une variable subjective. De plus, les signes des coefficients sont globalement cohérents, sauf peut-être pour la variable chldhm. De plus, contrairement à l'intuition évoquée plus haut, le type d'organisation pour lequel les individus travaillent ne semble pas jouer de rôle. Il est enfin étonnant de voir que l'appartenance à une religion ou à une minorité ethnique augmente le degré général de confiance. Si le message religieux peut inciter à faire plus confiance à son prochain, cela ne semble pas être une explication suffisante (si on régresse d'ailleurs la seule variable ppltrst, le coefficient associé à rlgblg devient d'ailleurs non significatif donc cela semble venir d'une plus grande confiance dans les hommes politiques, a priori difficelement explicable)."
   ]
  },
  {
   "cell_type": "markdown",
   "metadata": {},
   "source": [
    "### Proxy bien-être"
   ]
  },
  {
   "cell_type": "code",
   "execution_count": 202,
   "metadata": {},
   "outputs": [
    {
     "name": "stdout",
     "output_type": "stream",
     "text": [
      "                            OLS Regression Results                            \n",
      "==============================================================================\n",
      "Dep. Variable:               bienêtre   R-squared:                       0.113\n",
      "Model:                            OLS   Adj. R-squared:                  0.108\n",
      "Method:                 Least Squares   F-statistic:                     20.09\n",
      "Date:                Tue, 15 Dec 2020   Prob (F-statistic):           1.25e-38\n",
      "Time:                        23:28:41   Log-Likelihood:                -2961.3\n",
      "No. Observations:                1741   AIC:                             5947.\n",
      "Df Residuals:                    1729   BIC:                             6012.\n",
      "Df Model:                          11                                         \n",
      "Covariance Type:            nonrobust                                         \n",
      "===================================================================================\n",
      "                      coef    std err          t      P>|t|      [0.025      0.975]\n",
      "-----------------------------------------------------------------------------------\n",
      "const               6.3626      0.180     35.428      0.000       6.010       6.715\n",
      "rlgblg              0.1164      0.067      1.750      0.080      -0.014       0.247\n",
      "blgetmg             0.3807      0.167      2.275      0.023       0.052       0.709\n",
      "crmvct             -0.2764      0.077     -3.569      0.000      -0.428      -0.125\n",
      "gndr               -0.0715      0.066     -1.081      0.280      -0.201       0.058\n",
      "agea               -0.0139      0.002     -6.477      0.000      -0.018      -0.010\n",
      "chldhm             -0.0127      0.075     -0.169      0.866      -0.160       0.135\n",
      "level_education     0.0865      0.027      3.187      0.001       0.033       0.140\n",
      "uemp3m             -0.3174      0.069     -4.609      0.000      -0.452      -0.182\n",
      "public             -0.0547      0.078     -0.701      0.483      -0.208       0.098\n",
      "independant         0.0565      0.101      0.557      0.577      -0.142       0.255\n",
      "hinctnta            0.0968      0.013      7.241      0.000       0.071       0.123\n",
      "==============================================================================\n",
      "Omnibus:                       26.963   Durbin-Watson:                   1.911\n",
      "Prob(Omnibus):                  0.000   Jarque-Bera (JB):               29.015\n",
      "Skew:                          -0.270   Prob(JB):                     5.01e-07\n",
      "Kurtosis:                       3.330   Cond. No.                         329.\n",
      "==============================================================================\n",
      "\n",
      "Warnings:\n",
      "[1] Standard Errors assume that the covariance matrix of the errors is correctly specified.\n"
     ]
    }
   ],
   "source": [
    "Y = base_indiv_bis['bienêtre']\n",
    "X = base_indiv_bis[['rlgblg', 'blgetmg', 'crmvct', 'gndr', 'agea', 'chldhm', 'level_education', 'uemp3m', 'public', 'independant', 'hinctnta']]\n",
    "X = sm.tools.add_constant(X)\n",
    "mod = st.OLS(Y,X)\n",
    "print(mod.fit().summary())"
   ]
  },
  {
   "cell_type": "markdown",
   "metadata": {},
   "source": [
    "La qualité du fit est similaire à celle du dégré de confiance (R2 = 0.11). Le signe et la significativité des coefficients sont ici encore plus attendus que précédemment, à l'exception peut-être de l'appartenance à une minorité ethnique dont le signe est encore une fois positif alors qu'on pourrait s'attendre à ce qu'affronter de potentielles discriminations ou autre difficulté spécifiques (communication avec les autres plus difficile, ...) conduisent à une baisse de bien-être. "
   ]
  },
  {
   "cell_type": "markdown",
   "metadata": {},
   "source": [
    "### Proxy protection"
   ]
  },
  {
   "cell_type": "code",
   "execution_count": 203,
   "metadata": {},
   "outputs": [
    {
     "name": "stdout",
     "output_type": "stream",
     "text": [
      "                            OLS Regression Results                            \n",
      "==============================================================================\n",
      "Dep. Variable:             protection   R-squared:                       0.119\n",
      "Model:                            OLS   Adj. R-squared:                  0.113\n",
      "Method:                 Least Squares   F-statistic:                     21.24\n",
      "Date:                Tue, 15 Dec 2020   Prob (F-statistic):           5.97e-41\n",
      "Time:                        23:28:41   Log-Likelihood:                -3151.0\n",
      "No. Observations:                1741   AIC:                             6326.\n",
      "Df Residuals:                    1729   BIC:                             6392.\n",
      "Df Model:                          11                                         \n",
      "Covariance Type:            nonrobust                                         \n",
      "===================================================================================\n",
      "                      coef    std err          t      P>|t|      [0.025      0.975]\n",
      "-----------------------------------------------------------------------------------\n",
      "const               5.2673      0.200     26.300      0.000       4.874       5.660\n",
      "rlgblg             -0.2509      0.074     -3.381      0.001      -0.396      -0.105\n",
      "blgetmg             0.2169      0.187      1.162      0.245      -0.149       0.583\n",
      "crmvct             -0.3899      0.086     -4.516      0.000      -0.559      -0.221\n",
      "gndr               -0.3811      0.074     -5.171      0.000      -0.526      -0.237\n",
      "agea               -0.0048      0.002     -1.993      0.046      -0.009   -7.49e-05\n",
      "chldhm             -0.1309      0.084     -1.562      0.118      -0.295       0.033\n",
      "level_education     0.2578      0.030      8.516      0.000       0.198       0.317\n",
      "uemp3m              0.0456      0.077      0.594      0.552      -0.105       0.196\n",
      "public              0.0646      0.087      0.743      0.458      -0.106       0.235\n",
      "independant         0.2222      0.113      1.965      0.050       0.000       0.444\n",
      "hinctnta            0.0441      0.015      2.958      0.003       0.015       0.073\n",
      "==============================================================================\n",
      "Omnibus:                        7.320   Durbin-Watson:                   1.855\n",
      "Prob(Omnibus):                  0.026   Jarque-Bera (JB):                7.302\n",
      "Skew:                          -0.158   Prob(JB):                       0.0260\n",
      "Kurtosis:                       3.026   Cond. No.                         329.\n",
      "==============================================================================\n",
      "\n",
      "Warnings:\n",
      "[1] Standard Errors assume that the covariance matrix of the errors is correctly specified.\n"
     ]
    }
   ],
   "source": [
    "Y = base_indiv_bis['protection']\n",
    "X = base_indiv_bis[['rlgblg', 'blgetmg', 'crmvct', 'gndr', 'agea', 'chldhm', 'level_education', 'uemp3m', 'public', 'independant', 'hinctnta']]\n",
    "X = sm.tools.add_constant(X)\n",
    "mod = st.OLS(Y,X)\n",
    "print(mod.fit().summary())"
   ]
  },
  {
   "cell_type": "markdown",
   "metadata": {},
   "source": [
    "La qualité du fit est encore une fois similaire aux régressions précédentes (R2 = 0.11). On retrouve des résultats proches des régressions précédentes, à la différence qu'ici l'appartenance à une religion influe négativement sur le sentiment de sécurité (ou dit autrement positivement sur la demande de protection, car rappelons qu'une valeur haute du proxy protection signifie une faible demande de protection). Cela peut s'expliquer par le fait que l'appartenance à une religion est souvent associé à un certain conservatisme, dont l'une des caractéristiques est la demande de sécurité."
   ]
  },
  {
   "cell_type": "markdown",
   "metadata": {},
   "source": [
    "### Proxy progressisme"
   ]
  },
  {
   "cell_type": "code",
   "execution_count": 204,
   "metadata": {},
   "outputs": [
    {
     "name": "stdout",
     "output_type": "stream",
     "text": [
      "                            OLS Regression Results                            \n",
      "==============================================================================\n",
      "Dep. Variable:           progressisme   R-squared:                       0.225\n",
      "Model:                            OLS   Adj. R-squared:                  0.221\n",
      "Method:                 Least Squares   F-statistic:                     45.76\n",
      "Date:                Tue, 15 Dec 2020   Prob (F-statistic):           4.70e-88\n",
      "Time:                        23:28:42   Log-Likelihood:                -3271.5\n",
      "No. Observations:                1741   AIC:                             6567.\n",
      "Df Residuals:                    1729   BIC:                             6633.\n",
      "Df Model:                          11                                         \n",
      "Covariance Type:            nonrobust                                         \n",
      "===================================================================================\n",
      "                      coef    std err          t      P>|t|      [0.025      0.975]\n",
      "-----------------------------------------------------------------------------------\n",
      "const               7.8931      0.215     36.775      0.000       7.472       8.314\n",
      "rlgblg             -1.2479      0.080    -15.694      0.000      -1.404      -1.092\n",
      "blgetmg            -0.5423      0.200     -2.712      0.007      -0.935      -0.150\n",
      "crmvct              0.0075      0.093      0.081      0.936      -0.174       0.189\n",
      "gndr                0.1518      0.079      1.922      0.055      -0.003       0.307\n",
      "agea               -0.0140      0.003     -5.440      0.000      -0.019      -0.009\n",
      "chldhm             -0.1099      0.090     -1.223      0.221      -0.286       0.066\n",
      "level_education     0.2144      0.032      6.607      0.000       0.151       0.278\n",
      "uemp3m              0.1161      0.082      1.411      0.158      -0.045       0.278\n",
      "public              0.0730      0.093      0.784      0.433      -0.110       0.256\n",
      "independant         0.0462      0.121      0.381      0.703      -0.192       0.284\n",
      "hinctnta            0.0465      0.016      2.911      0.004       0.015       0.078\n",
      "==============================================================================\n",
      "Omnibus:                      115.735   Durbin-Watson:                   1.862\n",
      "Prob(Omnibus):                  0.000   Jarque-Bera (JB):              140.063\n",
      "Skew:                          -0.642   Prob(JB):                     3.85e-31\n",
      "Kurtosis:                       3.530   Cond. No.                         329.\n",
      "==============================================================================\n",
      "\n",
      "Warnings:\n",
      "[1] Standard Errors assume that the covariance matrix of the errors is correctly specified.\n"
     ]
    }
   ],
   "source": [
    "Y = base_indiv_bis['progressisme']\n",
    "X = base_indiv_bis[['rlgblg', 'blgetmg', 'crmvct', 'gndr', 'agea', 'chldhm', 'level_education', 'uemp3m', 'public', 'independant', 'hinctnta']]\n",
    "X = sm.tools.add_constant(X)\n",
    "mod = st.OLS(Y,X)\n",
    "print(mod.fit().summary())"
   ]
  },
  {
   "cell_type": "markdown",
   "metadata": {},
   "source": [
    "C'est finalement, presque malheureusement, pour la variable la moins pertinente pour expliquer le vote populiste que le fit avec les variables objectives est le meilleur (R2 = 0.22). On peut noter qu'ici seules les variables de niveau d'éducation et de revenu influent positivement cette variable, alors que les variables liées à une plus forte propension au conservatisme (l'appartenance à une religion ou à une minorité ethnique et l'âge) influent négativement sur le niveau de progressisme sociétal.\n",
    "\n",
    "On peut remarquer avec ces 4 régressions que la variable tporgwk n'est jamais significative. Or, elle avait un nombre non négligeable de valeurs manquantes. On considère donc à partir de maintenant une base plus large, pour laquelle on enlève les valeurs manquantes d'uniquement la variable hinctnta (et de toutes les autres variables objectives, mais pour les autres le nombre de valeurs manquantes est négligeable)."
   ]
  },
  {
   "cell_type": "code",
   "execution_count": 205,
   "metadata": {},
   "outputs": [],
   "source": [
    "base_indiv_bis = base_indiv.dropna(subset = ['hinctnta'])"
   ]
  },
  {
   "cell_type": "markdown",
   "metadata": {},
   "source": [
    "Pour conclure sur ces variables objectives individuelles, on peut remarquer que seules le niveau d'éducation et le niveau de vie impactent systématiquement positivement les variables qui impactent négativement le vote populiste. Bien que d'autres variables soient ponctuellement sources d'explications complémentaires, notre analyse tend donc à confirmer, voir à réactualiser dans la nouvelle ère politique qu'ouvre la montée du populisme, l'importance du capital culturel et économique (pour reprendre une typologie bouridieusienne) dans le choix électoral."
   ]
  },
  {
   "cell_type": "markdown",
   "metadata": {},
   "source": [
    "## Troisième partie : déterminants régionaux du ressenti individuel"
   ]
  },
  {
   "cell_type": "markdown",
   "metadata": {},
   "source": [
    "Peut-on néanmoins approfondir encore l'analyse, en ajoutant aux variables objectives individuelles des variables objectives régionales ? Nous nous inspirons ici des travaux de l'analyste politique Jerôme Fourquet, exposés dans son ouvrage *L'archipel français*. L'idée de Jerôme Fourquet est qu'en plus de la situation individuelle de chacun, l'environnement dans lequel on vit peut directement influencer la perception du monde. Par exemple, il montre qu’à niveau d’éducation et de revenu constant, des individus vivant dans une commune ou un quartier avec un taux de chômage important auront plus tendance à voter pour le Front National que ceux vivant dans une commune ou un quartier plus favorisé. Nous essayons dans cette troisième partie de déceler un l’existence d’un tel phénomène au niveau régional (niveau NUTS2 de la nomenclature d’Eurostat, c’est-à-dire correspondant aux régions de France avant la réforme de 2013). Pour cela, nous collectons des variables agrégées sur Eurostat reflétant la santé économique et le dynamisme d’une région, puis nous les incluons dans notre base de donnée et nous régressons nos proxys sur à la fois les variables objectives individuelles et régionales.\n",
    "Nous nous concentrons sur 4 variables régionales : \n",
    "\n",
    "-le PIB par habitant (GDP_PPA)\n",
    "\n",
    "-le taux de croissance nette de la population (solde migratoire compris) (Population change)\n",
    "\n",
    "-le chômage de long-terme (LT unemployment)\n",
    "\n",
    "-le taux d’étudiants post-bac dans la population des 20-24 ans (% students)\n",
    "\n",
    "Nous récupérons ces données sur le site d’Eurostat au format CSV pour les trois premières variables, et au format excel pour la variable étudiants car les codes régionaux ne sont pas actualisés étant donné que les dernières données disponibles pour cette variable datent de 2012. Or, en passant par le format excel, on peut récupérer le nom littéral des régions et non leur code. Cependant, pour pouvoir ensuite faire correspondre les codes régionaux de la base principale avec les noms de région de cette base, il faut créer une base de correspondance entre nom littéral des régions et leur code NUTS2. Cette correspondance existe sur wikipédia. On fait donc du webscrapping sur ce tableau particulier."
   ]
  },
  {
   "cell_type": "markdown",
   "metadata": {},
   "source": [
    "On importe d'abord les quatre bases d'Eurostat."
   ]
  },
  {
   "cell_type": "code",
   "execution_count": 206,
   "metadata": {},
   "outputs": [
    {
     "data": {
      "text/html": [
       "<div>\n",
       "<style scoped>\n",
       "    .dataframe tbody tr th:only-of-type {\n",
       "        vertical-align: middle;\n",
       "    }\n",
       "\n",
       "    .dataframe tbody tr th {\n",
       "        vertical-align: top;\n",
       "    }\n",
       "\n",
       "    .dataframe thead th {\n",
       "        text-align: right;\n",
       "    }\n",
       "</style>\n",
       "<table border=\"1\" class=\"dataframe\">\n",
       "  <thead>\n",
       "    <tr style=\"text-align: right;\">\n",
       "      <th></th>\n",
       "      <th>freq,unit,geo\\TIME_PERIOD</th>\n",
       "      <th>2016</th>\n",
       "    </tr>\n",
       "  </thead>\n",
       "  <tbody>\n",
       "    <tr>\n",
       "      <th>0</th>\n",
       "      <td>A,PPS_HAB,FR10</td>\n",
       "      <td>51700 p</td>\n",
       "    </tr>\n",
       "    <tr>\n",
       "      <th>1</th>\n",
       "      <td>A,PPS_HAB,FRB0</td>\n",
       "      <td>25100 p</td>\n",
       "    </tr>\n",
       "    <tr>\n",
       "      <th>2</th>\n",
       "      <td>A,PPS_HAB,FRC1</td>\n",
       "      <td>24800 p</td>\n",
       "    </tr>\n",
       "    <tr>\n",
       "      <th>3</th>\n",
       "      <td>A,PPS_HAB,FRC2</td>\n",
       "      <td>23000 p</td>\n",
       "    </tr>\n",
       "    <tr>\n",
       "      <th>4</th>\n",
       "      <td>A,PPS_HAB,FRD1</td>\n",
       "      <td>24200 p</td>\n",
       "    </tr>\n",
       "  </tbody>\n",
       "</table>\n",
       "</div>"
      ],
      "text/plain": [
       "  freq,unit,geo\\TIME_PERIOD    2016 \n",
       "0            A,PPS_HAB,FR10  51700 p\n",
       "1            A,PPS_HAB,FRB0  25100 p\n",
       "2            A,PPS_HAB,FRC1  24800 p\n",
       "3            A,PPS_HAB,FRC2  23000 p\n",
       "4            A,PPS_HAB,FRD1  24200 p"
      ]
     },
     "execution_count": 206,
     "metadata": {},
     "output_type": "execute_result"
    }
   ],
   "source": [
    "GDP = pd.read_csv('GDP_PPA.tsv', sep = '\\t')\n",
    "POP =pd.read_csv('Population_change_rate.tsv', sep = '\\t')\n",
    "UNEMP = pd.read_csv('long_term_unemployment.tsv', sep = '\\t')\n",
    "EDUC = pd.read_excel('education.xlsx')\n",
    "\n",
    "GDP.head()"
   ]
  },
  {
   "cell_type": "markdown",
   "metadata": {},
   "source": [
    "On renomme la colonne 2016 pour plus de lisibilité."
   ]
  },
  {
   "cell_type": "code",
   "execution_count": 207,
   "metadata": {},
   "outputs": [
    {
     "data": {
      "text/html": [
       "<div>\n",
       "<style scoped>\n",
       "    .dataframe tbody tr th:only-of-type {\n",
       "        vertical-align: middle;\n",
       "    }\n",
       "\n",
       "    .dataframe tbody tr th {\n",
       "        vertical-align: top;\n",
       "    }\n",
       "\n",
       "    .dataframe thead th {\n",
       "        text-align: right;\n",
       "    }\n",
       "</style>\n",
       "<table border=\"1\" class=\"dataframe\">\n",
       "  <thead>\n",
       "    <tr style=\"text-align: right;\">\n",
       "      <th></th>\n",
       "      <th>freq,unit,geo\\TIME_PERIOD</th>\n",
       "      <th>GDP_PPA1</th>\n",
       "    </tr>\n",
       "  </thead>\n",
       "  <tbody>\n",
       "    <tr>\n",
       "      <th>0</th>\n",
       "      <td>A,PPS_HAB,FR10</td>\n",
       "      <td>51700 p</td>\n",
       "    </tr>\n",
       "    <tr>\n",
       "      <th>1</th>\n",
       "      <td>A,PPS_HAB,FRB0</td>\n",
       "      <td>25100 p</td>\n",
       "    </tr>\n",
       "    <tr>\n",
       "      <th>2</th>\n",
       "      <td>A,PPS_HAB,FRC1</td>\n",
       "      <td>24800 p</td>\n",
       "    </tr>\n",
       "    <tr>\n",
       "      <th>3</th>\n",
       "      <td>A,PPS_HAB,FRC2</td>\n",
       "      <td>23000 p</td>\n",
       "    </tr>\n",
       "    <tr>\n",
       "      <th>4</th>\n",
       "      <td>A,PPS_HAB,FRD1</td>\n",
       "      <td>24200 p</td>\n",
       "    </tr>\n",
       "  </tbody>\n",
       "</table>\n",
       "</div>"
      ],
      "text/plain": [
       "  freq,unit,geo\\TIME_PERIOD GDP_PPA1\n",
       "0            A,PPS_HAB,FR10  51700 p\n",
       "1            A,PPS_HAB,FRB0  25100 p\n",
       "2            A,PPS_HAB,FRC1  24800 p\n",
       "3            A,PPS_HAB,FRC2  23000 p\n",
       "4            A,PPS_HAB,FRD1  24200 p"
      ]
     },
     "execution_count": 207,
     "metadata": {},
     "output_type": "execute_result"
    }
   ],
   "source": [
    "GDP = GDP.rename(columns={'2016 ': \"GDP_PPA1\"})\n",
    "POP = POP.rename(columns={'2016 ': \"Population change\"})\n",
    "UNEMP = UNEMP.rename(columns={'2016 ': 'LT unemployment1'})\n",
    "EDUC = EDUC.rename(columns={'region' : 'region1'})\n",
    "\n",
    "GDP.head()"
   ]
  },
  {
   "cell_type": "markdown",
   "metadata": {},
   "source": [
    "Ces bases nécessitent un peu de nettoyage. Tout d'abord, il faut isoler le code régional NUTS2 dans une colonne (pour pouvoir ensuite faire le merge avec notre base principal). On passe par la création de base temporaire tmp pour rendre l'opération plus facile. On procède base par base."
   ]
  },
  {
   "cell_type": "code",
   "execution_count": 208,
   "metadata": {},
   "outputs": [
    {
     "data": {
      "text/html": [
       "<div>\n",
       "<style scoped>\n",
       "    .dataframe tbody tr th:only-of-type {\n",
       "        vertical-align: middle;\n",
       "    }\n",
       "\n",
       "    .dataframe tbody tr th {\n",
       "        vertical-align: top;\n",
       "    }\n",
       "\n",
       "    .dataframe thead th {\n",
       "        text-align: right;\n",
       "    }\n",
       "</style>\n",
       "<table border=\"1\" class=\"dataframe\">\n",
       "  <thead>\n",
       "    <tr style=\"text-align: right;\">\n",
       "      <th></th>\n",
       "      <th>GDP_PPA1</th>\n",
       "      <th>nuts2</th>\n",
       "    </tr>\n",
       "  </thead>\n",
       "  <tbody>\n",
       "    <tr>\n",
       "      <th>0</th>\n",
       "      <td>51700 p</td>\n",
       "      <td>FR10</td>\n",
       "    </tr>\n",
       "    <tr>\n",
       "      <th>1</th>\n",
       "      <td>25100 p</td>\n",
       "      <td>FRB0</td>\n",
       "    </tr>\n",
       "    <tr>\n",
       "      <th>2</th>\n",
       "      <td>24800 p</td>\n",
       "      <td>FRC1</td>\n",
       "    </tr>\n",
       "    <tr>\n",
       "      <th>3</th>\n",
       "      <td>23000 p</td>\n",
       "      <td>FRC2</td>\n",
       "    </tr>\n",
       "    <tr>\n",
       "      <th>4</th>\n",
       "      <td>24200 p</td>\n",
       "      <td>FRD1</td>\n",
       "    </tr>\n",
       "  </tbody>\n",
       "</table>\n",
       "</div>"
      ],
      "text/plain": [
       "  GDP_PPA1 nuts2\n",
       "0  51700 p  FR10\n",
       "1  25100 p  FRB0\n",
       "2  24800 p  FRC1\n",
       "3  23000 p  FRC2\n",
       "4  24200 p  FRD1"
      ]
     },
     "execution_count": 208,
     "metadata": {},
     "output_type": "execute_result"
    }
   ],
   "source": [
    "tmp = GDP[\"freq,unit,geo\\TIME_PERIOD\"].str.split(\",\", n = 2, expand = True) \n",
    "GDP[\"nuts2\"]= tmp[2]\n",
    "GDP = GDP.drop(['freq,unit,geo\\TIME_PERIOD'], axis=1)\n",
    "\n",
    "GDP.head()"
   ]
  },
  {
   "cell_type": "markdown",
   "metadata": {},
   "source": [
    "On s'aperçoit que la présence d'un \"p\" dans la colonne empêche de la convertir en numérique."
   ]
  },
  {
   "cell_type": "code",
   "execution_count": 209,
   "metadata": {},
   "outputs": [
    {
     "data": {
      "text/html": [
       "<div>\n",
       "<style scoped>\n",
       "    .dataframe tbody tr th:only-of-type {\n",
       "        vertical-align: middle;\n",
       "    }\n",
       "\n",
       "    .dataframe tbody tr th {\n",
       "        vertical-align: top;\n",
       "    }\n",
       "\n",
       "    .dataframe thead th {\n",
       "        text-align: right;\n",
       "    }\n",
       "</style>\n",
       "<table border=\"1\" class=\"dataframe\">\n",
       "  <thead>\n",
       "    <tr style=\"text-align: right;\">\n",
       "      <th></th>\n",
       "      <th>nuts2</th>\n",
       "      <th>GDP_PPA</th>\n",
       "    </tr>\n",
       "  </thead>\n",
       "  <tbody>\n",
       "    <tr>\n",
       "      <th>0</th>\n",
       "      <td>FR10</td>\n",
       "      <td>51700.0</td>\n",
       "    </tr>\n",
       "    <tr>\n",
       "      <th>1</th>\n",
       "      <td>FRB0</td>\n",
       "      <td>25100.0</td>\n",
       "    </tr>\n",
       "    <tr>\n",
       "      <th>2</th>\n",
       "      <td>FRC1</td>\n",
       "      <td>24800.0</td>\n",
       "    </tr>\n",
       "    <tr>\n",
       "      <th>3</th>\n",
       "      <td>FRC2</td>\n",
       "      <td>23000.0</td>\n",
       "    </tr>\n",
       "    <tr>\n",
       "      <th>4</th>\n",
       "      <td>FRD1</td>\n",
       "      <td>24200.0</td>\n",
       "    </tr>\n",
       "  </tbody>\n",
       "</table>\n",
       "</div>"
      ],
      "text/plain": [
       "  nuts2  GDP_PPA\n",
       "0  FR10  51700.0\n",
       "1  FRB0  25100.0\n",
       "2  FRC1  24800.0\n",
       "3  FRC2  23000.0\n",
       "4  FRD1  24200.0"
      ]
     },
     "execution_count": 209,
     "metadata": {},
     "output_type": "execute_result"
    }
   ],
   "source": [
    "tmp2 = GDP[\"GDP_PPA1\"].str.split(\" \", n = 1, expand = True) \n",
    "GDP[\"GDP_PPA\"]= tmp2[0]\n",
    "GDP = GDP.drop(['GDP_PPA1'], axis=1)\n",
    "GDP['GDP_PPA'] = (GDP['GDP_PPA']).astype(float)\n",
    "\n",
    "GDP.head()"
   ]
  },
  {
   "cell_type": "markdown",
   "metadata": {},
   "source": [
    "On réitère l'opération pour les autres bases."
   ]
  },
  {
   "cell_type": "code",
   "execution_count": 210,
   "metadata": {},
   "outputs": [
    {
     "data": {
      "text/html": [
       "<div>\n",
       "<style scoped>\n",
       "    .dataframe tbody tr th:only-of-type {\n",
       "        vertical-align: middle;\n",
       "    }\n",
       "\n",
       "    .dataframe tbody tr th {\n",
       "        vertical-align: top;\n",
       "    }\n",
       "\n",
       "    .dataframe thead th {\n",
       "        text-align: right;\n",
       "    }\n",
       "</style>\n",
       "<table border=\"1\" class=\"dataframe\">\n",
       "  <thead>\n",
       "    <tr style=\"text-align: right;\">\n",
       "      <th></th>\n",
       "      <th>nuts2</th>\n",
       "      <th>Population change</th>\n",
       "    </tr>\n",
       "  </thead>\n",
       "  <tbody>\n",
       "    <tr>\n",
       "      <th>0</th>\n",
       "      <td>FR10</td>\n",
       "      <td>4.8</td>\n",
       "    </tr>\n",
       "    <tr>\n",
       "      <th>1</th>\n",
       "      <td>FRB0</td>\n",
       "      <td>-0.6</td>\n",
       "    </tr>\n",
       "    <tr>\n",
       "      <th>2</th>\n",
       "      <td>FRC1</td>\n",
       "      <td>-3.1</td>\n",
       "    </tr>\n",
       "    <tr>\n",
       "      <th>3</th>\n",
       "      <td>FRC2</td>\n",
       "      <td>-1.6</td>\n",
       "    </tr>\n",
       "    <tr>\n",
       "      <th>4</th>\n",
       "      <td>FRD1</td>\n",
       "      <td>-2.1</td>\n",
       "    </tr>\n",
       "  </tbody>\n",
       "</table>\n",
       "</div>"
      ],
      "text/plain": [
       "  nuts2  Population change\n",
       "0  FR10                4.8\n",
       "1  FRB0               -0.6\n",
       "2  FRC1               -3.1\n",
       "3  FRC2               -1.6\n",
       "4  FRD1               -2.1"
      ]
     },
     "execution_count": 210,
     "metadata": {},
     "output_type": "execute_result"
    }
   ],
   "source": [
    "tmp = POP[\"freq,indic_de,geo\\TIME_PERIOD\"].str.split(\",\", n = 2, expand = True) \n",
    "POP[\"nuts2\"]= tmp[2]\n",
    "POP = POP.drop(['freq,indic_de,geo\\TIME_PERIOD'], axis=1)\n",
    "POP = POP[['nuts2', 'Population change']]\n",
    "\n",
    "POP.head()"
   ]
  },
  {
   "cell_type": "code",
   "execution_count": 211,
   "metadata": {},
   "outputs": [
    {
     "data": {
      "text/html": [
       "<div>\n",
       "<style scoped>\n",
       "    .dataframe tbody tr th:only-of-type {\n",
       "        vertical-align: middle;\n",
       "    }\n",
       "\n",
       "    .dataframe tbody tr th {\n",
       "        vertical-align: top;\n",
       "    }\n",
       "\n",
       "    .dataframe thead th {\n",
       "        text-align: right;\n",
       "    }\n",
       "</style>\n",
       "<table border=\"1\" class=\"dataframe\">\n",
       "  <thead>\n",
       "    <tr style=\"text-align: right;\">\n",
       "      <th></th>\n",
       "      <th>nuts2</th>\n",
       "      <th>LT unemployment</th>\n",
       "    </tr>\n",
       "  </thead>\n",
       "  <tbody>\n",
       "    <tr>\n",
       "      <th>0</th>\n",
       "      <td>FR10</td>\n",
       "      <td>4.3</td>\n",
       "    </tr>\n",
       "    <tr>\n",
       "      <th>1</th>\n",
       "      <td>FRB0</td>\n",
       "      <td>4.4</td>\n",
       "    </tr>\n",
       "    <tr>\n",
       "      <th>2</th>\n",
       "      <td>FRC1</td>\n",
       "      <td>4.0</td>\n",
       "    </tr>\n",
       "    <tr>\n",
       "      <th>3</th>\n",
       "      <td>FRC2</td>\n",
       "      <td>3.5</td>\n",
       "    </tr>\n",
       "    <tr>\n",
       "      <th>4</th>\n",
       "      <td>FRD1</td>\n",
       "      <td>3.7</td>\n",
       "    </tr>\n",
       "  </tbody>\n",
       "</table>\n",
       "</div>"
      ],
      "text/plain": [
       "  nuts2  LT unemployment\n",
       "0  FR10              4.3\n",
       "1  FRB0              4.4\n",
       "2  FRC1              4.0\n",
       "3  FRC2              3.5\n",
       "4  FRD1              3.7"
      ]
     },
     "execution_count": 211,
     "metadata": {},
     "output_type": "execute_result"
    }
   ],
   "source": [
    "tmp = UNEMP[\"freq,unit,geo\\TIME_PERIOD\"].str.split(\",\", n = 2, expand = True)\n",
    "UNEMP[\"nuts2\"]= tmp[2]\n",
    "UNEMP = UNEMP.drop(['freq,unit,geo\\TIME_PERIOD'], axis=1)\n",
    "\n",
    "tmp2 = UNEMP[\"LT unemployment1\"].str.split(\" \", n = 1, expand = True) \n",
    "UNEMP[\"LT unemployment\"]= tmp2[0]\n",
    "UNEMP = UNEMP.drop(['LT unemployment1'], axis=1)\n",
    "\n",
    "UNEMP['LT unemployment'] = (UNEMP['LT unemployment']).astype(float)\n",
    "\n",
    "UNEMP.head()"
   ]
  },
  {
   "cell_type": "markdown",
   "metadata": {},
   "source": [
    "Pour la base EDUC, le nom de région n'est pas très propre donc on modifie cela en s'aidant d'une expression régulière pour enlever une partie de la colonne région "
   ]
  },
  {
   "cell_type": "code",
   "execution_count": 212,
   "metadata": {},
   "outputs": [
    {
     "data": {
      "text/html": [
       "<div>\n",
       "<style scoped>\n",
       "    .dataframe tbody tr th:only-of-type {\n",
       "        vertical-align: middle;\n",
       "    }\n",
       "\n",
       "    .dataframe tbody tr th {\n",
       "        vertical-align: top;\n",
       "    }\n",
       "\n",
       "    .dataframe thead th {\n",
       "        text-align: right;\n",
       "    }\n",
       "</style>\n",
       "<table border=\"1\" class=\"dataframe\">\n",
       "  <thead>\n",
       "    <tr style=\"text-align: right;\">\n",
       "      <th></th>\n",
       "      <th>region1</th>\n",
       "      <th>% students</th>\n",
       "    </tr>\n",
       "  </thead>\n",
       "  <tbody>\n",
       "    <tr>\n",
       "      <th>0</th>\n",
       "      <td>Île de France</td>\n",
       "      <td>73.3</td>\n",
       "    </tr>\n",
       "    <tr>\n",
       "      <th>1</th>\n",
       "      <td>Champagne-Ardenne (NUTS 2013)</td>\n",
       "      <td>47.6</td>\n",
       "    </tr>\n",
       "    <tr>\n",
       "      <th>2</th>\n",
       "      <td>Picardie (NUTS 2013)</td>\n",
       "      <td>37.8</td>\n",
       "    </tr>\n",
       "    <tr>\n",
       "      <th>3</th>\n",
       "      <td>Haute-Normandie (NUTS 2013)</td>\n",
       "      <td>47.0</td>\n",
       "    </tr>\n",
       "    <tr>\n",
       "      <th>4</th>\n",
       "      <td>Centre (FR) (NUTS 2013)</td>\n",
       "      <td>41.6</td>\n",
       "    </tr>\n",
       "  </tbody>\n",
       "</table>\n",
       "</div>"
      ],
      "text/plain": [
       "                         region1  % students\n",
       "0                  Île de France        73.3\n",
       "1  Champagne-Ardenne (NUTS 2013)        47.6\n",
       "2           Picardie (NUTS 2013)        37.8\n",
       "3    Haute-Normandie (NUTS 2013)        47.0\n",
       "4        Centre (FR) (NUTS 2013)        41.6"
      ]
     },
     "execution_count": 212,
     "metadata": {},
     "output_type": "execute_result"
    }
   ],
   "source": [
    "EDUC.head()"
   ]
  },
  {
   "cell_type": "code",
   "execution_count": 213,
   "metadata": {},
   "outputs": [
    {
     "data": {
      "text/html": [
       "<div>\n",
       "<style scoped>\n",
       "    .dataframe tbody tr th:only-of-type {\n",
       "        vertical-align: middle;\n",
       "    }\n",
       "\n",
       "    .dataframe tbody tr th {\n",
       "        vertical-align: top;\n",
       "    }\n",
       "\n",
       "    .dataframe thead th {\n",
       "        text-align: right;\n",
       "    }\n",
       "</style>\n",
       "<table border=\"1\" class=\"dataframe\">\n",
       "  <thead>\n",
       "    <tr style=\"text-align: right;\">\n",
       "      <th></th>\n",
       "      <th>region</th>\n",
       "      <th>% students</th>\n",
       "    </tr>\n",
       "  </thead>\n",
       "  <tbody>\n",
       "    <tr>\n",
       "      <th>0</th>\n",
       "      <td>Île de France</td>\n",
       "      <td>73.3</td>\n",
       "    </tr>\n",
       "    <tr>\n",
       "      <th>1</th>\n",
       "      <td>Champagne-Ardenne</td>\n",
       "      <td>47.6</td>\n",
       "    </tr>\n",
       "    <tr>\n",
       "      <th>2</th>\n",
       "      <td>Picardie</td>\n",
       "      <td>37.8</td>\n",
       "    </tr>\n",
       "    <tr>\n",
       "      <th>3</th>\n",
       "      <td>Haute-Normandie</td>\n",
       "      <td>47.0</td>\n",
       "    </tr>\n",
       "    <tr>\n",
       "      <th>4</th>\n",
       "      <td>Centre-Val de Loire</td>\n",
       "      <td>41.6</td>\n",
       "    </tr>\n",
       "  </tbody>\n",
       "</table>\n",
       "</div>"
      ],
      "text/plain": [
       "                region  % students\n",
       "0        Île de France        73.3\n",
       "1    Champagne-Ardenne        47.6\n",
       "2             Picardie        37.8\n",
       "3      Haute-Normandie        47.0\n",
       "4  Centre-Val de Loire        41.6"
      ]
     },
     "execution_count": 213,
     "metadata": {},
     "output_type": "execute_result"
    }
   ],
   "source": [
    "tmp = EDUC[\"region1\"].str.split(\"\\s\\(\", n = 1, expand = True)\n",
    "EDUC[\"region\"] = tmp[0]\n",
    "EDUC = EDUC.drop(['region1'], axis=1)\n",
    "EDUC = EDUC[['region', '% students']]\n",
    "EDUC.iloc[4,0] = 'Centre-Val de Loire'\n",
    "EDUC.iloc[20,0] = 'Provence-Alpes-Côte d’Azur'\n",
    "\n",
    "EDUC.head()"
   ]
  },
  {
   "cell_type": "markdown",
   "metadata": {},
   "source": [
    "Maintenant il faut trouver la correspondance entre les noms de région (dans la base EDUC) et les codes nuts2 (dans les autres bases régionales et dans la base principale). Pour cela, on va sur la page wikipédia NUTS2 France et on récupère le deuxième tableau"
   ]
  },
  {
   "cell_type": "code",
   "execution_count": 214,
   "metadata": {},
   "outputs": [],
   "source": [
    "url = \"https://en.wikipedia.org/wiki/NUTS_statistical_regions_of_France\"\n",
    "\n",
    "from urllib import request\n",
    "request_text = request.urlopen(url).read()\n",
    "\n",
    "page = bs4.BeautifulSoup(request_text, \"lxml\")\n",
    "\n",
    "NUTS = page.findAll('table', { 'class' : \"wikitable\"})[2]"
   ]
  },
  {
   "cell_type": "markdown",
   "metadata": {},
   "source": [
    "On récupère ensuite chaque ligne, puis on crée un dictionnaire où on associe chaque nom de région avec le code nuts2. Cependant, une petite difficulté s'ajoute car toutes les lignes n'ont pas le même nombre de colonnes (parfois 2 pour les départements, ce qui ne nous intéresse pas ; parfois 4 pour les régions qui n'ont pas changé en 2013, ce qui nous intéresse ; parfois 6 pour les régions qui ont changé en 2013, où il faut là récupérer les \"sous-régions\" correspondant aux régions d'avant 2013), donc il faut bien faire attention à prendre le bon nom de région."
   ]
  },
  {
   "cell_type": "code",
   "execution_count": 215,
   "metadata": {},
   "outputs": [
    {
     "data": {
      "text/plain": [
       "{'Île de France': 'FR10',\n",
       " 'Centre-Val de Loire': 'FRB0',\n",
       " 'Bourgogne': 'FRC1',\n",
       " 'Franche-Comté': 'FRC2',\n",
       " 'Lower Normandy': 'FRD1',\n",
       " 'Upper Normandy': 'FRD2',\n",
       " 'Nord-Pas-de-Calais': 'FRE1',\n",
       " 'Picardy': 'FRE2',\n",
       " 'Alsace': 'FRF1',\n",
       " 'Champagne-Ardenne': 'FRF2',\n",
       " 'Lorraine': 'FRF3',\n",
       " 'Pays de la Loire': 'FRG0',\n",
       " 'Brittany': 'FRH0',\n",
       " 'Aquitaine': 'FRI1',\n",
       " 'Limousin': 'FRI2',\n",
       " 'Poitou-Charentes': 'FRI3',\n",
       " 'Languedoc-Roussillon': 'FRJ1',\n",
       " 'Midi-Pyrénées': 'FRJ2',\n",
       " 'Auvergne': 'FRK1',\n",
       " 'Rhône-Alpes': 'FRK2',\n",
       " 'Provence-Alpes-Côte d’Azur': 'FRL0',\n",
       " 'Corsica': 'FRM0',\n",
       " 'Guadeloupe (whose NUTS 2 region includes the Collectivity of Saint Martin)': 'FRY1',\n",
       " 'Martinique': 'FRY2',\n",
       " 'French Guiana': 'FRY3',\n",
       " 'La Réunion': 'FRY4',\n",
       " 'Mayotte': 'FRY5'}"
      ]
     },
     "execution_count": 215,
     "metadata": {},
     "output_type": "execute_result"
    }
   ],
   "source": [
    "NUTS_body = NUTS.find('tbody')\n",
    "rows = NUTS_body.find_all('tr')\n",
    "\n",
    "dico_NUTS = dict()\n",
    "for row in rows:\n",
    "    cols = row.find_all('td')\n",
    "    cols = [ele.text.strip() for ele in cols]\n",
    "    if len(cols) == 4 : \n",
    "        dico_NUTS[cols[0]] = cols[1]\n",
    "    if len(cols) == 6 :\n",
    "        dico_NUTS[cols[2]] = cols[3]\n",
    "dico_NUTS"
   ]
  },
  {
   "cell_type": "markdown",
   "metadata": {},
   "source": [
    "On transforme ensuite le dictionnaire en data frame, et on modifie l'index."
   ]
  },
  {
   "cell_type": "code",
   "execution_count": 216,
   "metadata": {},
   "outputs": [
    {
     "data": {
      "text/html": [
       "<div>\n",
       "<style scoped>\n",
       "    .dataframe tbody tr th:only-of-type {\n",
       "        vertical-align: middle;\n",
       "    }\n",
       "\n",
       "    .dataframe tbody tr th {\n",
       "        vertical-align: top;\n",
       "    }\n",
       "\n",
       "    .dataframe thead th {\n",
       "        text-align: right;\n",
       "    }\n",
       "</style>\n",
       "<table border=\"1\" class=\"dataframe\">\n",
       "  <thead>\n",
       "    <tr style=\"text-align: right;\">\n",
       "      <th></th>\n",
       "      <th>nuts2</th>\n",
       "      <th>region</th>\n",
       "    </tr>\n",
       "  </thead>\n",
       "  <tbody>\n",
       "    <tr>\n",
       "      <th>0</th>\n",
       "      <td>FR10</td>\n",
       "      <td>Île de France</td>\n",
       "    </tr>\n",
       "    <tr>\n",
       "      <th>1</th>\n",
       "      <td>FRB0</td>\n",
       "      <td>Centre-Val de Loire</td>\n",
       "    </tr>\n",
       "    <tr>\n",
       "      <th>2</th>\n",
       "      <td>FRC1</td>\n",
       "      <td>Bourgogne</td>\n",
       "    </tr>\n",
       "    <tr>\n",
       "      <th>3</th>\n",
       "      <td>FRC2</td>\n",
       "      <td>Franche-Comté</td>\n",
       "    </tr>\n",
       "    <tr>\n",
       "      <th>4</th>\n",
       "      <td>FRD1</td>\n",
       "      <td>Lower Normandy</td>\n",
       "    </tr>\n",
       "    <tr>\n",
       "      <th>5</th>\n",
       "      <td>FRD2</td>\n",
       "      <td>Upper Normandy</td>\n",
       "    </tr>\n",
       "    <tr>\n",
       "      <th>6</th>\n",
       "      <td>FRE1</td>\n",
       "      <td>Nord-Pas-de-Calais</td>\n",
       "    </tr>\n",
       "    <tr>\n",
       "      <th>7</th>\n",
       "      <td>FRE2</td>\n",
       "      <td>Picardy</td>\n",
       "    </tr>\n",
       "    <tr>\n",
       "      <th>8</th>\n",
       "      <td>FRF1</td>\n",
       "      <td>Alsace</td>\n",
       "    </tr>\n",
       "    <tr>\n",
       "      <th>9</th>\n",
       "      <td>FRF2</td>\n",
       "      <td>Champagne-Ardenne</td>\n",
       "    </tr>\n",
       "    <tr>\n",
       "      <th>10</th>\n",
       "      <td>FRF3</td>\n",
       "      <td>Lorraine</td>\n",
       "    </tr>\n",
       "    <tr>\n",
       "      <th>11</th>\n",
       "      <td>FRG0</td>\n",
       "      <td>Pays de la Loire</td>\n",
       "    </tr>\n",
       "    <tr>\n",
       "      <th>12</th>\n",
       "      <td>FRH0</td>\n",
       "      <td>Brittany</td>\n",
       "    </tr>\n",
       "    <tr>\n",
       "      <th>13</th>\n",
       "      <td>FRI1</td>\n",
       "      <td>Aquitaine</td>\n",
       "    </tr>\n",
       "    <tr>\n",
       "      <th>14</th>\n",
       "      <td>FRI2</td>\n",
       "      <td>Limousin</td>\n",
       "    </tr>\n",
       "    <tr>\n",
       "      <th>15</th>\n",
       "      <td>FRI3</td>\n",
       "      <td>Poitou-Charentes</td>\n",
       "    </tr>\n",
       "    <tr>\n",
       "      <th>16</th>\n",
       "      <td>FRJ1</td>\n",
       "      <td>Languedoc-Roussillon</td>\n",
       "    </tr>\n",
       "    <tr>\n",
       "      <th>17</th>\n",
       "      <td>FRJ2</td>\n",
       "      <td>Midi-Pyrénées</td>\n",
       "    </tr>\n",
       "    <tr>\n",
       "      <th>18</th>\n",
       "      <td>FRK1</td>\n",
       "      <td>Auvergne</td>\n",
       "    </tr>\n",
       "    <tr>\n",
       "      <th>19</th>\n",
       "      <td>FRK2</td>\n",
       "      <td>Rhône-Alpes</td>\n",
       "    </tr>\n",
       "    <tr>\n",
       "      <th>20</th>\n",
       "      <td>FRL0</td>\n",
       "      <td>Provence-Alpes-Côte d’Azur</td>\n",
       "    </tr>\n",
       "    <tr>\n",
       "      <th>21</th>\n",
       "      <td>FRM0</td>\n",
       "      <td>Corsica</td>\n",
       "    </tr>\n",
       "    <tr>\n",
       "      <th>22</th>\n",
       "      <td>FRY1</td>\n",
       "      <td>Guadeloupe (whose NUTS 2 region includes the C...</td>\n",
       "    </tr>\n",
       "    <tr>\n",
       "      <th>23</th>\n",
       "      <td>FRY2</td>\n",
       "      <td>Martinique</td>\n",
       "    </tr>\n",
       "    <tr>\n",
       "      <th>24</th>\n",
       "      <td>FRY3</td>\n",
       "      <td>French Guiana</td>\n",
       "    </tr>\n",
       "    <tr>\n",
       "      <th>25</th>\n",
       "      <td>FRY4</td>\n",
       "      <td>La Réunion</td>\n",
       "    </tr>\n",
       "    <tr>\n",
       "      <th>26</th>\n",
       "      <td>FRY5</td>\n",
       "      <td>Mayotte</td>\n",
       "    </tr>\n",
       "  </tbody>\n",
       "</table>\n",
       "</div>"
      ],
      "text/plain": [
       "   nuts2                                             region\n",
       "0   FR10                                      Île de France\n",
       "1   FRB0                                Centre-Val de Loire\n",
       "2   FRC1                                          Bourgogne\n",
       "3   FRC2                                      Franche-Comté\n",
       "4   FRD1                                     Lower Normandy\n",
       "5   FRD2                                     Upper Normandy\n",
       "6   FRE1                                 Nord-Pas-de-Calais\n",
       "7   FRE2                                            Picardy\n",
       "8   FRF1                                             Alsace\n",
       "9   FRF2                                  Champagne-Ardenne\n",
       "10  FRF3                                           Lorraine\n",
       "11  FRG0                                   Pays de la Loire\n",
       "12  FRH0                                           Brittany\n",
       "13  FRI1                                          Aquitaine\n",
       "14  FRI2                                           Limousin\n",
       "15  FRI3                                   Poitou-Charentes\n",
       "16  FRJ1                               Languedoc-Roussillon\n",
       "17  FRJ2                                      Midi-Pyrénées\n",
       "18  FRK1                                           Auvergne\n",
       "19  FRK2                                        Rhône-Alpes\n",
       "20  FRL0                         Provence-Alpes-Côte d’Azur\n",
       "21  FRM0                                            Corsica\n",
       "22  FRY1  Guadeloupe (whose NUTS 2 region includes the C...\n",
       "23  FRY2                                         Martinique\n",
       "24  FRY3                                      French Guiana\n",
       "25  FRY4                                         La Réunion\n",
       "26  FRY5                                            Mayotte"
      ]
     },
     "execution_count": 216,
     "metadata": {},
     "output_type": "execute_result"
    }
   ],
   "source": [
    "df_NUTS = pd.DataFrame.from_dict(dico_NUTS ,orient='index')\n",
    "df_NUTS['region'] = df_NUTS.index\n",
    "df_NUTS = df_NUTS.rename(columns={0: \"nuts2\"})\n",
    "df_NUTS.reset_index(drop = True, inplace = True)\n",
    "df_NUTS"
   ]
  },
  {
   "cell_type": "markdown",
   "metadata": {},
   "source": [
    "On enlève ensuite les 5 dernières lignes car notre base concerne uniquement la France métropolitaine."
   ]
  },
  {
   "cell_type": "code",
   "execution_count": 217,
   "metadata": {},
   "outputs": [],
   "source": [
    "df_NUTS.drop(df_NUTS.tail(5).index, inplace = True)"
   ]
  },
  {
   "cell_type": "markdown",
   "metadata": {},
   "source": [
    "Enfin, la page wikipédia n'existant qu'en anglais, il faut traduire le nom de certaines régions."
   ]
  },
  {
   "cell_type": "code",
   "execution_count": 218,
   "metadata": {},
   "outputs": [],
   "source": [
    "df_NUTS.iloc[4,1] = 'Basse-Normandie'\n",
    "df_NUTS.iloc[5,1] = 'Haute-Normandie'\n",
    "df_NUTS.iloc[7,1] = 'Picardie'\n",
    "df_NUTS.iloc[12,1] = 'Bretagne'\n",
    "df_NUTS.iloc[21,1] = 'Corse'"
   ]
  },
  {
   "cell_type": "markdown",
   "metadata": {},
   "source": [
    "On peut enfin lier les bases Eurostat à ce tableau de correspondance."
   ]
  },
  {
   "cell_type": "code",
   "execution_count": 219,
   "metadata": {},
   "outputs": [
    {
     "data": {
      "text/html": [
       "<div>\n",
       "<style scoped>\n",
       "    .dataframe tbody tr th:only-of-type {\n",
       "        vertical-align: middle;\n",
       "    }\n",
       "\n",
       "    .dataframe tbody tr th {\n",
       "        vertical-align: top;\n",
       "    }\n",
       "\n",
       "    .dataframe thead th {\n",
       "        text-align: right;\n",
       "    }\n",
       "</style>\n",
       "<table border=\"1\" class=\"dataframe\">\n",
       "  <thead>\n",
       "    <tr style=\"text-align: right;\">\n",
       "      <th></th>\n",
       "      <th>nuts2</th>\n",
       "      <th>region</th>\n",
       "      <th>GDP_PPA</th>\n",
       "      <th>Population change</th>\n",
       "      <th>LT unemployment</th>\n",
       "      <th>% students</th>\n",
       "    </tr>\n",
       "  </thead>\n",
       "  <tbody>\n",
       "    <tr>\n",
       "      <th>0</th>\n",
       "      <td>FR10</td>\n",
       "      <td>Île de France</td>\n",
       "      <td>51700.0</td>\n",
       "      <td>4.8</td>\n",
       "      <td>4.3</td>\n",
       "      <td>73.3</td>\n",
       "    </tr>\n",
       "    <tr>\n",
       "      <th>1</th>\n",
       "      <td>FRB0</td>\n",
       "      <td>Centre-Val de Loire</td>\n",
       "      <td>25100.0</td>\n",
       "      <td>-0.6</td>\n",
       "      <td>4.4</td>\n",
       "      <td>41.6</td>\n",
       "    </tr>\n",
       "    <tr>\n",
       "      <th>2</th>\n",
       "      <td>FRC1</td>\n",
       "      <td>Bourgogne</td>\n",
       "      <td>24800.0</td>\n",
       "      <td>-3.1</td>\n",
       "      <td>4.0</td>\n",
       "      <td>46.2</td>\n",
       "    </tr>\n",
       "    <tr>\n",
       "      <th>3</th>\n",
       "      <td>FRC2</td>\n",
       "      <td>Franche-Comté</td>\n",
       "      <td>23000.0</td>\n",
       "      <td>-1.6</td>\n",
       "      <td>3.5</td>\n",
       "      <td>48.7</td>\n",
       "    </tr>\n",
       "    <tr>\n",
       "      <th>4</th>\n",
       "      <td>FRD1</td>\n",
       "      <td>Basse-Normandie</td>\n",
       "      <td>24200.0</td>\n",
       "      <td>-2.1</td>\n",
       "      <td>3.7</td>\n",
       "      <td>43.9</td>\n",
       "    </tr>\n",
       "    <tr>\n",
       "      <th>5</th>\n",
       "      <td>FRD2</td>\n",
       "      <td>Haute-Normandie</td>\n",
       "      <td>26300.0</td>\n",
       "      <td>-1.3</td>\n",
       "      <td>5.9</td>\n",
       "      <td>47.0</td>\n",
       "    </tr>\n",
       "    <tr>\n",
       "      <th>6</th>\n",
       "      <td>FRE1</td>\n",
       "      <td>Nord-Pas-de-Calais</td>\n",
       "      <td>24700.0</td>\n",
       "      <td>-0.5</td>\n",
       "      <td>6.6</td>\n",
       "      <td>54.4</td>\n",
       "    </tr>\n",
       "    <tr>\n",
       "      <th>7</th>\n",
       "      <td>FRE2</td>\n",
       "      <td>Picardie</td>\n",
       "      <td>22600.0</td>\n",
       "      <td>-0.5</td>\n",
       "      <td>5.6</td>\n",
       "      <td>37.8</td>\n",
       "    </tr>\n",
       "    <tr>\n",
       "      <th>8</th>\n",
       "      <td>FRF1</td>\n",
       "      <td>Alsace</td>\n",
       "      <td>28100.0</td>\n",
       "      <td>2.9</td>\n",
       "      <td>4.9</td>\n",
       "      <td>58.1</td>\n",
       "    </tr>\n",
       "    <tr>\n",
       "      <th>9</th>\n",
       "      <td>FRF2</td>\n",
       "      <td>Champagne-Ardenne</td>\n",
       "      <td>25400.0</td>\n",
       "      <td>-3.8</td>\n",
       "      <td>4.8</td>\n",
       "      <td>47.6</td>\n",
       "    </tr>\n",
       "    <tr>\n",
       "      <th>10</th>\n",
       "      <td>FRF3</td>\n",
       "      <td>Lorraine</td>\n",
       "      <td>22600.0</td>\n",
       "      <td>-2.5</td>\n",
       "      <td>5.7</td>\n",
       "      <td>50.6</td>\n",
       "    </tr>\n",
       "    <tr>\n",
       "      <th>11</th>\n",
       "      <td>FRG0</td>\n",
       "      <td>Pays de la Loire</td>\n",
       "      <td>27400.0</td>\n",
       "      <td>5.3</td>\n",
       "      <td>3.3</td>\n",
       "      <td>54.1</td>\n",
       "    </tr>\n",
       "    <tr>\n",
       "      <th>12</th>\n",
       "      <td>FRH0</td>\n",
       "      <td>Bretagne</td>\n",
       "      <td>25800.0</td>\n",
       "      <td>3.7</td>\n",
       "      <td>3.1</td>\n",
       "      <td>60.0</td>\n",
       "    </tr>\n",
       "    <tr>\n",
       "      <th>13</th>\n",
       "      <td>FRI1</td>\n",
       "      <td>Aquitaine</td>\n",
       "      <td>26600.0</td>\n",
       "      <td>6.3</td>\n",
       "      <td>4.1</td>\n",
       "      <td>56.9</td>\n",
       "    </tr>\n",
       "    <tr>\n",
       "      <th>14</th>\n",
       "      <td>FRI2</td>\n",
       "      <td>Limousin</td>\n",
       "      <td>23300.0</td>\n",
       "      <td>-2.0</td>\n",
       "      <td>3.3</td>\n",
       "      <td>50.5</td>\n",
       "    </tr>\n",
       "    <tr>\n",
       "      <th>15</th>\n",
       "      <td>FRI3</td>\n",
       "      <td>Poitou-Charentes</td>\n",
       "      <td>24500.0</td>\n",
       "      <td>0.9</td>\n",
       "      <td>3.9</td>\n",
       "      <td>49.6</td>\n",
       "    </tr>\n",
       "    <tr>\n",
       "      <th>16</th>\n",
       "      <td>FRJ1</td>\n",
       "      <td>Languedoc-Roussillon</td>\n",
       "      <td>22700.0</td>\n",
       "      <td>6.1</td>\n",
       "      <td>5.8</td>\n",
       "      <td>59.9</td>\n",
       "    </tr>\n",
       "    <tr>\n",
       "      <th>17</th>\n",
       "      <td>FRJ2</td>\n",
       "      <td>Midi-Pyrénées</td>\n",
       "      <td>28200.0</td>\n",
       "      <td>6.5</td>\n",
       "      <td>3.3</td>\n",
       "      <td>65.5</td>\n",
       "    </tr>\n",
       "    <tr>\n",
       "      <th>18</th>\n",
       "      <td>FRK1</td>\n",
       "      <td>Auvergne</td>\n",
       "      <td>24000.0</td>\n",
       "      <td>0.6</td>\n",
       "      <td>3.0</td>\n",
       "      <td>60.3</td>\n",
       "    </tr>\n",
       "    <tr>\n",
       "      <th>19</th>\n",
       "      <td>FRK2</td>\n",
       "      <td>Rhône-Alpes</td>\n",
       "      <td>30500.0</td>\n",
       "      <td>4.7</td>\n",
       "      <td>3.2</td>\n",
       "      <td>61.2</td>\n",
       "    </tr>\n",
       "    <tr>\n",
       "      <th>20</th>\n",
       "      <td>FRL0</td>\n",
       "      <td>Provence-Alpes-Côte d’Azur</td>\n",
       "      <td>28300.0</td>\n",
       "      <td>1.8</td>\n",
       "      <td>4.6</td>\n",
       "      <td>55.0</td>\n",
       "    </tr>\n",
       "    <tr>\n",
       "      <th>21</th>\n",
       "      <td>FRM0</td>\n",
       "      <td>Corse</td>\n",
       "      <td>24800.0</td>\n",
       "      <td>13.5</td>\n",
       "      <td>4.1</td>\n",
       "      <td>28.4</td>\n",
       "    </tr>\n",
       "  </tbody>\n",
       "</table>\n",
       "</div>"
      ],
      "text/plain": [
       "   nuts2                      region  GDP_PPA  Population change  \\\n",
       "0   FR10               Île de France  51700.0                4.8   \n",
       "1   FRB0         Centre-Val de Loire  25100.0               -0.6   \n",
       "2   FRC1                   Bourgogne  24800.0               -3.1   \n",
       "3   FRC2               Franche-Comté  23000.0               -1.6   \n",
       "4   FRD1             Basse-Normandie  24200.0               -2.1   \n",
       "5   FRD2             Haute-Normandie  26300.0               -1.3   \n",
       "6   FRE1          Nord-Pas-de-Calais  24700.0               -0.5   \n",
       "7   FRE2                    Picardie  22600.0               -0.5   \n",
       "8   FRF1                      Alsace  28100.0                2.9   \n",
       "9   FRF2           Champagne-Ardenne  25400.0               -3.8   \n",
       "10  FRF3                    Lorraine  22600.0               -2.5   \n",
       "11  FRG0            Pays de la Loire  27400.0                5.3   \n",
       "12  FRH0                    Bretagne  25800.0                3.7   \n",
       "13  FRI1                   Aquitaine  26600.0                6.3   \n",
       "14  FRI2                    Limousin  23300.0               -2.0   \n",
       "15  FRI3            Poitou-Charentes  24500.0                0.9   \n",
       "16  FRJ1        Languedoc-Roussillon  22700.0                6.1   \n",
       "17  FRJ2               Midi-Pyrénées  28200.0                6.5   \n",
       "18  FRK1                    Auvergne  24000.0                0.6   \n",
       "19  FRK2                 Rhône-Alpes  30500.0                4.7   \n",
       "20  FRL0  Provence-Alpes-Côte d’Azur  28300.0                1.8   \n",
       "21  FRM0                       Corse  24800.0               13.5   \n",
       "\n",
       "    LT unemployment  % students  \n",
       "0               4.3        73.3  \n",
       "1               4.4        41.6  \n",
       "2               4.0        46.2  \n",
       "3               3.5        48.7  \n",
       "4               3.7        43.9  \n",
       "5               5.9        47.0  \n",
       "6               6.6        54.4  \n",
       "7               5.6        37.8  \n",
       "8               4.9        58.1  \n",
       "9               4.8        47.6  \n",
       "10              5.7        50.6  \n",
       "11              3.3        54.1  \n",
       "12              3.1        60.0  \n",
       "13              4.1        56.9  \n",
       "14              3.3        50.5  \n",
       "15              3.9        49.6  \n",
       "16              5.8        59.9  \n",
       "17              3.3        65.5  \n",
       "18              3.0        60.3  \n",
       "19              3.2        61.2  \n",
       "20              4.6        55.0  \n",
       "21              4.1        28.4  "
      ]
     },
     "execution_count": 219,
     "metadata": {},
     "output_type": "execute_result"
    }
   ],
   "source": [
    "base_region = df_NUTS.merge(GDP, on='nuts2').merge(POP, on='nuts2').merge(UNEMP,on='nuts2').merge(EDUC, on='region')\n",
    "base_region"
   ]
  },
  {
   "cell_type": "markdown",
   "metadata": {},
   "source": [
    "On merge maintenant cette base régionale avec notre base principale."
   ]
  },
  {
   "cell_type": "code",
   "execution_count": 220,
   "metadata": {},
   "outputs": [],
   "source": [
    "base_indiv_bis = base_indiv_bis.merge(base_region, on='nuts2')"
   ]
  },
  {
   "cell_type": "markdown",
   "metadata": {},
   "source": [
    "On refait maintenant nos régressions de la partie 2 en incluant les variables régionales."
   ]
  },
  {
   "cell_type": "markdown",
   "metadata": {},
   "source": [
    "### Proxy confiance"
   ]
  },
  {
   "cell_type": "code",
   "execution_count": 221,
   "metadata": {},
   "outputs": [
    {
     "name": "stdout",
     "output_type": "stream",
     "text": [
      "                            OLS Regression Results                            \n",
      "==============================================================================\n",
      "Dep. Variable:              confiance   R-squared:                       0.123\n",
      "Model:                            OLS   Adj. R-squared:                  0.119\n",
      "Method:                 Least Squares   F-statistic:                     25.83\n",
      "Date:                Tue, 15 Dec 2020   Prob (F-statistic):           2.36e-46\n",
      "Time:                        23:28:43   Log-Likelihood:                -2860.8\n",
      "No. Observations:                1845   AIC:                             5744.\n",
      "Df Residuals:                    1834   BIC:                             5804.\n",
      "Df Model:                          10                                         \n",
      "Covariance Type:            nonrobust                                         \n",
      "=====================================================================================\n",
      "                        coef    std err          t      P>|t|      [0.025      0.975]\n",
      "-------------------------------------------------------------------------------------\n",
      "const                 3.3989      0.297     11.454      0.000       2.817       3.981\n",
      "rlgblg                0.0801      0.054      1.478      0.139      -0.026       0.186\n",
      "blgetmg               0.2627      0.140      1.874      0.061      -0.012       0.538\n",
      "crmvct               -0.1587      0.064     -2.461      0.014      -0.285      -0.032\n",
      "gndr                 -0.2274      0.055     -4.171      0.000      -0.334      -0.120\n",
      "level_education       0.2306      0.021     10.756      0.000       0.189       0.273\n",
      "hinctnta              0.0310      0.011      2.863      0.004       0.010       0.052\n",
      "GDP_PPA            1.237e-06   5.27e-06      0.235      0.814    -9.1e-06    1.16e-05\n",
      "Population change     0.0088      0.013      0.657      0.511      -0.017       0.035\n",
      "LT unemployment       0.0208      0.028      0.747      0.455      -0.034       0.076\n",
      "% students            0.0111      0.007      1.690      0.091      -0.002       0.024\n",
      "==============================================================================\n",
      "Omnibus:                        1.602   Durbin-Watson:                   1.988\n",
      "Prob(Omnibus):                  0.449   Jarque-Bera (JB):                1.572\n",
      "Skew:                          -0.012   Prob(JB):                        0.456\n",
      "Kurtosis:                       3.141   Cond. No.                     3.39e+05\n",
      "==============================================================================\n",
      "\n",
      "Warnings:\n",
      "[1] Standard Errors assume that the covariance matrix of the errors is correctly specified.\n",
      "[2] The condition number is large, 3.39e+05. This might indicate that there are\n",
      "strong multicollinearity or other numerical problems.\n"
     ]
    }
   ],
   "source": [
    "Y = base_indiv_bis['confiance']\n",
    "X = base_indiv_bis[['rlgblg', 'blgetmg', 'crmvct', 'gndr', 'level_education', 'hinctnta', 'GDP_PPA', 'Population change', 'LT unemployment', '% students']]\n",
    "X = sm.tools.add_constant(X)\n",
    "mod = st.OLS(Y,X)\n",
    "print(mod.fit().summary())"
   ]
  },
  {
   "cell_type": "markdown",
   "metadata": {},
   "source": [
    "Cette première régression sur le proxy confiance est décevante car seule une des quatre variables régionales (% étudiants dans la population âgée de 20 à 24 ans) est significative au niveau 10%. Cela peut s’expliquer par le niveau trop agrégé des régions, qui rend la distinction des territoires très peu fines, contrairement à l’analyse par commune ou quartier. Si on applique la même régression sans contrôler pour les variables individuelles, on voit que sans surprise le PIB par habitant devient significatif (car les habitants d'une région plus riche ont tendance à être eux-mêmes plus riche ; or, le niveau de confiance est positivement corrélé au niveau de richess)."
   ]
  },
  {
   "cell_type": "code",
   "execution_count": 222,
   "metadata": {},
   "outputs": [
    {
     "name": "stdout",
     "output_type": "stream",
     "text": [
      "                            OLS Regression Results                            \n",
      "==============================================================================\n",
      "Dep. Variable:              confiance   R-squared:                       0.026\n",
      "Model:                            OLS   Adj. R-squared:                  0.024\n",
      "Method:                 Least Squares   F-statistic:                     12.37\n",
      "Date:                Tue, 15 Dec 2020   Prob (F-statistic):           6.28e-10\n",
      "Time:                        23:28:43   Log-Likelihood:                -2957.9\n",
      "No. Observations:                1845   AIC:                             5926.\n",
      "Df Residuals:                    1840   BIC:                             5953.\n",
      "Df Model:                           4                                         \n",
      "Covariance Type:            nonrobust                                         \n",
      "=====================================================================================\n",
      "                        coef    std err          t      P>|t|      [0.025      0.975]\n",
      "-------------------------------------------------------------------------------------\n",
      "const                 3.3179      0.298     11.136      0.000       2.734       3.902\n",
      "GDP_PPA            1.001e-05   5.45e-06      1.835      0.067    -6.9e-07    2.07e-05\n",
      "Population change     0.0135      0.014      0.967      0.334      -0.014       0.041\n",
      "LT unemployment       0.0225      0.029      0.769      0.442      -0.035       0.080\n",
      "% students            0.0112      0.007      1.636      0.102      -0.002       0.025\n",
      "==============================================================================\n",
      "Omnibus:                        0.072   Durbin-Watson:                   1.942\n",
      "Prob(Omnibus):                  0.964   Jarque-Bera (JB):                0.034\n",
      "Skew:                           0.001   Prob(JB):                        0.983\n",
      "Kurtosis:                       3.021   Cond. No.                     3.23e+05\n",
      "==============================================================================\n",
      "\n",
      "Warnings:\n",
      "[1] Standard Errors assume that the covariance matrix of the errors is correctly specified.\n",
      "[2] The condition number is large, 3.23e+05. This might indicate that there are\n",
      "strong multicollinearity or other numerical problems.\n"
     ]
    }
   ],
   "source": [
    "Y = base_indiv_bis['confiance']\n",
    "X = base_indiv_bis[['GDP_PPA', 'Population change', 'LT unemployment', '% students']]\n",
    "X = sm.tools.add_constant(X)\n",
    "mod = st.OLS(Y,X)\n",
    "print(mod.fit().summary())"
   ]
  },
  {
   "cell_type": "markdown",
   "metadata": {},
   "source": [
    "### Proxy bien-être"
   ]
  },
  {
   "cell_type": "code",
   "execution_count": 223,
   "metadata": {},
   "outputs": [
    {
     "name": "stdout",
     "output_type": "stream",
     "text": [
      "                            OLS Regression Results                            \n",
      "==============================================================================\n",
      "Dep. Variable:               bienêtre   R-squared:                       0.124\n",
      "Model:                            OLS   Adj. R-squared:                  0.119\n",
      "Method:                 Least Squares   F-statistic:                     25.99\n",
      "Date:                Tue, 15 Dec 2020   Prob (F-statistic):           1.20e-46\n",
      "Time:                        23:28:43   Log-Likelihood:                -3129.7\n",
      "No. Observations:                1845   AIC:                             6281.\n",
      "Df Residuals:                    1834   BIC:                             6342.\n",
      "Df Model:                          10                                         \n",
      "Covariance Type:            nonrobust                                         \n",
      "=====================================================================================\n",
      "                        coef    std err          t      P>|t|      [0.025      0.975]\n",
      "-------------------------------------------------------------------------------------\n",
      "const                 5.7919      0.352     16.472      0.000       5.102       6.482\n",
      "blgetmg               0.3498      0.163      2.152      0.031       0.031       0.669\n",
      "crmvct               -0.3036      0.075     -4.048      0.000      -0.451      -0.156\n",
      "agea                 -0.0152      0.002     -8.577      0.000      -0.019      -0.012\n",
      "uemp3m               -0.3799      0.065     -5.836      0.000      -0.508      -0.252\n",
      "level_education       0.0481      0.026      1.880      0.060      -0.002       0.098\n",
      "hinctnta              0.0916      0.012      7.337      0.000       0.067       0.116\n",
      "GDP_PPA           -1.294e-05   6.09e-06     -2.125      0.034   -2.49e-05   -9.98e-07\n",
      "Population change     0.0144      0.015      0.930      0.352      -0.016       0.045\n",
      "LT unemployment       0.0117      0.032      0.363      0.716      -0.052       0.075\n",
      "% students            0.0182      0.008      2.414      0.016       0.003       0.033\n",
      "==============================================================================\n",
      "Omnibus:                       26.627   Durbin-Watson:                   1.913\n",
      "Prob(Omnibus):                  0.000   Jarque-Bera (JB):               29.438\n",
      "Skew:                          -0.247   Prob(JB):                     4.05e-07\n",
      "Kurtosis:                       3.372   Cond. No.                     3.47e+05\n",
      "==============================================================================\n",
      "\n",
      "Warnings:\n",
      "[1] Standard Errors assume that the covariance matrix of the errors is correctly specified.\n",
      "[2] The condition number is large, 3.47e+05. This might indicate that there are\n",
      "strong multicollinearity or other numerical problems.\n"
     ]
    }
   ],
   "source": [
    "Y = base_indiv_bis['bienêtre']\n",
    "X = base_indiv_bis[['blgetmg', 'crmvct', 'agea', 'uemp3m', 'level_education', 'hinctnta', 'GDP_PPA', 'Population change', 'LT unemployment', '% students']]\n",
    "X = sm.tools.add_constant(X)\n",
    "mod = st.OLS(Y,X)\n",
    "print(mod.fit().summary())"
   ]
  },
  {
   "cell_type": "markdown",
   "metadata": {},
   "source": [
    "La régression de la variable bien-être est plus intéressante. On voit que même en contrôlant pour les variables individuelles, la variable % students est très significative et positive, ce qui suggère que le dynamisme apporté par la présence d'étudiants au sein d'une région pourrait avoir un impact sur le bien-être subjectif des individus y vivant. En revanche, le signe de GDP_PPA est étonnant : à niveau de richesse (et éducation, ...) individuelle donnée, vivre dans une région plus riche diminuerait le bien-être subjectif. On peut voir que ce lien n'est pas persistant si on enlève les observations de la région Ile de France, où le PIB par habitant est largement plus élevé qu'ailleurs mais où la vie est aussi plus chère (en effet, la partité de pouvoir d'achat de la base Eurostat n'est pas entre les régions mais entre les pays). Vivre en Ile de France peut être synonyme de contraintes spécifiques (dont la chéreté de la vie, la densité de population, ...) qui baissent le bien-être perçu."
   ]
  },
  {
   "cell_type": "code",
   "execution_count": 224,
   "metadata": {},
   "outputs": [
    {
     "name": "stdout",
     "output_type": "stream",
     "text": [
      "                            OLS Regression Results                            \n",
      "==============================================================================\n",
      "Dep. Variable:               bienêtre   R-squared:                       0.122\n",
      "Model:                            OLS   Adj. R-squared:                  0.117\n",
      "Method:                 Least Squares   F-statistic:                     22.59\n",
      "Date:                Tue, 15 Dec 2020   Prob (F-statistic):           4.97e-40\n",
      "Time:                        23:28:43   Log-Likelihood:                -2778.9\n",
      "No. Observations:                1634   AIC:                             5580.\n",
      "Df Residuals:                    1623   BIC:                             5639.\n",
      "Df Model:                          10                                         \n",
      "Covariance Type:            nonrobust                                         \n",
      "=====================================================================================\n",
      "                        coef    std err          t      P>|t|      [0.025      0.975]\n",
      "-------------------------------------------------------------------------------------\n",
      "const                 5.2046      0.613      8.485      0.000       4.001       6.408\n",
      "blgetmg               0.4466      0.189      2.359      0.018       0.075       0.818\n",
      "crmvct               -0.2557      0.081     -3.150      0.002      -0.415      -0.096\n",
      "agea                 -0.0150      0.002     -7.823      0.000      -0.019      -0.011\n",
      "uemp3m               -0.4127      0.070     -5.937      0.000      -0.549      -0.276\n",
      "level_education       0.0435      0.028      1.555      0.120      -0.011       0.098\n",
      "hinctnta              0.0912      0.013      6.788      0.000       0.065       0.118\n",
      "GDP_PPA            6.619e-06   1.76e-05      0.377      0.707   -2.79e-05    4.11e-05\n",
      "Population change     0.0087      0.016      0.539      0.590      -0.023       0.041\n",
      "LT unemployment       0.0289      0.035      0.821      0.412      -0.040       0.098\n",
      "% students            0.0185      0.008      2.434      0.015       0.004       0.033\n",
      "==============================================================================\n",
      "Omnibus:                       19.550   Durbin-Watson:                   1.935\n",
      "Prob(Omnibus):                  0.000   Jarque-Bera (JB):               21.043\n",
      "Skew:                          -0.227   Prob(JB):                     2.70e-05\n",
      "Kurtosis:                       3.322   Cond. No.                     4.92e+05\n",
      "==============================================================================\n",
      "\n",
      "Warnings:\n",
      "[1] Standard Errors assume that the covariance matrix of the errors is correctly specified.\n",
      "[2] The condition number is large, 4.92e+05. This might indicate that there are\n",
      "strong multicollinearity or other numerical problems.\n"
     ]
    }
   ],
   "source": [
    "base_sans_paris = base_indiv_bis[base_indiv_bis['nuts2']!='FR10']\n",
    "\n",
    "Y = base_sans_paris['bienêtre']\n",
    "X = base_sans_paris[['blgetmg', 'crmvct', 'agea', 'uemp3m', 'level_education', 'hinctnta', 'GDP_PPA', 'Population change', 'LT unemployment', '% students']]\n",
    "X = sm.tools.add_constant(X)\n",
    "mod = st.OLS(Y,X)\n",
    "print(mod.fit().summary())"
   ]
  },
  {
   "cell_type": "markdown",
   "metadata": {},
   "source": [
    "On voit que notre problème disparaît. En revanche, le coefficient associé à % students a très peu bougé (alors même que la région Ile de France fait aussi exception sur cette variable), ce qui prouve la robustesse de l'effet de cette variable."
   ]
  },
  {
   "cell_type": "markdown",
   "metadata": {},
   "source": [
    "### Proxy protection"
   ]
  },
  {
   "cell_type": "code",
   "execution_count": 225,
   "metadata": {},
   "outputs": [
    {
     "name": "stdout",
     "output_type": "stream",
     "text": [
      "                            OLS Regression Results                            \n",
      "==============================================================================\n",
      "Dep. Variable:             protection   R-squared:                       0.122\n",
      "Model:                            OLS   Adj. R-squared:                  0.118\n",
      "Method:                 Least Squares   F-statistic:                     28.43\n",
      "Date:                Tue, 15 Dec 2020   Prob (F-statistic):           1.30e-46\n",
      "Time:                        23:28:43   Log-Likelihood:                -3308.4\n",
      "No. Observations:                1845   AIC:                             6637.\n",
      "Df Residuals:                    1835   BIC:                             6692.\n",
      "Df Model:                           9                                         \n",
      "Covariance Type:            nonrobust                                         \n",
      "=====================================================================================\n",
      "                        coef    std err          t      P>|t|      [0.025      0.975]\n",
      "-------------------------------------------------------------------------------------\n",
      "const                 5.3451      0.381     14.011      0.000       4.597       6.093\n",
      "rlgblg               -0.2953      0.071     -4.188      0.000      -0.434      -0.157\n",
      "crmvct               -0.3748      0.082     -4.547      0.000      -0.536      -0.213\n",
      "agea                 -0.0052      0.002     -2.669      0.008      -0.009      -0.001\n",
      "level_education       0.2386      0.028      8.465      0.000       0.183       0.294\n",
      "hinctnta              0.0419      0.014      3.075      0.002       0.015       0.069\n",
      "GDP_PPA           -4.509e-06   6.69e-06     -0.674      0.500   -1.76e-05    8.61e-06\n",
      "Population change     0.0414      0.017      2.433      0.015       0.008       0.075\n",
      "LT unemployment      -0.1510      0.036     -4.249      0.000      -0.221      -0.081\n",
      "% students            0.0026      0.008      0.317      0.751      -0.014       0.019\n",
      "==============================================================================\n",
      "Omnibus:                       12.847   Durbin-Watson:                   1.881\n",
      "Prob(Omnibus):                  0.002   Jarque-Bera (JB):               12.893\n",
      "Skew:                          -0.200   Prob(JB):                      0.00159\n",
      "Kurtosis:                       3.090   Cond. No.                     3.41e+05\n",
      "==============================================================================\n",
      "\n",
      "Warnings:\n",
      "[1] Standard Errors assume that the covariance matrix of the errors is correctly specified.\n",
      "[2] The condition number is large, 3.41e+05. This might indicate that there are\n",
      "strong multicollinearity or other numerical problems.\n"
     ]
    }
   ],
   "source": [
    "Y = base_indiv_bis['protection']\n",
    "X = base_indiv_bis[['rlgblg', 'crmvct', 'agea', 'level_education', 'hinctnta', 'GDP_PPA', 'Population change', 'LT unemployment', '% students']]\n",
    "X = sm.tools.add_constant(X)\n",
    "mod = st.OLS(Y,X)\n",
    "print(mod.fit().summary())"
   ]
  },
  {
   "cell_type": "markdown",
   "metadata": {},
   "source": [
    "Cette régression donne aussi des résultats intéressants et différents des précédentes. En effet, les coefficients associés aux variables Population change et LT unemployment sont pour la première fois significatifs. Les régions où le dynamisme démographique est le plus fort sont moins méfiantes vis-à-vis de l'extérieur (peut-être du fait d'une meilleure connaissance de l'autre) et celles où le taux de chômage de long-terme est le plus élevé le sont plus (peut-être par l'assimilation de l'ouverture de la France au monde extérieur à un vecteur de risques économique et culturel)."
   ]
  },
  {
   "cell_type": "markdown",
   "metadata": {},
   "source": [
    "### Proxy progressisme"
   ]
  },
  {
   "cell_type": "code",
   "execution_count": 226,
   "metadata": {},
   "outputs": [
    {
     "name": "stdout",
     "output_type": "stream",
     "text": [
      "                            OLS Regression Results                            \n",
      "==============================================================================\n",
      "Dep. Variable:           progressisme   R-squared:                       0.232\n",
      "Model:                            OLS   Adj. R-squared:                  0.228\n",
      "Method:                 Least Squares   F-statistic:                     61.67\n",
      "Date:                Tue, 15 Dec 2020   Prob (F-statistic):           6.16e-99\n",
      "Time:                        23:28:43   Log-Likelihood:                -3467.3\n",
      "No. Observations:                1845   AIC:                             6955.\n",
      "Df Residuals:                    1835   BIC:                             7010.\n",
      "Df Model:                           9                                         \n",
      "Covariance Type:            nonrobust                                         \n",
      "=====================================================================================\n",
      "                        coef    std err          t      P>|t|      [0.025      0.975]\n",
      "-------------------------------------------------------------------------------------\n",
      "const                 8.9427      0.415     21.535      0.000       8.128       9.757\n",
      "rlgblg               -1.2412      0.077    -16.126      0.000      -1.392      -1.090\n",
      "blgetmg              -0.4819      0.195     -2.470      0.014      -0.865      -0.099\n",
      "agea                 -0.0150      0.002     -6.990      0.000      -0.019      -0.011\n",
      "level_education       0.2015      0.031      6.573      0.000       0.141       0.262\n",
      "hinctnta              0.0470      0.015      3.161      0.002       0.018       0.076\n",
      "GDP_PPA           -4.466e-06   7.31e-06     -0.611      0.541   -1.88e-05    9.87e-06\n",
      "Population change     0.0413      0.019      2.229      0.026       0.005       0.078\n",
      "LT unemployment      -0.0317      0.039     -0.817      0.414      -0.108       0.044\n",
      "% students           -0.0096      0.009     -1.053      0.293      -0.027       0.008\n",
      "==============================================================================\n",
      "Omnibus:                      128.885   Durbin-Watson:                   1.917\n",
      "Prob(Omnibus):                  0.000   Jarque-Bera (JB):              158.044\n",
      "Skew:                          -0.659   Prob(JB):                     4.80e-35\n",
      "Kurtosis:                       3.566   Cond. No.                     3.41e+05\n",
      "==============================================================================\n",
      "\n",
      "Warnings:\n",
      "[1] Standard Errors assume that the covariance matrix of the errors is correctly specified.\n",
      "[2] The condition number is large, 3.41e+05. This might indicate that there are\n",
      "strong multicollinearity or other numerical problems.\n"
     ]
    }
   ],
   "source": [
    "Y = base_indiv_bis['progressisme']\n",
    "X = base_indiv_bis[['rlgblg', 'blgetmg', 'agea', 'level_education', 'hinctnta', 'GDP_PPA', 'Population change', 'LT unemployment', '% students']]\n",
    "X = sm.tools.add_constant(X)\n",
    "mod = st.OLS(Y,X)\n",
    "print(mod.fit().summary())"
   ]
  },
  {
   "cell_type": "markdown",
   "metadata": {},
   "source": [
    "Cette dernière régression donne uniquement la variable Population change comme significative, ce qui peut s'interpréter de la même façon que dans la régression précédente."
   ]
  },
  {
   "cell_type": "markdown",
   "metadata": {},
   "source": [
    "## Conclusion"
   ]
  },
  {
   "cell_type": "markdown",
   "metadata": {},
   "source": [
    "Pour conclure, notre projet avait donc pour but d’expliquer causalement le vote populiste de droite en France. Si, dans un premier temps, nous avons construit des proxys afin d’expliquer subjectivement le vote FN -à l’aide d’un modèle Logit- nous avons voulu pousser l’analyse afin d’expliquer ces proxys (regroupant des variables d’ordre subjective) avec des variables objectives individuelles. En effet, si l’explication du vote FN par des variables subjectives permet de briser l’explication classique du vote par des variables objectives telles que le revenu ou l’âge, il est pertinent de tenter de comprendre ces variables subjectives par des caractéristiques sociodémographiques individuelles. Mais il est aussi possible de comprendre ces caractéristiques subjectives individuelles non pas par des critères propres à l’individu mais par des caractéristiques propres à l’environnement dans lequel il évolue (ici à l’échelle de la région). Il nous semblait en effet pertinent de changer autant que possible la focale d’analyse dans notre projet, c’est-à-dire d’utiliser dans un premier temps des variables explicatives d’ordre subjective puis d’ordre objective, mais aussi de tenter d’expliquer ces variables subjectives à la fois à l’échelle micro puis macro.\n",
    "\n",
    "Une voie possible d'approfondissement de ce travail serait de mieux prendre en compte les poids attribués à chaque individu, bien que ces poids ne permettent pas de régler le manque de représentativité de la base (notamment pour le vote, comme nous l'avons expliqué plus haut)."
   ]
  }
 ],
 "metadata": {
  "kernelspec": {
   "display_name": "Python 3",
   "language": "python",
   "name": "python3"
  },
  "language_info": {
   "codemirror_mode": {
    "name": "ipython",
    "version": 3
   },
   "file_extension": ".py",
   "mimetype": "text/x-python",
   "name": "python",
   "nbconvert_exporter": "python",
   "pygments_lexer": "ipython3",
   "version": "3.8.3"
  }
 },
 "nbformat": 4,
 "nbformat_minor": 4
}
