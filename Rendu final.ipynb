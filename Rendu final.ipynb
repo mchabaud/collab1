{
 "cells": [
  {
   "cell_type": "markdown",
   "metadata": {},
   "source": [
    "# Expliquer le vote populiste en France"
   ]
  },
  {
   "cell_type": "markdown",
   "metadata": {},
   "source": [
    "## Première partie : Le vote comme expression d'opinions subjectives"
   ]
  },
  {
   "cell_type": "markdown",
   "metadata": {},
   "source": [
    "« L'isoloir planté dans une salle d'école ou de mairie est le symbole de toutes les trahisons que l'individu peut commettre envers les groupes dont il fait partie. ». Cette phrase suffirait presque à résumer l'argumentaire de Sartre dans son célèbre texte \"Élections, piège à cons\", publié dans la revue Les Temps Modernes en 1973. Pour Sartre, le fait que la pratique du vote soit dans nos démocraties modernes un acte individuel empêche les classes sociales de porter collectivement leur intérêt, car chacun peut se défiler au moment de prendre la décision importante qui est celle d'élire les réprésentants du peuple. En effet, le ressenti individuel du votant peut ne pas correspondre à l'analyse objective que ferait un observateur extérieur de ce que devrait chosir le votant en fonction de ses caractéristiques socio-économiques objectives (niveau d'éducation, revenu,... en bref sa classe sociale). Or, c'est bien ce ressenti individuel et subjectif qui détermine en dernière instance le vote. Les caractéristiques individuelles objectives ne sont que des facteurs explicatifs parmi d'autres de ce ressenti. C'est pourquoi la sociologie électorale ne se contente pas de lier l'environnement social des individus à leur vote mais cherche également à collecter leur ressenti subjectif sur le monde dans lequel ils vivent.\n",
    "\n",
    "La base de données à notre disposition permet justement de prendre en compte ce ressenti subjectif. En effet, la plupart des variables sont des réponses à des questions d'opinion. Le but de cette partie est de lier ce ressenti subjectif aux déclarations de vote (en particulier du vote FN) des individus. Devant l'étendue des variables et thématiques disponibles, nous avons construit 5 variables subjectives synthétiques nous semblant pertinentes pour expliquer le vote FN.\n",
    "\n",
    "Avant d'expliquer comment nous construisons ces variables, on peut dans un premier temps décrire brièvement la base en question à l'aide de quelques statistiques descriptives."
   ]
  },
  {
   "cell_type": "code",
   "execution_count": 2,
   "metadata": {},
   "outputs": [],
   "source": [
    "import numpy as np\n",
    "import pandas as pd\n",
    "import seaborn as sns\n",
    "import statsmodels as sm\n",
    "import statsmodels.api as st\n",
    "import statsmodels.formula.api as smf\n",
    "import urllib\n",
    "import bs4"
   ]
  },
  {
   "cell_type": "code",
   "execution_count": 8,
   "metadata": {},
   "outputs": [
    {
     "data": {
      "text/plain": [
       "(2070, 539)"
      ]
     },
     "execution_count": 8,
     "metadata": {},
     "output_type": "execute_result"
    }
   ],
   "source": [
    "base_indiv = pd.read_spss('base_indiv.sav', convert_categoricals=False)\n",
    "base_indiv.shape"
   ]
  },
  {
   "cell_type": "markdown",
   "metadata": {},
   "source": [
    "Comme on peut le voir, la base est extrêmement large. À l'aide du descriptif de chaque variable, que l'on peut trouver en ligne (http://nesstar.ess.nsd.uib.no/webview/index.jsp?v=2&submode=abstract&study=http%3A%2F%2F129.177.90.83%3A80%2Fobj%2FfStudy%2FESS9e02.0&mode=documentation&top=yes), nous avons présélectionné un sous-ensemble de 37 variables, qui recouvrent à notre sens l'essentiel des variables subjectives et objectives pertinentes pour notre problématique. Nous avons également veillé à ne pas chosir des variables redondantes. La description de chaque variable est disponible dans un document annexe."
   ]
  },
  {
   "cell_type": "code",
   "execution_count": 9,
   "metadata": {},
   "outputs": [
    {
     "data": {
      "text/html": [
       "<div>\n",
       "<style scoped>\n",
       "    .dataframe tbody tr th:only-of-type {\n",
       "        vertical-align: middle;\n",
       "    }\n",
       "\n",
       "    .dataframe tbody tr th {\n",
       "        vertical-align: top;\n",
       "    }\n",
       "\n",
       "    .dataframe thead th {\n",
       "        text-align: right;\n",
       "    }\n",
       "</style>\n",
       "<table border=\"1\" class=\"dataframe\">\n",
       "  <thead>\n",
       "    <tr style=\"text-align: right;\">\n",
       "      <th></th>\n",
       "      <th>ppltrst</th>\n",
       "      <th>cptppola</th>\n",
       "      <th>trstplt</th>\n",
       "      <th>ccnthum</th>\n",
       "      <th>polintr</th>\n",
       "      <th>vote</th>\n",
       "      <th>pbldmn</th>\n",
       "      <th>bctprd</th>\n",
       "      <th>pstplonl</th>\n",
       "      <th>mbtru</th>\n",
       "      <th>...</th>\n",
       "      <th>prtvtcfr</th>\n",
       "      <th>gndr</th>\n",
       "      <th>agea</th>\n",
       "      <th>chldhm</th>\n",
       "      <th>edlvdfr</th>\n",
       "      <th>uemp3m</th>\n",
       "      <th>tporgwk</th>\n",
       "      <th>hinctnta</th>\n",
       "      <th>lrscale</th>\n",
       "      <th>weight</th>\n",
       "    </tr>\n",
       "  </thead>\n",
       "  <tbody>\n",
       "    <tr>\n",
       "      <th>count</th>\n",
       "      <td>2070.000000</td>\n",
       "      <td>2055.000000</td>\n",
       "      <td>2059.000000</td>\n",
       "      <td>2024.000000</td>\n",
       "      <td>2069.000000</td>\n",
       "      <td>2003.00000</td>\n",
       "      <td>2068.000000</td>\n",
       "      <td>2065.000000</td>\n",
       "      <td>2068.000000</td>\n",
       "      <td>2063.000000</td>\n",
       "      <td>...</td>\n",
       "      <td>1059.000000</td>\n",
       "      <td>2070.000000</td>\n",
       "      <td>2069.000000</td>\n",
       "      <td>2070.000000</td>\n",
       "      <td>2068.000000</td>\n",
       "      <td>2066.000000</td>\n",
       "      <td>1936.000000</td>\n",
       "      <td>1884.000000</td>\n",
       "      <td>1916.000000</td>\n",
       "      <td>2070.000000</td>\n",
       "    </tr>\n",
       "    <tr>\n",
       "      <th>mean</th>\n",
       "      <td>4.583575</td>\n",
       "      <td>2.195134</td>\n",
       "      <td>2.893152</td>\n",
       "      <td>3.614625</td>\n",
       "      <td>2.559691</td>\n",
       "      <td>1.52671</td>\n",
       "      <td>1.856867</td>\n",
       "      <td>1.676513</td>\n",
       "      <td>1.803191</td>\n",
       "      <td>2.713524</td>\n",
       "      <td>...</td>\n",
       "      <td>8.600567</td>\n",
       "      <td>1.539614</td>\n",
       "      <td>52.377960</td>\n",
       "      <td>1.701449</td>\n",
       "      <td>10.130561</td>\n",
       "      <td>1.610842</td>\n",
       "      <td>3.620351</td>\n",
       "      <td>4.855626</td>\n",
       "      <td>5.079854</td>\n",
       "      <td>1.000000</td>\n",
       "    </tr>\n",
       "    <tr>\n",
       "      <th>std</th>\n",
       "      <td>2.143143</td>\n",
       "      <td>0.943060</td>\n",
       "      <td>2.094522</td>\n",
       "      <td>2.907148</td>\n",
       "      <td>0.970024</td>\n",
       "      <td>0.70722</td>\n",
       "      <td>0.350294</td>\n",
       "      <td>0.467920</td>\n",
       "      <td>0.397683</td>\n",
       "      <td>0.591605</td>\n",
       "      <td>...</td>\n",
       "      <td>3.167957</td>\n",
       "      <td>0.498549</td>\n",
       "      <td>18.929428</td>\n",
       "      <td>0.457733</td>\n",
       "      <td>6.134469</td>\n",
       "      <td>0.487677</td>\n",
       "      <td>1.176417</td>\n",
       "      <td>2.740380</td>\n",
       "      <td>2.409379</td>\n",
       "      <td>0.691451</td>\n",
       "    </tr>\n",
       "    <tr>\n",
       "      <th>min</th>\n",
       "      <td>0.000000</td>\n",
       "      <td>1.000000</td>\n",
       "      <td>0.000000</td>\n",
       "      <td>1.000000</td>\n",
       "      <td>1.000000</td>\n",
       "      <td>1.00000</td>\n",
       "      <td>1.000000</td>\n",
       "      <td>1.000000</td>\n",
       "      <td>1.000000</td>\n",
       "      <td>1.000000</td>\n",
       "      <td>...</td>\n",
       "      <td>1.000000</td>\n",
       "      <td>1.000000</td>\n",
       "      <td>15.000000</td>\n",
       "      <td>1.000000</td>\n",
       "      <td>1.000000</td>\n",
       "      <td>1.000000</td>\n",
       "      <td>1.000000</td>\n",
       "      <td>1.000000</td>\n",
       "      <td>0.000000</td>\n",
       "      <td>0.228504</td>\n",
       "    </tr>\n",
       "    <tr>\n",
       "      <th>25%</th>\n",
       "      <td>3.000000</td>\n",
       "      <td>1.000000</td>\n",
       "      <td>1.000000</td>\n",
       "      <td>3.000000</td>\n",
       "      <td>2.000000</td>\n",
       "      <td>1.00000</td>\n",
       "      <td>2.000000</td>\n",
       "      <td>1.000000</td>\n",
       "      <td>2.000000</td>\n",
       "      <td>3.000000</td>\n",
       "      <td>...</td>\n",
       "      <td>9.000000</td>\n",
       "      <td>1.000000</td>\n",
       "      <td>38.000000</td>\n",
       "      <td>1.000000</td>\n",
       "      <td>6.000000</td>\n",
       "      <td>1.000000</td>\n",
       "      <td>3.000000</td>\n",
       "      <td>2.000000</td>\n",
       "      <td>3.000000</td>\n",
       "      <td>0.539700</td>\n",
       "    </tr>\n",
       "    <tr>\n",
       "      <th>50%</th>\n",
       "      <td>5.000000</td>\n",
       "      <td>2.000000</td>\n",
       "      <td>3.000000</td>\n",
       "      <td>3.000000</td>\n",
       "      <td>3.000000</td>\n",
       "      <td>1.00000</td>\n",
       "      <td>2.000000</td>\n",
       "      <td>2.000000</td>\n",
       "      <td>2.000000</td>\n",
       "      <td>3.000000</td>\n",
       "      <td>...</td>\n",
       "      <td>9.000000</td>\n",
       "      <td>2.000000</td>\n",
       "      <td>53.000000</td>\n",
       "      <td>2.000000</td>\n",
       "      <td>7.000000</td>\n",
       "      <td>2.000000</td>\n",
       "      <td>4.000000</td>\n",
       "      <td>5.000000</td>\n",
       "      <td>5.000000</td>\n",
       "      <td>0.803473</td>\n",
       "    </tr>\n",
       "    <tr>\n",
       "      <th>75%</th>\n",
       "      <td>6.000000</td>\n",
       "      <td>3.000000</td>\n",
       "      <td>4.000000</td>\n",
       "      <td>4.000000</td>\n",
       "      <td>3.000000</td>\n",
       "      <td>2.00000</td>\n",
       "      <td>2.000000</td>\n",
       "      <td>2.000000</td>\n",
       "      <td>2.000000</td>\n",
       "      <td>3.000000</td>\n",
       "      <td>...</td>\n",
       "      <td>10.000000</td>\n",
       "      <td>2.000000</td>\n",
       "      <td>67.000000</td>\n",
       "      <td>2.000000</td>\n",
       "      <td>15.000000</td>\n",
       "      <td>2.000000</td>\n",
       "      <td>4.000000</td>\n",
       "      <td>7.000000</td>\n",
       "      <td>7.000000</td>\n",
       "      <td>1.203349</td>\n",
       "    </tr>\n",
       "    <tr>\n",
       "      <th>max</th>\n",
       "      <td>10.000000</td>\n",
       "      <td>5.000000</td>\n",
       "      <td>10.000000</td>\n",
       "      <td>55.000000</td>\n",
       "      <td>4.000000</td>\n",
       "      <td>3.00000</td>\n",
       "      <td>2.000000</td>\n",
       "      <td>2.000000</td>\n",
       "      <td>2.000000</td>\n",
       "      <td>3.000000</td>\n",
       "      <td>...</td>\n",
       "      <td>16.000000</td>\n",
       "      <td>2.000000</td>\n",
       "      <td>99.000000</td>\n",
       "      <td>2.000000</td>\n",
       "      <td>26.000000</td>\n",
       "      <td>2.000000</td>\n",
       "      <td>6.000000</td>\n",
       "      <td>10.000000</td>\n",
       "      <td>10.000000</td>\n",
       "      <td>4.000000</td>\n",
       "    </tr>\n",
       "  </tbody>\n",
       "</table>\n",
       "<p>8 rows × 35 columns</p>\n",
       "</div>"
      ],
      "text/plain": [
       "           ppltrst     cptppola      trstplt      ccnthum      polintr  \\\n",
       "count  2070.000000  2055.000000  2059.000000  2024.000000  2069.000000   \n",
       "mean      4.583575     2.195134     2.893152     3.614625     2.559691   \n",
       "std       2.143143     0.943060     2.094522     2.907148     0.970024   \n",
       "min       0.000000     1.000000     0.000000     1.000000     1.000000   \n",
       "25%       3.000000     1.000000     1.000000     3.000000     2.000000   \n",
       "50%       5.000000     2.000000     3.000000     3.000000     3.000000   \n",
       "75%       6.000000     3.000000     4.000000     4.000000     3.000000   \n",
       "max      10.000000     5.000000    10.000000    55.000000     4.000000   \n",
       "\n",
       "             vote       pbldmn       bctprd     pstplonl        mbtru  ...  \\\n",
       "count  2003.00000  2068.000000  2065.000000  2068.000000  2063.000000  ...   \n",
       "mean      1.52671     1.856867     1.676513     1.803191     2.713524  ...   \n",
       "std       0.70722     0.350294     0.467920     0.397683     0.591605  ...   \n",
       "min       1.00000     1.000000     1.000000     1.000000     1.000000  ...   \n",
       "25%       1.00000     2.000000     1.000000     2.000000     3.000000  ...   \n",
       "50%       1.00000     2.000000     2.000000     2.000000     3.000000  ...   \n",
       "75%       2.00000     2.000000     2.000000     2.000000     3.000000  ...   \n",
       "max       3.00000     2.000000     2.000000     2.000000     3.000000  ...   \n",
       "\n",
       "          prtvtcfr         gndr         agea       chldhm      edlvdfr  \\\n",
       "count  1059.000000  2070.000000  2069.000000  2070.000000  2068.000000   \n",
       "mean      8.600567     1.539614    52.377960     1.701449    10.130561   \n",
       "std       3.167957     0.498549    18.929428     0.457733     6.134469   \n",
       "min       1.000000     1.000000    15.000000     1.000000     1.000000   \n",
       "25%       9.000000     1.000000    38.000000     1.000000     6.000000   \n",
       "50%       9.000000     2.000000    53.000000     2.000000     7.000000   \n",
       "75%      10.000000     2.000000    67.000000     2.000000    15.000000   \n",
       "max      16.000000     2.000000    99.000000     2.000000    26.000000   \n",
       "\n",
       "            uemp3m      tporgwk     hinctnta      lrscale       weight  \n",
       "count  2066.000000  1936.000000  1884.000000  1916.000000  2070.000000  \n",
       "mean      1.610842     3.620351     4.855626     5.079854     1.000000  \n",
       "std       0.487677     1.176417     2.740380     2.409379     0.691451  \n",
       "min       1.000000     1.000000     1.000000     0.000000     0.228504  \n",
       "25%       1.000000     3.000000     2.000000     3.000000     0.539700  \n",
       "50%       2.000000     4.000000     5.000000     5.000000     0.803473  \n",
       "75%       2.000000     4.000000     7.000000     7.000000     1.203349  \n",
       "max       2.000000     6.000000    10.000000    10.000000     4.000000  \n",
       "\n",
       "[8 rows x 35 columns]"
      ]
     },
     "execution_count": 9,
     "metadata": {},
     "output_type": "execute_result"
    }
   ],
   "source": [
    "base_indiv = base_indiv[[\"ess8_id\", \"nuts2\", \"ppltrst\", \"cptppola\", \"trstplt\", \"ccnthum\", \"polintr\", \"vote\", \"pbldmn\",\"bctprd\",\"pstplonl\", \"mbtru\", \"stflife\", \"stfedu\", \"stfhlth\", \"aesfdrk\", \"health\",  \"gincdif\", \"euftf\", \"imwbcnt\", \"ipstrgv\", \"mnrgtjb\", \"freehms\", \"imptrad\", \"rlgblg\", \"blgetmg\", \"crmvct\", \"prtvtcfr\", \"gndr\", \"agea\", \"chldhm\", \"edlvdfr\",\"uemp3m\", \"tporgwk\", \"hinctnta\", \"lrscale\", \"pspwght\"]]\n",
    "base_indiv = base_indiv.rename(columns={'pspwght' : 'weight'})\n",
    "base_indiv.describe()"
   ]
  },
  {
   "cell_type": "markdown",
   "metadata": {},
   "source": [
    "On peut faire apparaître les valeurs manquantes de façon plus lisible."
   ]
  },
  {
   "cell_type": "code",
   "execution_count": 10,
   "metadata": {},
   "outputs": [
    {
     "data": {
      "text/plain": [
       "ess8_id        0\n",
       "nuts2          0\n",
       "ppltrst        0\n",
       "cptppola      15\n",
       "trstplt       11\n",
       "ccnthum       46\n",
       "polintr        1\n",
       "vote          67\n",
       "pbldmn         2\n",
       "bctprd         5\n",
       "pstplonl       2\n",
       "mbtru          7\n",
       "stflife        2\n",
       "stfedu        20\n",
       "stfhlth        5\n",
       "aesfdrk       48\n",
       "health         2\n",
       "gincdif       14\n",
       "euftf         81\n",
       "imwbcnt       27\n",
       "ipstrgv       21\n",
       "mnrgtjb        6\n",
       "freehms       19\n",
       "imptrad       14\n",
       "rlgblg         8\n",
       "blgetmg       39\n",
       "crmvct         2\n",
       "prtvtcfr    1011\n",
       "gndr           0\n",
       "agea           1\n",
       "chldhm         0\n",
       "edlvdfr        2\n",
       "uemp3m         4\n",
       "tporgwk      134\n",
       "hinctnta     186\n",
       "lrscale      154\n",
       "weight         0\n",
       "dtype: int64"
      ]
     },
     "execution_count": 10,
     "metadata": {},
     "output_type": "execute_result"
    }
   ],
   "source": [
    "base_indiv.isnull().sum()"
   ]
  },
  {
   "cell_type": "markdown",
   "metadata": {},
   "source": [
    "On s'aperçoit que seule la variable prtvtcfr (parti choisi aux dernières élections nationales) a plus de 10% de valeurs manquantes. Comment expliquer cette lacune pour cette variable ? La variable vote (qui prend la valeur 1 quand l'individu a voté aux dernières élections, 2 quand il n'a pas voté et 3 quand il ne pouvait pas voter) donne un premier élément de réponse à cette question."
   ]
  },
  {
   "cell_type": "code",
   "execution_count": 14,
   "metadata": {},
   "outputs": [
    {
     "data": {
      "text/plain": [
       "1.0    1199\n",
       "2.0     553\n",
       "3.0     251\n",
       "Name: vote, dtype: int64"
      ]
     },
     "execution_count": 14,
     "metadata": {},
     "output_type": "execute_result"
    }
   ],
   "source": [
    "base_indiv['vote'].value_counts()"
   ]
  },
  {
   "cell_type": "code",
   "execution_count": 21,
   "metadata": {},
   "outputs": [
    {
     "data": {
      "text/plain": [
       "140"
      ]
     },
     "execution_count": 21,
     "metadata": {},
     "output_type": "execute_result"
    }
   ],
   "source": [
    "base_indiv['vote'][base_indiv['vote']==1].count() - base_indiv[base_indiv['prtvtcfr'].notnull()]['prtvtcfr'].count()"
   ]
  },
  {
   "cell_type": "code",
   "execution_count": 19,
   "metadata": {},
   "outputs": [
    {
     "data": {
      "text/plain": [
       "2070"
      ]
     },
     "execution_count": 19,
     "metadata": {},
     "output_type": "execute_result"
    }
   ],
   "source": [
    "base_indiv['prtvtcfr'].notnull().count()"
   ]
  },
  {
   "cell_type": "markdown",
   "metadata": {},
   "source": [
    "Les valeurs manquantes s'expliquent donc par les abstentionnistes (553), les non-inscrits sur les listes électorales (251) et ceux n'ayant pas voulu dire pour qui ils avaient voté (140). "
   ]
  },
  {
   "cell_type": "markdown",
   "metadata": {},
   "source": [
    "### Proxy confiance"
   ]
  },
  {
   "cell_type": "markdown",
   "metadata": {},
   "source": [
    "### Modèles variables subjectives"
   ]
  }
 ],
 "metadata": {
  "kernelspec": {
   "display_name": "Python 3",
   "language": "python",
   "name": "python3"
  },
  "language_info": {
   "codemirror_mode": {
    "name": "ipython",
    "version": 3
   },
   "file_extension": ".py",
   "mimetype": "text/x-python",
   "name": "python",
   "nbconvert_exporter": "python",
   "pygments_lexer": "ipython3",
   "version": "3.8.3"
  }
 },
 "nbformat": 4,
 "nbformat_minor": 4
}
