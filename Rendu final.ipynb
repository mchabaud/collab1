{
 "cells": [
  {
   "cell_type": "markdown",
   "metadata": {},
   "source": [
    "Principalement basé sur l’enquête les origines du populisme : enquête sur un schisme politique et social de Daniel Cohen, Martial Foucault et Yann Algan, notre projet tente d’expliquer causalement le populisme de droite, à la fois à l’aide de variables objectives et subjectives. Le livre référant est une vaste enquête électorale effectuée à l’échelle européenne essayant de dépasser les anciennes explications causales du vote populiste, notamment en utilisant des variables subjectives (principalement la confiance). Prenant comme base de données celle utilisée par les chercheurs, c’est-à-dire « l’european social survey -qui est une enquête  à l’échelle européenne faite tous les deux ans dans 35 pays différents- nous avons à notre disposition un nombre important de variables, à la fois objectives et subjectives, pouvant être regroupées en 8 catégories différentes : confiance sociale, politique, bien-être subjectif, changement climatique, bien-être objectif, caractéristiques sociodémographiques, caractéristiques du répondant et valeurs de l’individu."
    "\n",
    "Dans notre projet, nous restreignons l’étude à celle du vote populiste de droite en France en 2016. Nous caractérisons le populisme comme un mouvement de rejet des élites traditionnelles et d’un ordre établi, c’est-à-dire un discours antisystème regroupant des individus ayant comme dénominateur commun l’insécurité économique. Cependant, l’objet de notre étude se restreint au populisme de droite. Le populisme de gauche pouvant être caractérisée par une radicalisation de la pensée de la gauche dite classique (ayant grossièrement pour projet la réduction des inégalités), celui de droit apparait expliquée quant à lui par un mouvement de rejet de l’autre. En effet, suite à la dissolution de la société industrielle dite classiste -pouvant être représentée schématiquement par une opposition binaire de deux classes sociales qui se font face- la société post-industrielle émerge et tend à dissoudre l’individu dans une société où il peine à retrouver les institutions socialisantes qui ont forgé son identité durant la société industrielle (en d’autres termes, on observe le passage d’une société de classes à une société de masse). Notre projet part de ce constat, et des intuitions offertes par l’étude électorale, qui tend à expliquer le vote populiste de droite par un rapport à l’altérité brisé, un rapport à l’autre dissolu, en bref par des « clivages d’ordre subjectif»."
    "\n",
    "On va ainsi tenter d’expliquer le vote populiste de droite à l’aune de cette rupture anthropologique pouvant être modélisée par un proxy de la confiance construit à partir de différentes variables subjectives. Notre première étape consistera donc à expliquer le vote populiste de droite avec un modèle logit-binaire grâce à des proxys que l’on aura construits préalablement. Ces proxys tenteront de recouvrir 5 caractéristiques d’ordre subjectif des individus : la	 confiance mais aussi le bien-être subjectif, le progressisme, l’engagement et la sécurité. Cependant, il nous semble intéressant de pousser l’analyse et de tenter d’expliquer ces variables subjectives caractéristiques du vote populiste de droite par des variables objectives individuelles (telles que le salaire ou encore l’âge), ce que nous ferons dans un second temps. Enfin, nous verrons si ces variables subjectives individuelles peuvent être aussi expliquées par des variables objectives macro (à l’échelle d’une région) telles que le taux de chômage, le taux de croissance de la population, l’éducation ou encore le PIB par habitant."
   ]
  },
  {
   "cell_type": "code",
   "execution_count": null,
   "metadata": {},
   "outputs": [],
   "source": [
    "import numpy as np\n",
    "import pandas as pd\n",
    "import seaborn as sns\n",
    "import statsmodels as sm\n",
    "import statsmodels.api as st\n",
    "import statsmodels.formula.api as smf\n",
    "import urllib\n",
    "import bs4"
   ]
  },
  {
   "cell_type": "code",
   "execution_count": null,
   "metadata": {},
   "outputs": [],
   "source": []
  }
 ],
 "metadata": {
  "kernelspec": {
   "display_name": "Python 3",
   "language": "python",
   "name": "python3"
  },
  "language_info": {
   "codemirror_mode": {
    "name": "ipython",
    "version": 3
   },
   "file_extension": ".py",
   "mimetype": "text/x-python",
   "name": "python",
   "nbconvert_exporter": "python",
   "pygments_lexer": "ipython3",
   "version": "3.8.3"
  }
 },
 "nbformat": 4,
 "nbformat_minor": 4
}
